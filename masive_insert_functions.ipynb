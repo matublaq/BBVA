{
 "cells": [
  {
   "cell_type": "code",
   "execution_count": 2,
   "metadata": {},
   "outputs": [],
   "source": [
    "import sqlite3\n",
    "import psycopg2\n",
    "import pandas as pd\n",
    "from DataBase_functions import *\n",
    "\n",
    "#Google sheed API\n",
    "import gspread\n",
    "from google.oauth2.service_account import Credentials\n",
    "from oauth2client.service_account import ServiceAccountCredentials\n",
    "from googleapiclient.discovery import build\n",
    "from googleapiclient.http import MediaFileUpload"
   ]
  },
  {
   "cell_type": "markdown",
   "metadata": {},
   "source": [
    "<p style=\"font-size: 30px; text-align: center; color: skyblue;\">Creating data-frame</p>"
   ]
  },
  {
   "cell_type": "code",
   "execution_count": 81,
   "metadata": {},
   "outputs": [
    {
     "name": "stdout",
     "output_type": "stream",
     "text": [
      "Available sheeds: ['2024 totales - Peticiones', '2024 totales - Peticiones - Pro', '2024', 'Gráficos Semanales - Procesos', '2024 - Procesos', 'Abril', 'Mayo', 'Julio', 'Junio', 'Agosto', 'Septiembre', 'Octubre', 'Noviembre', 'Diciembre', 'Responsables']\n",
      "2024 totales - Peticiones is not a month\n",
      "2024 totales - Peticiones - Pro is not a month\n",
      "2024 is not a month\n",
      "Gráficos Semanales - Procesos is not a month\n",
      "2024 - Procesos is not a month\n",
      "Responsables is not a month\n"
     ]
    }
   ],
   "source": [
    "# Email service account that need to share the google sheet\n",
    "service_account_email = \"matiasblaquier@theta-voyager-406314.iam.gserviceaccount.com\"\n",
    "#email that need to share the google sheet = matiasblaquier@theta-voyager-406314.iam.gserviceaccount.com\n",
    "\n",
    "scope = [\n",
    "    'https://spreadsheets.google.com/feeds', \n",
    "    'https://www.googleapis.com/auth/spreadsheets',\n",
    "    'https://www.googleapis.com/auth/drive'\n",
    "    ]\n",
    "\n",
    "credentials = \"credentials.json\"\n",
    "\n",
    "try: \n",
    "    #Cargar credenciales\n",
    "    creds = ServiceAccountCredentials.from_json_keyfile_name(credentials, scope)\n",
    "\n",
    "    #Autorizar gspread con las credenciales\n",
    "    client = gspread.authorize(creds)\n",
    "\n",
    "    # ID de la hoja de cálculo \n",
    "    srpeadsheet_id = \"12qLRAp7C9qzcoWkyUTJAVMhRHMFfwYec094J8CU2t7c\" #Registro actividad todos: 12qLRAp7C9qzcoWkyUTJAVMhRHMFfwYec094J8CU2t7c\n",
    "\n",
    "    # Open the Google Sheet file by ID\n",
    "    spreadsheet = client.open_by_key(srpeadsheet_id)\n",
    "\n",
    "    # List all sheets file\n",
    "    sheets = spreadsheet.worksheets()\n",
    "    print(f\"Available sheeds: {[sheet.title for sheet in sheets]}\")\n",
    "\n",
    "    #Dataframe con los datos de todos los meses\n",
    "    df = pd.DataFrame(columns=[\"Fecha de alta\", \"Fecha incurrida\", \"Fecha de fin\", \"UUAA\", \"Código\", \"SDATOOL\", \"Feature\", \"Petición\", \"Geografía\", \"Gestor BBDD\", \"Ámbito\", \"Responsable\", \"Validada\", \"Horas\", \"Comentarios\"]) \n",
    "    meses = [\"Enero\", \"Febrero\", \"Marzo\", \"Abril\", \"Mayo\", \"Junio\", \"Julio\", \"Agosto\", \"Septiembre\", \"Octubre\", \"Noviembre\", \"Diciembre\"]\n",
    "    for sheet in sheets:\n",
    "        sheet_name = sheet.title \n",
    "        if sheet_name in meses:\n",
    "            df_aux = pd.DataFrame(sheet.get_all_records(expected_headers=[\"Fecha de alta\", \"Fecha incurrida\", \"Fecha de fin\", \"UUAA\", \"Código\", \"SDATOOL\", \"Feature\", \"Petición\", \"Geografía\", \"Gestor BBDD\", \"Ámbito\", \"Responsable\", \"Validada\", \"Horas\", \"Comentarios\"]))\n",
    "            df = pd.concat([df, df_aux], ignore_index=True)\n",
    "        else: \n",
    "            print(sheet_name, \"is not a month\")\n",
    "            pass\n",
    "    #df = df.drop_duplicates(subset='Código', keep='first')\n",
    "    #print(df)\n",
    "\n",
    "    #Dataframe with 2024 sheet data\n",
    "    sheet_2024 = spreadsheet.worksheet(\"2024\")\n",
    "    df_2024 = pd.DataFrame(sheet_2024.get_all_records(expected_headers=[\"Fecha de alta\", \"Fecha incurrida\", \"Fecha de fin\", \"UUAA\", \"Código\", \"SDATOOL\", \"Feature\", \"Petición\", \"Geografía\", \"Gestor BBDD\", \"Ámbito\", \"Responsable\", \"Validada\", \"Horas\", \"Comentarios\"]))\n",
    "    #df_2024 = df_2024.drop_duplicates(subset='Código', keep='first')\n",
    "    #print(df_2024)\n",
    "\n",
    "    df = pd.concat([df, df_2024], ignore_index=True)\n",
    "    df = df.drop_duplicates(subset=\"Código\", keep=\"first\")\n",
    "    \n",
    "    #Dataframe validation\n",
    "    dr.rename(columns={\"Petición\": \"petition_code\", \"Feature\": \"feature\", \"SDATOOL\": \"sdatool\", \"Código\": \"DQDP_code\", \"Gestor DDBB\": \"DDBB\", \"Horas\": \"duration_time\", \"Comentarios\": \"description\", \"Fecha de alta\": \"fecha_in\", \"Fecha de fin\": \"fecha out\"}, inplace=True)\n",
    "\n",
    "    df[\"fecha_in\"] = df[\"fecha_in\"].astype(str)\n",
    "    df[\"Fecha incurrida\"] = df[\"Fecha incurrida\"].astype(str)\n",
    "    df[\"fecha_out\"] = df[\"fecha_out\"].astype(str)\n",
    "    df[\"UUAA\"] = df[\"UUAA\"].astype(str)\n",
    "    df[\"DQDP_code\"] = df[\"DQDP_code\"].astype(str)\n",
    "    df[\"sdatool\"] = df[\"sdatool\"].astype(str)\n",
    "    df[\"feature\"] = df[\"feature\"].astype(str)\n",
    "    df[\"petition_code\"] = df[\"petition_code\"].astype(str)\n",
    "    df[\"Geografía\"] = df[\"Geografía\"].astype(str)\n",
    "    df[\"Gestor BBDD\"] = df[\"Gestor BBDD\"].astype(str)\n",
    "    df[\"Ámbito\"] = df[\"Ámbito\"].astype(str)\n",
    "    df[\"Responsable\"] = df[\"Responsable\"].astype(str)\n",
    "    df[\"Validada\"] = df[\"Validada\"].astype(str)\n",
    "    df[\"duration_time\"] = df[\"duration_time\"].astype(float)\n",
    "    df[\"description\"] = df[\"description\"].astype(str)\n",
    "\n",
    "\n",
    "\n",
    "except gspread.exceptions.APIError as e:\n",
    "    print(f\"APIError: {e}\")\n",
    "\n",
    "except Exception as e:\n",
    "    print(f\"Error: {e}\")"
   ]
  },
  {
   "cell_type": "code",
   "execution_count": 82,
   "metadata": {},
   "outputs": [
    {
     "name": "stdout",
     "output_type": "stream",
     "text": [
      "(1739, 18) Index(['Fecha de alta', 'Fecha incurrida', 'Fecha de fin', 'UUAA', 'Código',\n",
      "       'SDATOOL', 'Feature', 'Petición', 'Geografía', 'Gestor BBDD', 'Ámbito',\n",
      "       'Responsable', 'Validada', 'Horas', 'Comentarios', 'Estado', 'Días',\n",
      "       ''],\n",
      "      dtype='object')\n"
     ]
    }
   ],
   "source": [
    "print(df.shape, df.columns)\n"
   ]
  },
  {
   "cell_type": "code",
   "execution_count": 112,
   "metadata": {},
   "outputs": [
    {
     "data": {
      "text/plain": [
       "array([<class 'str'>], dtype=object)"
      ]
     },
     "execution_count": 112,
     "metadata": {},
     "output_type": "execute_result"
    }
   ],
   "source": [
    "df[\"Fecha de fin\"].apply(type).unique()"
   ]
  },
  {
   "cell_type": "markdown",
   "metadata": {},
   "source": [
    "<p style=\"font-size: 40px; color: grey;\">Testing</p>"
   ]
  },
  {
   "cell_type": "code",
   "execution_count": 122,
   "metadata": {},
   "outputs": [
    {
     "name": "stdout",
     "output_type": "stream",
     "text": [
      "Matias\n",
      "Blaquier\n",
      "27\n",
      "1\n",
      "0\n"
     ]
    }
   ],
   "source": [
    "diccionario = {\"Nombre\": \"Matias\", \"Apellido\": \"Blaquier\", \"Edad\": 27}\n",
    "for key, value in diccionario.items(): \n",
    "    print(value)\n",
    "\n",
    "###########\n",
    "str_test = \" \"\n",
    "print(len(str_test))\n",
    "print(len(str_test.strip()))"
   ]
  },
  {
   "cell_type": "code",
   "execution_count": null,
   "metadata": {},
   "outputs": [],
   "source": []
  }
 ],
 "metadata": {
  "kernelspec": {
   "display_name": "base",
   "language": "python",
   "name": "python3"
  },
  "language_info": {
   "codemirror_mode": {
    "name": "ipython",
    "version": 3
   },
   "file_extension": ".py",
   "mimetype": "text/x-python",
   "name": "python",
   "nbconvert_exporter": "python",
   "pygments_lexer": "ipython3",
   "version": "3.12.4"
  }
 },
 "nbformat": 4,
 "nbformat_minor": 2
}
