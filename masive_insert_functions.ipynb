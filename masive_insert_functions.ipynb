{
 "cells": [
  {
   "cell_type": "code",
   "execution_count": 1,
   "metadata": {},
   "outputs": [],
   "source": [
    "import sqlite3\n",
    "import psycopg2\n",
    "import pandas as pd\n",
    "from DataBase_functions import *\n",
    "from DataBase_functions_testing import *\n",
    "\n",
    "#Google sheed API\n",
    "import gspread\n",
    "from google.oauth2.service_account import Credentials\n",
    "from oauth2client.service_account import ServiceAccountCredentials\n",
    "from googleapiclient.discovery import build\n",
    "from googleapiclient.http import MediaFileUpload"
   ]
  },
  {
   "cell_type": "markdown",
   "metadata": {},
   "source": [
    "<p style=\"font-size: 30px; text-align: center; color: skyblue;\">Creating data-frame</p>"
   ]
  },
  {
   "cell_type": "code",
   "execution_count": 10,
   "metadata": {},
   "outputs": [
    {
     "name": "stdout",
     "output_type": "stream",
     "text": [
      "Available sheeds: ['2024 totales - Peticiones', '2024 totales - Peticiones - Pro', '2024', 'Gráficos Semanales - Procesos', '2024 - Procesos', 'Abril', 'Mayo', 'Julio', 'Junio', 'Agosto', 'Septiembre', 'Octubre', 'Noviembre', 'Diciembre', 'Responsables']\n",
      "2024 totales - Peticiones is not a month\n",
      "2024 totales - Peticiones - Pro is not a month\n",
      "2024 is not a month\n",
      "Gráficos Semanales - Procesos is not a month\n",
      "2024 - Procesos is not a month\n",
      "Responsables is not a month\n",
      "(4371, 18)\n",
      "(1974, 18)\n",
      "(1739, 18)\n"
     ]
    }
   ],
   "source": [
    "# Email service account that need to share the google sheet\n",
    "service_account_email = \"matiasblaquier@theta-voyager-406314.iam.gserviceaccount.com\"\n",
    "#email that need to share the google sheet = matiasblaquier@theta-voyager-406314.iam.gserviceaccount.com\n",
    "\n",
    "scope = [\n",
    "    'https://spreadsheets.google.com/feeds', \n",
    "    'https://www.googleapis.com/auth/spreadsheets',\n",
    "    'https://www.googleapis.com/auth/drive'\n",
    "    ]\n",
    "\n",
    "credentials = \"credentials.json\"\n",
    "\n",
    "try: \n",
    "    #Cargar credenciales\n",
    "    creds = ServiceAccountCredentials.from_json_keyfile_name(credentials, scope)\n",
    "\n",
    "    #Autorizar gspread con las credenciales\n",
    "    client = gspread.authorize(creds)\n",
    "\n",
    "    # ID de la hoja de cálculo \n",
    "    srpeadsheet_id = \"12qLRAp7C9qzcoWkyUTJAVMhRHMFfwYec094J8CU2t7c\" #Registro actividad todos: 12qLRAp7C9qzcoWkyUTJAVMhRHMFfwYec094J8CU2t7c\n",
    "\n",
    "    # Open the Google Sheet file by ID\n",
    "    spreadsheet = client.open_by_key(srpeadsheet_id)\n",
    "\n",
    "    # List all sheets file\n",
    "    sheets = spreadsheet.worksheets()\n",
    "    print(f\"Available sheeds: {[sheet.title for sheet in sheets]}\")\n",
    "\n",
    "    #Dataframe con los datos de todos los meses\n",
    "    df = pd.DataFrame(columns=[\"Fecha de alta\", \"Fecha incurrida\", \"Fecha de fin\", \"UUAA\", \"Código\", \"SDATOOL\", \"Feature\", \"Petición\", \"Geografía\", \"Gestor BBDD\", \"Ámbito\", \"Responsable\", \"Validada\", \"Horas\", \"Comentarios\"]) \n",
    "    meses = [\"Enero\", \"Febrero\", \"Marzo\", \"Abril\", \"Mayo\", \"Junio\", \"Julio\", \"Agosto\", \"Septiembre\", \"Octubre\", \"Noviembre\", \"Diciembre\"]\n",
    "    for sheet in sheets:\n",
    "        sheet_name = sheet.title \n",
    "        if sheet_name in meses:\n",
    "            df_aux = pd.DataFrame(sheet.get_all_records(expected_headers=[\"Fecha de alta\", \"Fecha incurrida\", \"Fecha de fin\", \"UUAA\", \"Código\", \"SDATOOL\", \"Feature\", \"Petición\", \"Geografía\", \"Gestor BBDD\", \"Ámbito\", \"Responsable\", \"Validada\", \"Horas\", \"Comentarios\"]))\n",
    "            df = pd.concat([df, df_aux], ignore_index=True)\n",
    "        else: \n",
    "            print(sheet_name, \"is not a month\")\n",
    "            pass\n",
    "    #df = df.drop_duplicates(subset='Código', keep='first')\n",
    "    print(df.shape)\n",
    "\n",
    "    #Dataframe with 2024 sheet data\n",
    "    sheet_2024 = spreadsheet.worksheet(\"2024\")\n",
    "    df_2024 = pd.DataFrame(sheet_2024.get_all_records(expected_headers=[\"Fecha de alta\", \"Fecha incurrida\", \"Fecha de fin\", \"UUAA\", \"Código\", \"SDATOOL\", \"Feature\", \"Petición\", \"Geografía\", \"Gestor BBDD\", \"Ámbito\", \"Responsable\", \"Validada\", \"Horas\", \"Comentarios\"]))\n",
    "    #df_2024 = df_2024.drop_duplicates(subset='Código', keep='first')\n",
    "    print(df_2024.shape)\n",
    "\n",
    "    df = pd.concat([df, df_2024], ignore_index=True)\n",
    "    df = df.drop_duplicates(subset=\"Código\", keep=\"first\")\n",
    "    print(df.shape)\n",
    "\n",
    "    #Dataframe validation\n",
    "    df.rename(columns={\"Validada\": \"validada\", \"Responsable\": \"responsable\", \"Gestor DDBB\": \"DDBB\", \"Geografía\": \"geography\", \"Petición\": \"petition_code\", \"Feature\": \"feature\", \"SDATOOL\": \"sdatool\", \"Código\": \"DQDP_code\", \"Gestor BBDD\": \"DDBB\", \"Horas\": \"duration_time\", \"Comentarios\": \"description\", \"Fecha de alta\": \"fecha_in\", \"Fecha de fin\": \"fecha_out\"}, inplace=True)\n",
    "\n",
    "    df[\"fecha_in\"] = df[\"fecha_in\"].astype(str)\n",
    "    df[\"Fecha incurrida\"] = df[\"Fecha incurrida\"].astype(str)\n",
    "    df[\"fecha_out\"] = df[\"fecha_out\"].astype(str)\n",
    "    df[\"UUAA\"] = df[\"UUAA\"].astype(str)\n",
    "    df[\"DQDP_code\"] = df[\"DQDP_code\"].astype(str)\n",
    "    df[\"sdatool\"] = df[\"sdatool\"].astype(str)\n",
    "    df[\"feature\"] = df[\"feature\"].astype(str)\n",
    "    df[\"geography\"] = df[\"geography\"].astype(str)\n",
    "    df[\"DDBB\"] = df[\"DDBB\"].astype(str)\n",
    "    df[\"Ámbito\"] = df[\"Ámbito\"].astype(str)\n",
    "    df[\"responsable\"] = df[\"responsable\"].astype(str)\n",
    "    df[\"validada\"] = df[\"validada\"].astype(str)\n",
    "    df[\"duration_time\"] = pd.to_numeric(df[\"duration_time\"], errors=\"coerce\")\n",
    "    df[\"description\"] = df[\"description\"].astype(str)\n",
    "\n",
    "    df[\"version_date\"] = \"Nan\"\n",
    "    df[\"version\"] = \"Nan\"\n",
    "    df[\"petition_arq\"] = \"Nan\"\n",
    "    df[\"dev_master\"] = \"Nan\"\n",
    "    df[\"estado\"] = \"Nan\"\n",
    "\n",
    "except gspread.exceptions.APIError as e:\n",
    "    print(f\"APIError: {e}\")\n",
    "\n",
    "except Exception as e:\n",
    "    print(f\"Error: {e}\")"
   ]
  },
  {
   "cell_type": "code",
   "execution_count": 11,
   "metadata": {},
   "outputs": [
    {
     "name": "stdout",
     "output_type": "stream",
     "text": [
      "(1739, 23) Index(['fecha_in', 'Fecha incurrida', 'fecha_out', 'UUAA', 'DQDP_code',\n",
      "       'sdatool', 'feature', 'petition_code', 'geography', 'DDBB', 'Ámbito',\n",
      "       'responsable', 'validada', 'duration_time', 'description', 'Estado',\n",
      "       'Días', '', 'version_date', 'version', 'petition_arq', 'dev_master',\n",
      "       'estado'],\n",
      "      dtype='object')\n",
      "fecha_in            263\n",
      "Fecha incurrida      55\n",
      "fecha_out           391\n",
      "UUAA                  0\n",
      "DQDP_code             0\n",
      "sdatool               0\n",
      "feature               0\n",
      "petition_code         0\n",
      "geography           268\n",
      "DDBB                170\n",
      "Ámbito              170\n",
      "responsable         631\n",
      "validada            854\n",
      "duration_time        72\n",
      "description           0\n",
      "Estado             1150\n",
      "Días               1296\n",
      "                    458\n",
      "version_date       1739\n",
      "version               0\n",
      "petition_arq          0\n",
      "dev_master         1739\n",
      "estado             1739\n",
      "dtype: int64\n"
     ]
    }
   ],
   "source": [
    "for row in df.iterrows(): \n",
    "    for key, value in dict(row[1]).items():\n",
    "        if value == \"Nan\" or value == None or value == \"\" or value == \"None\": \n",
    "            if key == \"petition_code\" or key == \"DQDP_code\" or key == \"sdatool\" or key == \"feature\" or key == \"UUAA\" or key == \"version\" or key == \"petition_arq\" or key == \"description\":\n",
    "                df.at[row[0], key] = \"None\"\n",
    "            else: \n",
    "                df.at[row[0], key] = None\n",
    "print(df.shape, df.columns)\n",
    "print(df.isna().sum())"
   ]
  },
  {
   "cell_type": "code",
   "execution_count": 12,
   "metadata": {},
   "outputs": [
    {
     "ename": "OperationalError",
     "evalue": "table Power_Design has no column named version_date",
     "output_type": "error",
     "traceback": [
      "\u001b[1;31m---------------------------------------------------------------------------\u001b[0m",
      "\u001b[1;31mOperationalError\u001b[0m                          Traceback (most recent call last)",
      "Cell \u001b[1;32mIn[12], line 2\u001b[0m\n\u001b[0;32m      1\u001b[0m \u001b[38;5;28;01mfor\u001b[39;00m row \u001b[38;5;129;01min\u001b[39;00m df\u001b[38;5;241m.\u001b[39miterrows():\n\u001b[1;32m----> 2\u001b[0m     insert_data_testing(\u001b[38;5;28mdict\u001b[39m(row[\u001b[38;5;241m1\u001b[39m]))\n",
      "File \u001b[1;32mc:\\Users\\matia\\OneDrive\\Documentos\\GitHub\\BBVA\\DataBase_functions_testing.py:194\u001b[0m, in \u001b[0;36minsert_data_testing\u001b[1;34m(petition_info)\u001b[0m\n\u001b[0;32m    192\u001b[0m pwd_records \u001b[38;5;241m=\u001b[39m cursor1\u001b[38;5;241m.\u001b[39mfetchall()\n\u001b[0;32m    193\u001b[0m \u001b[38;5;28;01mif\u001b[39;00m \u001b[38;5;129;01mnot\u001b[39;00m [petition_info[\u001b[38;5;124m'\u001b[39m\u001b[38;5;124mUUAA\u001b[39m\u001b[38;5;124m'\u001b[39m], petition_info[\u001b[38;5;124m'\u001b[39m\u001b[38;5;124mgeography\u001b[39m\u001b[38;5;124m'\u001b[39m], petition_info[\u001b[38;5;124m'\u001b[39m\u001b[38;5;124mDDBB\u001b[39m\u001b[38;5;124m'\u001b[39m], petition_info[\u001b[38;5;124m'\u001b[39m\u001b[38;5;124mdev_master\u001b[39m\u001b[38;5;124m'\u001b[39m]] \u001b[38;5;129;01min\u001b[39;00m [record[\u001b[38;5;241m0\u001b[39m] \u001b[38;5;28;01mfor\u001b[39;00m record \u001b[38;5;129;01min\u001b[39;00m pwd_records]:\n\u001b[1;32m--> 194\u001b[0m     cursor1\u001b[38;5;241m.\u001b[39mexecute(\u001b[38;5;124m\"\u001b[39m\u001b[38;5;124mINSERT INTO Power_Design (UUAA, geography, DDBB, dev_master, version, version_date, description) VALUES (?, ?, ?, ?, ?, ?, ?)\u001b[39m\u001b[38;5;124m\"\u001b[39m, (petition_info[\u001b[38;5;124m'\u001b[39m\u001b[38;5;124mUUAA\u001b[39m\u001b[38;5;124m'\u001b[39m], petition_info[\u001b[38;5;124m'\u001b[39m\u001b[38;5;124mgeography\u001b[39m\u001b[38;5;124m'\u001b[39m], petition_info[\u001b[38;5;124m'\u001b[39m\u001b[38;5;124mDDBB\u001b[39m\u001b[38;5;124m'\u001b[39m], petition_info[\u001b[38;5;124m'\u001b[39m\u001b[38;5;124mdev_master\u001b[39m\u001b[38;5;124m'\u001b[39m], petition_info[\u001b[38;5;124m'\u001b[39m\u001b[38;5;124mversion\u001b[39m\u001b[38;5;124m'\u001b[39m], petition_info[\u001b[38;5;124m'\u001b[39m\u001b[38;5;124mversion_date\u001b[39m\u001b[38;5;124m'\u001b[39m], petition_info[\u001b[38;5;124m'\u001b[39m\u001b[38;5;124mdescription\u001b[39m\u001b[38;5;124m'\u001b[39m], )) \u001b[38;5;66;03m#SQLite3\u001b[39;00m\n\u001b[0;32m    196\u001b[0m \u001b[38;5;66;03m###########################################################################################################################\u001b[39;00m\n\u001b[0;32m    197\u001b[0m \u001b[38;5;66;03m#If petition_code, UUAA, geography_id, dev_master already exists? Insert data into Peticion_PWD table\u001b[39;00m\n\u001b[0;32m    198\u001b[0m cursor1\u001b[38;5;241m.\u001b[39mexecute(\u001b[38;5;124m\"\u001b[39m\u001b[38;5;124mSELECT petition_code, UUAA, geography, DDBB, dev_master FROM Peticion_PWD\u001b[39m\u001b[38;5;124m\"\u001b[39m)\n",
      "\u001b[1;31mOperationalError\u001b[0m: table Power_Design has no column named version_date"
     ]
    }
   ],
   "source": [
    "for row in df.iterrows():\n",
    "    insert_data_testing(dict(row[1]))"
   ]
  },
  {
   "cell_type": "markdown",
   "metadata": {},
   "source": [
    "<p style=\"font-size: 40px; color: grey;\">Testing</p>"
   ]
  },
  {
   "cell_type": "code",
   "execution_count": 5,
   "metadata": {},
   "outputs": [
    {
     "name": "stdout",
     "output_type": "stream",
     "text": [
      "Matias\n",
      "Blaquier\n",
      "27\n",
      "1\n",
      "0\n"
     ]
    }
   ],
   "source": [
    "diccionario = {\"Nombre\": \"Matias\", \"Apellido\": \"Blaquier\", \"Edad\": 27}\n",
    "for key, value in diccionario.items(): \n",
    "    print(value)\n",
    "\n",
    "###########\n",
    "str_test = \" \"\n",
    "print(len(str_test))\n",
    "print(len(str_test.strip()))"
   ]
  },
  {
   "cell_type": "code",
   "execution_count": null,
   "metadata": {},
   "outputs": [],
   "source": []
  }
 ],
 "metadata": {
  "kernelspec": {
   "display_name": "base",
   "language": "python",
   "name": "python3"
  },
  "language_info": {
   "codemirror_mode": {
    "name": "ipython",
    "version": 3
   },
   "file_extension": ".py",
   "mimetype": "text/x-python",
   "name": "python",
   "nbconvert_exporter": "python",
   "pygments_lexer": "ipython3",
   "version": "3.12.4"
  }
 },
 "nbformat": 4,
 "nbformat_minor": 2
}
