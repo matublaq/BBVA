{
 "cells": [
  {
   "cell_type": "code",
   "execution_count": 2,
   "metadata": {},
   "outputs": [],
   "source": [
    "import sqlite3\n",
    "import psycopg2\n",
    "import pandas as pd\n",
    "from DataBase_functions import *\n",
    "from DataBase_functions_testing import *\n",
    "\n",
    "#Google sheed API\n",
    "import gspread\n",
    "from google.oauth2.service_account import Credentials\n",
    "from oauth2client.service_account import ServiceAccountCredentials\n",
    "from googleapiclient.discovery import build\n",
    "from googleapiclient.http import MediaFileUpload"
   ]
  },
  {
   "cell_type": "markdown",
   "metadata": {},
   "source": [
    "<p style=\"font-size: 30px; text-align: center; color: #20a7e5;\">Creating data-frame</p>"
   ]
  },
  {
   "cell_type": "markdown",
   "metadata": {},
   "source": [
    "<p style=\"font-size: 25px; color: #208ee5\">Registro actividad todos</p>"
   ]
  },
  {
   "cell_type": "code",
   "execution_count": 3,
   "metadata": {},
   "outputs": [
    {
     "name": "stdout",
     "output_type": "stream",
     "text": [
      "Available sheeds: ['2024 totales - Peticiones', '2024 totales - Peticiones - Pro', '2024', 'Gráficos Semanales - Procesos', '2024 - Procesos', 'Abril', 'Mayo', 'Julio', 'Junio', 'Agosto', 'Septiembre', 'Octubre', 'Noviembre', 'Diciembre', 'Responsables']\n",
      "2024 totales - Peticiones is not a month\n",
      "2024 totales - Peticiones - Pro is not a month\n",
      "2024 is not a month\n",
      "Gráficos Semanales - Procesos is not a month\n",
      "2024 - Procesos is not a month\n",
      "Responsables is not a month\n",
      "(4371, 18)\n",
      "(1974, 18)\n",
      "(1739, 18)\n"
     ]
    }
   ],
   "source": [
    "# Email service account that need to share the google sheet\n",
    "service_account_email = \"matiasblaquier@theta-voyager-406314.iam.gserviceaccount.com\"\n",
    "#email that need to share the google sheet = matiasblaquier@theta-voyager-406314.iam.gserviceaccount.com\n",
    "\n",
    "scope = [\n",
    "    'https://spreadsheets.google.com/feeds', \n",
    "    'https://www.googleapis.com/auth/spreadsheets',\n",
    "    'https://www.googleapis.com/auth/drive'\n",
    "    ]\n",
    "\n",
    "credentials = \"credentials.json\"\n",
    "\n",
    "try: \n",
    "    #Cargar credenciales\n",
    "    creds = ServiceAccountCredentials.from_json_keyfile_name(credentials, scope)\n",
    "\n",
    "    #Autorizar gspread con las credenciales\n",
    "    client = gspread.authorize(creds)\n",
    "\n",
    "    # ID de la hoja de cálculo \n",
    "    srpeadsheet_id = \"12qLRAp7C9qzcoWkyUTJAVMhRHMFfwYec094J8CU2t7c\" #Registro actividad todos: 12qLRAp7C9qzcoWkyUTJAVMhRHMFfwYec094J8CU2t7c\n",
    "\n",
    "    # Open the Google Sheet file by ID\n",
    "    spreadsheet = client.open_by_key(srpeadsheet_id)\n",
    "\n",
    "    # List all sheets file\n",
    "    sheets = spreadsheet.worksheets()\n",
    "    print(f\"Available sheeds: {[sheet.title for sheet in sheets]}\")\n",
    "\n",
    "    #Dataframe con los datos de todos los meses\n",
    "    df = pd.DataFrame(columns=[\"Fecha de alta\", \"Fecha incurrida\", \"Fecha de fin\", \"UUAA\", \"Código\", \"SDATOOL\", \"Feature\", \"Petición\", \"Geografía\", \"Gestor BBDD\", \"Ámbito\", \"Responsable\", \"Validada\", \"Horas\", \"Comentarios\"]) \n",
    "    meses = [\"Enero\", \"Febrero\", \"Marzo\", \"Abril\", \"Mayo\", \"Junio\", \"Julio\", \"Agosto\", \"Septiembre\", \"Octubre\", \"Noviembre\", \"Diciembre\"]\n",
    "    for sheet in sheets:\n",
    "        sheet_name = sheet.title \n",
    "        if sheet_name in meses:\n",
    "            df_aux = pd.DataFrame(sheet.get_all_records(expected_headers=[\"Fecha de alta\", \"Fecha incurrida\", \"Fecha de fin\", \"UUAA\", \"Código\", \"SDATOOL\", \"Feature\", \"Petición\", \"Geografía\", \"Gestor BBDD\", \"Ámbito\", \"Responsable\", \"Validada\", \"Horas\", \"Comentarios\"]))\n",
    "            df = pd.concat([df, df_aux], ignore_index=True)\n",
    "        else: \n",
    "            print(sheet_name, \"is not a month\")\n",
    "            pass\n",
    "    #df = df.drop_duplicates(subset='Código', keep='first')\n",
    "    print(df.shape)\n",
    "\n",
    "    #Dataframe with 2024 sheet data\n",
    "    sheet_2024 = spreadsheet.worksheet(\"2024\")\n",
    "    df_2024 = pd.DataFrame(sheet_2024.get_all_records(expected_headers=[\"Fecha de alta\", \"Fecha incurrida\", \"Fecha de fin\", \"UUAA\", \"Código\", \"SDATOOL\", \"Feature\", \"Petición\", \"Geografía\", \"Gestor BBDD\", \"Ámbito\", \"Responsable\", \"Validada\", \"Horas\", \"Comentarios\"]))\n",
    "    #df_2024 = df_2024.drop_duplicates(subset='Código', keep='first')\n",
    "    print(df_2024.shape)\n",
    "\n",
    "    df = pd.concat([df, df_2024], ignore_index=True)\n",
    "    df = df.drop_duplicates(subset=\"Código\", keep=\"first\")\n",
    "    print(df.shape)\n",
    "\n",
    "    #Dataframe validation\n",
    "    df.rename(columns={\"Validada\": \"validada\", \"Responsable\": \"responsable\", \"Gestor DDBB\": \"DDBB\", \"Geografía\": \"geography\", \"Petición\": \"petition_code\", \"Feature\": \"feature\", \"SDATOOL\": \"sdatool\", \"Código\": \"DQDP_code\", \"Gestor BBDD\": \"DDBB\", \"Horas\": \"duration_time\", \"Comentarios\": \"description\", \"Fecha de alta\": \"fecha_in\", \"Fecha de fin\": \"fecha_out\"}, inplace=True)\n",
    "\n",
    "    df[\"fecha_in\"] = df[\"fecha_in\"].astype(str)\n",
    "    df[\"Fecha incurrida\"] = df[\"Fecha incurrida\"].astype(str)\n",
    "    df[\"fecha_out\"] = df[\"fecha_out\"].astype(str)\n",
    "    df[\"UUAA\"] = df[\"UUAA\"].astype(str)\n",
    "    df[\"DQDP_code\"] = df[\"DQDP_code\"].astype(str)\n",
    "    df[\"sdatool\"] = df[\"sdatool\"].astype(str)\n",
    "    df[\"feature\"] = df[\"feature\"].astype(str)\n",
    "    df[\"geography\"] = df[\"geography\"].astype(str)\n",
    "    df[\"DDBB\"] = df[\"DDBB\"].astype(str)\n",
    "    df[\"Ámbito\"] = df[\"Ámbito\"].astype(str)\n",
    "    df[\"responsable\"] = df[\"responsable\"].astype(str)\n",
    "    df[\"validada\"] = df[\"validada\"].astype(str)\n",
    "    df[\"duration_time\"] = pd.to_numeric(df[\"duration_time\"], errors=\"coerce\")\n",
    "    df[\"description\"] = df[\"description\"].astype(str)\n",
    "    df[\"petition_code\"] = df[\"petition_code\"].astype(str)\n",
    "\n",
    "    df[\"version_date\"] = \"Nan\"\n",
    "    df[\"version\"] = \"Nan\"\n",
    "    df[\"petition_arq\"] = \"Nan\"\n",
    "    df[\"dev_master\"] = \"Nan\"\n",
    "    df[\"estado\"] = \"Nan\"\n",
    "\n",
    "except gspread.exceptions.APIError as e:\n",
    "    print(f\"APIError: {e}\")\n",
    "\n",
    "except Exception as e:\n",
    "    print(f\"Error: {e}\")"
   ]
  },
  {
   "cell_type": "code",
   "execution_count": 4,
   "metadata": {},
   "outputs": [
    {
     "name": "stdout",
     "output_type": "stream",
     "text": [
      "(1739, 23) Index(['fecha_in', 'Fecha incurrida', 'fecha_out', 'UUAA', 'DQDP_code',\n",
      "       'sdatool', 'feature', 'petition_code', 'geography', 'DDBB', 'Ámbito',\n",
      "       'responsable', 'validada', 'duration_time', 'description', 'Estado',\n",
      "       'Días', '', 'version_date', 'version', 'petition_arq', 'dev_master',\n",
      "       'estado'],\n",
      "      dtype='object')\n",
      "fecha_in            263\n",
      "Fecha incurrida      55\n",
      "fecha_out           391\n",
      "UUAA                  0\n",
      "DQDP_code             0\n",
      "sdatool               0\n",
      "feature               0\n",
      "petition_code         0\n",
      "geography           268\n",
      "DDBB                170\n",
      "Ámbito              170\n",
      "responsable         631\n",
      "validada            854\n",
      "duration_time        72\n",
      "description           0\n",
      "Estado             1150\n",
      "Días               1296\n",
      "                    458\n",
      "version_date       1739\n",
      "version               0\n",
      "petition_arq          0\n",
      "dev_master         1739\n",
      "estado             1739\n",
      "dtype: int64\n"
     ]
    }
   ],
   "source": [
    "for row in df.iterrows(): \n",
    "    for key, value in dict(row[1]).items():\n",
    "        if value == \"Nan\" or value == None or value == \"\" or value == \"None\": \n",
    "            if key == \"petition_code\" or key == \"DQDP_code\" or key == \"sdatool\" or key == \"feature\" or key == \"UUAA\" or key == \"version\" or key == \"petition_arq\" or key == \"description\":\n",
    "                df.at[row[0], key] = \"None\"\n",
    "            else: \n",
    "                df.at[row[0], key] = None\n",
    "print(df.shape, df.columns)\n",
    "print(df.isna().sum())"
   ]
  },
  {
   "cell_type": "markdown",
   "metadata": {},
   "source": [
    "<p style=\"font-size: 25px; color: #208ee5; text-align: center;\">Peticiones globales Oracle, Elastic Search y Mongo DB</p>"
   ]
  },
  {
   "cell_type": "markdown",
   "metadata": {},
   "source": [
    "<p style=\"font-size: 25px; color: #208cc5;;\">Oracle Physics</p>"
   ]
  },
  {
   "cell_type": "code",
   "execution_count": 5,
   "metadata": {},
   "outputs": [
    {
     "name": "stdout",
     "output_type": "stream",
     "text": [
      "Available sheeds: ['APIC', 'ATAU', 'B1DS', 'B43T', 'BJP9', 'CCUS', 'DAMS', 'DMTO', 'EGRP', 'EI4M', 'ESCD', 'FZHI', 'GDEL', 'GHDC', 'GJSX', 'GSIN', 'GUAR', 'H9IY', 'HFPP', 'HLCY', 'HPGR', 'IMPT', 'J6G7', 'K5VI', 'KAPI', 'KARC', 'KBGE', 'KBTQ', 'KCCX', 'KCDO', 'KCMC', 'KCMS', 'KCNC', 'KCNS', 'KCOG', 'KCOL', 'KCSN', 'KCSP', 'KDCL', 'KDFH', 'KDMG', 'KERF', 'KESJ', 'KFGC', 'KFRE', 'KFUL', 'KGCC', 'KGCI', 'KGTP', 'KIFV', 'KIVS', 'KLIM', 'KLNE', 'KMET', 'KMIC', 'KMOL', 'KMRK', 'KMYC', 'KNWD', 'KOMN', 'KONB', 'KPAG', 'KPAD', 'KPAY', 'KPDA', 'KPDR', 'KPFE', 'KPFM', 'KPIG', 'KPPS', 'KPST', 'KRBA', 'KRCE', 'KSAG', 'KSAN', 'KSDD', 'KSPH', 'KSRO', 'KUSU', 'KVCS', 'KXSG', 'KYSZ', 'KYOP', 'KYUB', 'MCRR', 'MFCG ', 'MK0W', 'MDDM', 'NI0C', 'O43T', 'PGVC', 'PIVU', 'PMSC', 'PMSV', 'P6ES', 'QWJR', 'QWPJ', 'RLR7', 'SWP3', 'S47B', 'UGX2', 'V34F', 'VAMO', 'W1BD', 'XBOB', 'ZGR7', 'XMBR', 'XR6Z', 'ZDNM', 'ZNXD']\n",
      "Quota exceeded. Retrying in 6 seconds...\n",
      "Quota exceeded. Retrying in 6 seconds...\n",
      "(945, 10)\n"
     ]
    }
   ],
   "source": [
    "# Email service account that need to share the google sheet\n",
    "service_account_email = \"matiasblaquier@theta-voyager-406314.iam.gserviceaccount.com\"\n",
    "#email that need to share the google sheet = matiasblaquier@theta-voyager-406314.iam.gserviceaccount.com\n",
    "\n",
    "scope = [\n",
    "    'https://spreadsheets.google.com/feeds', \n",
    "    'https://www.googleapis.com/auth/spreadsheets',\n",
    "    'https://www.googleapis.com/auth/drive'\n",
    "    ]\n",
    "\n",
    "credentials = \"credentials.json\"\n",
    "\n",
    "try: \n",
    "    #Cargar credenciales\n",
    "    creds = ServiceAccountCredentials.from_json_keyfile_name(credentials, scope)\n",
    "\n",
    "    #Autorizar gspread con las credenciales\n",
    "    client = gspread.authorize(creds)\n",
    "\n",
    "    # ID de la hoja de cálculo \n",
    "    srpeadsheet_id = \"1PZKCpybEechpbwP-H3khhUihHqwUqgbi_KkM6iCxhuE\" #Peticiones globales Oracle: \"1PZKCpybEechpbwP-H3khhUihHqwUqgbi_KkM6iCxhuE\"\n",
    "\n",
    "    # Open the Google Sheet file by ID\n",
    "    spreadsheet = client.open_by_key(srpeadsheet_id)\n",
    "\n",
    "    # List all sheets file\n",
    "    sheets = spreadsheet.worksheets()\n",
    "    print(f\"Available sheeds: {[sheet.title for sheet in sheets]}\")\n",
    "\n",
    "    #DataFrame con los datos del excel\n",
    "    df_OG = pd.DataFrame(columns=[\"UUAA\", \"Petición Jira\", \"Versión Repo\", \"Petición ARQ\", \"Fecha cierre\", \"Comentarios\", \"Path\"])\n",
    "\n",
    "    for sheet in sheets: \n",
    "        try: \n",
    "            sheet_name = sheet.title\n",
    "            \n",
    "            df_aux = pd.DataFrame(sheet.get_all_records(expected_headers=[\"UUAA\", \"Petición Jira\", \"Versión Repo\", \"Petición ARQ\", \"Fecha cierre\", \"Comentarios\", \"Path\"]))\n",
    "            df_OG = pd.concat([df_OG, df_aux], ignore_index=True)\n",
    "        except gspread.exceptions.APIError as e:\n",
    "            if e.response.status_code == 429: \n",
    "                wait_time = 6\n",
    "                print(f\"Quota exceeded. Retrying in {wait_time} seconds...\")\n",
    "                time.sleep(wait_time)\n",
    "            else: \n",
    "                pass\n",
    "    \n",
    "    #Creating DDBB and geography column\n",
    "    df_OG[\"DDBB\"] = \"Oracle Physics\"\n",
    "    df_OG[\"geography\"] = \"Global\"\n",
    "\n",
    "    print(df_OG.shape)\n",
    "\n",
    "    df_OG[\"UUAA\"] = df_OG[\"UUAA\"].astype(str)\n",
    "    df_OG[\"Petición Jira\"] = df_OG[\"Petición Jira\"].astype(str)\n",
    "    df_OG[\"Versión Repo\"] = df_OG[\"Versión Repo\"].astype(str)\n",
    "    df_OG[\"Petición ARQ\"] = df_OG[\"Petición ARQ\"].astype(str)\n",
    "    df_OG[\"Fecha cierre\"] = df_OG[\"Fecha cierre\"].astype(str)\n",
    "    df_OG[\"Comentarios\"] = df_OG[\"Comentarios\"].astype(str)\n",
    "    df_OG[\"Path\"] = df_OG[\"Path\"].astype(str)\n",
    "    df_OG[\"DDBB\"] = df_OG[\"DDBB\"].astype(str)\n",
    "    df_OG[\"geography\"] = df_OG[\"geography\"].astype(str)\n",
    "\n",
    "    df_OG.rename(columns={\"Petición Jira\": \"petition_code\", \"Versión Repo\": \"version\", \"Petición ARQ\": \"petition_arq\", \"Fecha cierre\": \"fecha_out\", \"Comentarios\": \"description\"}, inplace=True)\n",
    "\n",
    "except gspread.exceptions.APIError as e:\n",
    "    print(f\"APIError: {e}\")\n",
    "\n",
    "except Exception as e:\n",
    "    print(f\"Error: {e}\")"
   ]
  },
  {
   "cell_type": "markdown",
   "metadata": {},
   "source": [
    "<p style=\"font-size: 25px; color: #208cc5;;\">Elastic Search</p>"
   ]
  },
  {
   "cell_type": "code",
   "execution_count": 14,
   "metadata": {},
   "outputs": [
    {
     "name": "stdout",
     "output_type": "stream",
     "text": [
      "Available sheeds: ['ATAU', 'F30V', 'EI4M', 'GHDC', 'GUAR', 'H9IY', 'IMPT', 'J6G7', 'JBSY', 'KAGE', 'KAPI', 'KBTQ', 'KCNS', 'KHR1', 'KIFV', 'KLNE', 'KMOL', 'KREC', 'KTIN', 'KTRA', 'KTR2', 'KXSG', 'KYGU', 'KYOP', 'L1WI', 'NI0C', 'O43T', 'OPEI', 'PGVC', 'S47B', 'XBMR', 'XPI2', 'YM3X', 'ZNXD']\n",
      "(262, 10)\n"
     ]
    }
   ],
   "source": [
    "# Email service account that need to share the google sheet\n",
    "service_account_email = \"matiasblaquier@theta-voyager-406314.iam.gserviceaccount.com\"\n",
    "#email that need to share the google sheet = matiasblaquier@theta-voyager-406314.iam.gserviceaccount.com\n",
    "\n",
    "scope = [\n",
    "    'https://spreadsheets.google.com/feeds', \n",
    "    'https://www.googleapis.com/auth/spreadsheets',\n",
    "    'https://www.googleapis.com/auth/drive'\n",
    "    ]\n",
    "\n",
    "credentials = \"credentials.json\"\n",
    "\n",
    "try: \n",
    "    #Cargar credenciales\n",
    "    creds = ServiceAccountCredentials.from_json_keyfile_name(credentials, scope)\n",
    "\n",
    "    #Autorizar gspread con las credenciales\n",
    "    client = gspread.authorize(creds)\n",
    "\n",
    "    # ID de la hoja de cálculo \n",
    "    srpeadsheet_id = \"1PXFKrrJVs12XpmgV5DmnBvjxENQ3hobwLs-bdDf8OIE\" #Peticiones globales Mongo: \"1PXFKrrJVs12XpmgV5DmnBvjxENQ3hobwLs-bdDf8OIE\"\n",
    "\n",
    "    # Open the Google Sheet file by ID\n",
    "    spreadsheet = client.open_by_key(srpeadsheet_id)\n",
    "\n",
    "    # List all sheets file\n",
    "    sheets = spreadsheet.worksheets()\n",
    "    print(f\"Available sheeds: {[sheet.title for sheet in sheets]}\")\n",
    "\n",
    "    #DataFrame con los datos del excel\n",
    "    df_EG = pd.DataFrame(columns=[\"UUAA\", \"Petición Jira\", \"Versión Repo\", \"Petición ARQ\", \"Fecha cierre\", \"Comentarios\", \"Path\"])\n",
    "\n",
    "    for sheet in sheets: \n",
    "        try: \n",
    "            sheet_name = sheet.title\n",
    "            \n",
    "            df_aux = pd.DataFrame(sheet.get_all_records(expected_headers=[\"UUAA\", \"Petición Jira\", \"Versión Repo\", \"Petición ARQ\", \"Fecha cierre\", \"Comentarios\", \"Path\"]))\n",
    "            df_EG = pd.concat([df_EG, df_aux], ignore_index=True)\n",
    "        except gspread.exceptions.APIError as e:\n",
    "            if e.response.status_code == 429: \n",
    "                wait_time = 6\n",
    "                print(f\"Quota exceeded. Retrying in {wait_time} seconds...\")\n",
    "                time.sleep(wait_time)\n",
    "            else: \n",
    "                pass\n",
    "    \n",
    "    #Creating DDBB and geography column\n",
    "    df_EG[\"DDBB\"] = \"Oracle Physics\"\n",
    "    df_EG[\"geography\"] = \"Global\"\n",
    "\n",
    "    #df = df_OG.drop_duplicates(subset='Código', keep='first')\n",
    "    print(df_EG.shape)\n",
    "\n",
    "    df_EG[\"UUAA\"] = df_EG[\"UUAA\"].astype(str)\n",
    "    df_EG[\"Petición Jira\"] = df_EG[\"Petición Jira\"].astype(str)\n",
    "    df_EG[\"Versión Repo\"] = df_EG[\"Versión Repo\"].astype(str)\n",
    "    df_EG[\"Petición ARQ\"] = df_EG[\"Petición ARQ\"].astype(str)\n",
    "    df_EG[\"Fecha cierre\"] = df_EG[\"Fecha cierre\"].astype(str)\n",
    "    df_EG[\"Comentarios\"] = df_EG[\"Comentarios\"].astype(str)\n",
    "    df_EG[\"Path\"] = df_EG[\"Path\"].astype(str)\n",
    "    df_EG[\"DDBB\"] = df_EG[\"DDBB\"].astype(str)\n",
    "    df_EG[\"geography\"] = df_EG[\"geography\"].astype(str)\n",
    "\n",
    "    df_EG.rename(columns={\"Petición Jira\": \"petition_code\", \"Versión Repo\": \"version\", \"Petición ARQ\": \"petition_arq\", \"Fecha cierre\": \"fecha_out\", \"Comentarios\": \"description\"}, inplace=True)\n",
    "\n",
    "except gspread.exceptions.APIError as e:\n",
    "    print(f\"APIError: {e}\")\n",
    "\n",
    "except Exception as e:\n",
    "    print(f\"Error: {e}\")"
   ]
  },
  {
   "cell_type": "markdown",
   "metadata": {},
   "source": [
    "<p style=\"font-size: 25px; color: #208cc5;\">Mongo DB</p>"
   ]
  },
  {
   "cell_type": "code",
   "execution_count": 15,
   "metadata": {},
   "outputs": [
    {
     "name": "stdout",
     "output_type": "stream",
     "text": [
      "Available sheeds: ['KSKR', 'KPDR', 'F30V', 'KAPI', 'H9IY', 'KPAD', 'CHM8', 'XMBR', 'KCOG', 'KONL', 'KNWD', 'KIFV', 'KIFD', 'KPFM', 'KHR1', 'KARC', 'KATT']\n",
      "(77, 9)\n"
     ]
    }
   ],
   "source": [
    "# Email service account that need to share the google sheet\n",
    "service_account_email = \"matiasblaquier@theta-voyager-406314.iam.gserviceaccount.com\"\n",
    "#email that need to share the google sheet = matiasblaquier@theta-voyager-406314.iam.gserviceaccount.com\n",
    "\n",
    "scope = [\n",
    "    'https://spreadsheets.google.com/feeds', \n",
    "    'https://www.googleapis.com/auth/spreadsheets',\n",
    "    'https://www.googleapis.com/auth/drive'\n",
    "    ]\n",
    "\n",
    "credentials = \"credentials.json\"\n",
    "\n",
    "try: \n",
    "    #Cargar credenciales\n",
    "    creds = ServiceAccountCredentials.from_json_keyfile_name(credentials, scope)\n",
    "\n",
    "    #Autorizar gspread con las credenciales\n",
    "    client = gspread.authorize(creds)\n",
    "\n",
    "    # ID de la hoja de cálculo \n",
    "    srpeadsheet_id = \"1-mO_2AFa0J4VBlONUFPuQ7IfTRNxBb3BbPyEg_D-FPs\" #Peticiones globales Mongo: \"1-mO_2AFa0J4VBlONUFPuQ7IfTRNxBb3BbPyEg_D-FPs\"\n",
    "\n",
    "    # Open the Google Sheet file by ID\n",
    "    spreadsheet = client.open_by_key(srpeadsheet_id)\n",
    "\n",
    "    # List all sheets file\n",
    "    sheets = spreadsheet.worksheets()\n",
    "    print(f\"Available sheeds: {[sheet.title for sheet in sheets]}\")\n",
    "\n",
    "    #DataFrame con los datos del excel\n",
    "    df_MG = pd.DataFrame(columns=[\"UUAA\", \"Petición Jira\", \"Versión Repo\", \"Petición ARQ\", \"Fecha cierre\", \"Comentarios\", \"Path\"])\n",
    "\n",
    "    for sheet in sheets: \n",
    "        try: \n",
    "            sheet_name = sheet.title\n",
    "            \n",
    "            df_aux = pd.DataFrame(sheet.get_all_records(expected_headers=[\"UUAA\", \"Petición Jira\", \"Versión Repo\", \"Petición ARQ\", \"Fecha cierre\", \"Comentarios\", \"Path\"]))\n",
    "            df_MG = pd.concat([df_MG, df_aux], ignore_index=True)\n",
    "        except gspread.exceptions.APIError as e:\n",
    "            if e.response.status_code == 429: \n",
    "                wait_time = 6\n",
    "                print(f\"Quota exceeded. Retrying in {wait_time} seconds...\")\n",
    "                time.sleep(wait_time)\n",
    "            else: \n",
    "                pass\n",
    "    \n",
    "    #Creating DDBB and geography column\n",
    "    df_MG[\"DDBB\"] = \"Oracle Physics\"\n",
    "    df_MG[\"geography\"] = \"Global\"\n",
    "    \n",
    "    print(df_MG.shape)\n",
    "\n",
    "    df_MG[\"UUAA\"] = df_MG[\"UUAA\"].astype(str)\n",
    "    df_MG[\"Petición Jira\"] = df_MG[\"Petición Jira\"].astype(str)\n",
    "    df_MG[\"Versión Repo\"] = df_MG[\"Versión Repo\"].astype(str)\n",
    "    df_MG[\"Petición ARQ\"] = df_MG[\"Petición ARQ\"].astype(str)\n",
    "    df_MG[\"Fecha cierre\"] = df_MG[\"Fecha cierre\"].astype(str)\n",
    "    df_MG[\"Comentarios\"] = df_MG[\"Comentarios\"].astype(str)\n",
    "    df_MG[\"Path\"] = df_MG[\"Path\"].astype(str)\n",
    "    df_MG[\"DDBB\"] = df_MG[\"DDBB\"].astype(str)\n",
    "    df_MG[\"geography\"] = df_MG[\"geography\"].astype(str)\n",
    "\n",
    "    df_MG.rename(columns={\"Petición Jira\": \"petition_code\", \"Versión Repo\": \"version\", \"Petición ARQ\": \"petition_arq\", \"Fecha cierre\": \"fecha_out\", \"Comentarios\": \"description\"}, inplace=True)\n",
    "    \n",
    "except gspread.exceptions.APIError as e:\n",
    "    print(f\"APIError: {e}\")\n",
    "\n",
    "except Exception as e:\n",
    "    print(f\"Error: {e}\")"
   ]
  },
  {
   "cell_type": "markdown",
   "metadata": {},
   "source": [
    "<p style=\"font-size: 25px; color: #20cff5;\">All in one Data Frame</p>"
   ]
  },
  {
   "cell_type": "code",
   "execution_count": 16,
   "metadata": {},
   "outputs": [
    {
     "name": "stdout",
     "output_type": "stream",
     "text": [
      "Index(['fecha_in', 'Fecha incurrida', 'fecha_out', 'UUAA', 'DQDP_code',\n",
      "       'sdatool', 'feature', 'petition_code', 'geography', 'DDBB', 'Ámbito',\n",
      "       'responsable', 'validada', 'duration_time', 'description', 'Estado',\n",
      "       'Días', '', 'version_date', 'version', 'petition_arq', 'dev_master',\n",
      "       'estado', 'Path', 'Petición Jira', 'Versión Repo', 'Petición ARQ',\n",
      "       'Fecha cierre', 'Comentarios'],\n",
      "      dtype='object') Index(['UUAA', 'petition_code', 'version', 'petition_arq', 'fecha_out',\n",
      "       'description', 'Path', '', 'DDBB', 'geography'],\n",
      "      dtype='object') Index(['UUAA', 'petition_code', 'version', 'petition_arq', 'fecha_out',\n",
      "       'description', 'Path', '', 'DDBB', 'geography'],\n",
      "      dtype='object') Index(['UUAA', 'petition_code', 'version', 'petition_arq', 'fecha_out',\n",
      "       'description', 'Path', 'DDBB', 'geography'],\n",
      "      dtype='object')\n"
     ]
    }
   ],
   "source": [
    "print(df.columns, df_OG.columns, df_EG.columns, df_MG.columns)"
   ]
  },
  {
   "cell_type": "code",
   "execution_count": 17,
   "metadata": {},
   "outputs": [
    {
     "name": "stderr",
     "output_type": "stream",
     "text": [
      "/var/folders/r3/_0ct4tcx0jj4q9jfbhwjb93m0000gn/T/ipykernel_1609/3202183205.py:4: FutureWarning: The behavior of DataFrame concatenation with empty or all-NA entries is deprecated. In a future version, this will no longer exclude empty or all-NA columns when determining the result dtypes. To retain the old behavior, exclude the relevant entries before the concat operation.\n",
      "  df = pd.concat([df, df_aux], ignore_index=True)\n"
     ]
    }
   ],
   "source": [
    "df_aux = pd.DataFrame(columns=list(df.columns))\n",
    "df_aux = pd.concat([df_aux, df_OG, df_EG, df_MG], ignore_index=True)\n",
    "df_aux.drop_duplicates(subset=[\"petition_code\", \"version\"], keep=\"first\", inplace=True)\n",
    "df = pd.concat([df, df_aux], ignore_index=True)\n",
    "\n",
    "df[\"fecha_in\"] = df[\"fecha_in\"].astype(str)\n",
    "df[\"Fecha incurrida\"] = df[\"Fecha incurrida\"].astype(str)\n",
    "df[\"fecha_out\"] = df[\"fecha_out\"].astype(str)\n",
    "df[\"UUAA\"] = df[\"UUAA\"].astype(str)\n",
    "df[\"DQDP_code\"] = df[\"DQDP_code\"].astype(str)\n",
    "df[\"sdatool\"] = df[\"sdatool\"].astype(str)\n",
    "df[\"feature\"] = df[\"feature\"].astype(str)\n",
    "df[\"geography\"] = df[\"geography\"].astype(str)\n",
    "df[\"DDBB\"] = df[\"DDBB\"].astype(str)\n",
    "df[\"Ámbito\"] = df[\"Ámbito\"].astype(str)\n",
    "df[\"responsable\"] = df[\"responsable\"].astype(str)\n",
    "df[\"validada\"] = df[\"validada\"].astype(str)\n",
    "df[\"duration_time\"] = pd.to_numeric(df[\"duration_time\"], errors=\"coerce\")\n",
    "df[\"description\"] = df[\"description\"].astype(str)\n",
    "df[\"version_date\"] = df[\"version_date\"].astype(str)\n",
    "df[\"version\"] = df[\"version\"].astype(str)\n",
    "df[\"petition_arq\"] = df[\"petition_arq\"].astype(str)\n",
    "df[\"estado\"] = df[\"estado\"].astype(str)\n",
    "df[\"petition_code\"] = df[\"petition_code\"].astype(str)\n",
    "\n",
    "df[\"dev_master\"] = \"None\""
   ]
  },
  {
   "cell_type": "code",
   "execution_count": 69,
   "metadata": {},
   "outputs": [
    {
     "name": "stdout",
     "output_type": "stream",
     "text": [
      "(2106,)\n",
      "(2107, 29)\n"
     ]
    }
   ],
   "source": [
    "print(df[df[\"DQDP_code\"].duplicated(keep=\"last\") == True][\"DQDP_code\"].shape)\n",
    "print(df[df[\"DQDP_code\"] == \"nan\"].shape)"
   ]
  },
  {
   "cell_type": "markdown",
   "metadata": {},
   "source": [
    "---\n",
    "---"
   ]
  },
  {
   "cell_type": "code",
   "execution_count": 11,
   "metadata": {},
   "outputs": [
    {
     "data": {
      "text/plain": [
       "'\\nfor row in df.iterrows():\\n    insert_data_testing(dict(row[1]))\\n'"
      ]
     },
     "execution_count": 11,
     "metadata": {},
     "output_type": "execute_result"
    }
   ],
   "source": [
    "'''\n",
    "for row in df.iterrows():\n",
    "    insert_data_testing(dict(row[1]))\n",
    "'''"
   ]
  },
  {
   "cell_type": "markdown",
   "metadata": {},
   "source": [
    "<p style=\"font-size: 40px; color: grey;\">Testing</p>"
   ]
  },
  {
   "cell_type": "code",
   "execution_count": 12,
   "metadata": {},
   "outputs": [
    {
     "name": "stdout",
     "output_type": "stream",
     "text": [
      "Matias\n",
      "Blaquier\n",
      "27\n",
      "1\n",
      "0\n"
     ]
    }
   ],
   "source": [
    "diccionario = {\"Nombre\": \"Matias\", \"Apellido\": \"Blaquier\", \"Edad\": 27}\n",
    "for key, value in diccionario.items(): \n",
    "    print(value)\n",
    "\n",
    "###########\n",
    "str_test = \" \"\n",
    "print(len(str_test))\n",
    "print(len(str_test.strip()))"
   ]
  },
  {
   "cell_type": "code",
   "execution_count": null,
   "metadata": {},
   "outputs": [],
   "source": []
  }
 ],
 "metadata": {
  "kernelspec": {
   "display_name": "base",
   "language": "python",
   "name": "python3"
  },
  "language_info": {
   "codemirror_mode": {
    "name": "ipython",
    "version": 3
   },
   "file_extension": ".py",
   "mimetype": "text/x-python",
   "name": "python",
   "nbconvert_exporter": "python",
   "pygments_lexer": "ipython3",
   "version": "3.11.7"
  }
 },
 "nbformat": 4,
 "nbformat_minor": 2
}
