{
 "cells": [
  {
   "cell_type": "markdown",
   "metadata": {},
   "source": [
    "<p style=\"font-size: 35px; color: violet; text-align: center;\">JIRA</p>"
   ]
  },
  {
   "cell_type": "markdown",
   "metadata": {},
   "source": [
    "<p style=\"font-size: 22px; color: skyblue; text-align: center;\">Primero debes de logearte a la página de Jira antes de ejecutar los comandos</p>"
   ]
  },
  {
   "cell_type": "code",
   "execution_count": 40,
   "metadata": {},
   "outputs": [],
   "source": [
    "import numpy as np\n",
    "import pandas as pd \n",
    "import requests\n",
    "import time\n",
    "\n",
    "from selenium import webdriver\n",
    "from selenium.webdriver.chrome.service import Service\n",
    "from selenium.webdriver.chrome.options import Options\n",
    "from selenium.webdriver.common.by import By\n",
    "from webdriver_manager.chrome import ChromeDriverManager\n",
    "\n",
    "\n",
    "from bs4 import BeautifulSoup\n",
    "\n",
    "#Google sheed API\n",
    "import gspread\n",
    "from google.oauth2.service_account import Credentials\n",
    "#from oauth2client.service_account import ServiceAccountCredentials\n",
    "\n",
    "#Execute shell commands\n",
    "import subprocess"
   ]
  },
  {
   "cell_type": "markdown",
   "metadata": {},
   "source": [
    "---"
   ]
  },
  {
   "cell_type": "markdown",
   "metadata": {},
   "source": [
    "### Google sheets connection"
   ]
  },
  {
   "cell_type": "code",
   "execution_count": 42,
   "metadata": {},
   "outputs": [
    {
     "ename": "APIError",
     "evalue": "APIError: [400]: This operation is not supported for this document",
     "output_type": "error",
     "traceback": [
      "\u001b[1;31m---------------------------------------------------------------------------\u001b[0m",
      "\u001b[1;31mAPIError\u001b[0m                                  Traceback (most recent call last)",
      "Cell \u001b[1;32mIn[42], line 19\u001b[0m\n\u001b[0;32m     16\u001b[0m spreadsheet_id \u001b[38;5;241m=\u001b[39m \u001b[38;5;124m\"\u001b[39m\u001b[38;5;124m1lDcw9dWniIy7b9pi9DQFQ-pj4UvHUQkr\u001b[39m\u001b[38;5;124m\"\u001b[39m\n\u001b[0;32m     18\u001b[0m \u001b[38;5;66;03m# Abrir la hoja de cálculo por ID\u001b[39;00m\n\u001b[1;32m---> 19\u001b[0m spreadsheet \u001b[38;5;241m=\u001b[39m client\u001b[38;5;241m.\u001b[39mopen_by_key(spreadsheet_id)\n\u001b[0;32m     21\u001b[0m \u001b[38;5;66;03m# Seleccionar la hoja específica dentro del archivo (Se puede usar el nombre de la hoja o el índice)\u001b[39;00m\n\u001b[0;32m     22\u001b[0m sheet \u001b[38;5;241m=\u001b[39m spreadsheet\u001b[38;5;241m.\u001b[39mworksheet(\u001b[38;5;124m\"\u001b[39m\u001b[38;5;124mOctubre\u001b[39m\u001b[38;5;124m\"\u001b[39m)  \u001b[38;5;66;03m# Nombre de la hoja\u001b[39;00m\n",
      "File \u001b[1;32m~\\AppData\\Roaming\\Python\\Python312\\site-packages\\gspread\\client.py:161\u001b[0m, in \u001b[0;36mClient.open_by_key\u001b[1;34m(self, key)\u001b[0m\n\u001b[0;32m    159\u001b[0m     \u001b[38;5;28;01mif\u001b[39;00m ex\u001b[38;5;241m.\u001b[39mresponse\u001b[38;5;241m.\u001b[39mstatus_code \u001b[38;5;241m==\u001b[39m HTTPStatus\u001b[38;5;241m.\u001b[39mFORBIDDEN:\n\u001b[0;32m    160\u001b[0m         \u001b[38;5;28;01mraise\u001b[39;00m \u001b[38;5;167;01mPermissionError\u001b[39;00m \u001b[38;5;28;01mfrom\u001b[39;00m \u001b[38;5;21;01mex\u001b[39;00m\n\u001b[1;32m--> 161\u001b[0m     \u001b[38;5;28;01mraise\u001b[39;00m ex\n\u001b[0;32m    162\u001b[0m \u001b[38;5;28;01mreturn\u001b[39;00m spreadsheet\n",
      "File \u001b[1;32m~\\AppData\\Roaming\\Python\\Python312\\site-packages\\gspread\\client.py:155\u001b[0m, in \u001b[0;36mClient.open_by_key\u001b[1;34m(self, key)\u001b[0m\n\u001b[0;32m    147\u001b[0m \u001b[38;5;250m\u001b[39m\u001b[38;5;124;03m\"\"\"Opens a spreadsheet specified by `key` (a.k.a Spreadsheet ID).\u001b[39;00m\n\u001b[0;32m    148\u001b[0m \n\u001b[0;32m    149\u001b[0m \u001b[38;5;124;03m:param str key: A key of a spreadsheet as it appears in a URL in a browser.\u001b[39;00m\n\u001b[1;32m   (...)\u001b[0m\n\u001b[0;32m    152\u001b[0m \u001b[38;5;124;03m>>> gc.open_by_key('0BmgG6nO_6dprdS1MN3d3MkdPa142WFRrdnRRUWl1UFE')\u001b[39;00m\n\u001b[0;32m    153\u001b[0m \u001b[38;5;124;03m\"\"\"\u001b[39;00m\n\u001b[0;32m    154\u001b[0m \u001b[38;5;28;01mtry\u001b[39;00m:\n\u001b[1;32m--> 155\u001b[0m     spreadsheet \u001b[38;5;241m=\u001b[39m Spreadsheet(\u001b[38;5;28mself\u001b[39m\u001b[38;5;241m.\u001b[39mhttp_client, {\u001b[38;5;124m\"\u001b[39m\u001b[38;5;124mid\u001b[39m\u001b[38;5;124m\"\u001b[39m: key})\n\u001b[0;32m    156\u001b[0m \u001b[38;5;28;01mexcept\u001b[39;00m APIError \u001b[38;5;28;01mas\u001b[39;00m ex:\n\u001b[0;32m    157\u001b[0m     \u001b[38;5;28;01mif\u001b[39;00m ex\u001b[38;5;241m.\u001b[39mresponse\u001b[38;5;241m.\u001b[39mstatus_code \u001b[38;5;241m==\u001b[39m HTTPStatus\u001b[38;5;241m.\u001b[39mNOT_FOUND:\n",
      "File \u001b[1;32m~\\AppData\\Roaming\\Python\\Python312\\site-packages\\gspread\\spreadsheet.py:29\u001b[0m, in \u001b[0;36mSpreadsheet.__init__\u001b[1;34m(self, http_client, properties)\u001b[0m\n\u001b[0;32m     26\u001b[0m \u001b[38;5;28mself\u001b[39m\u001b[38;5;241m.\u001b[39mclient \u001b[38;5;241m=\u001b[39m http_client\n\u001b[0;32m     27\u001b[0m \u001b[38;5;28mself\u001b[39m\u001b[38;5;241m.\u001b[39m_properties \u001b[38;5;241m=\u001b[39m properties\n\u001b[1;32m---> 29\u001b[0m metadata \u001b[38;5;241m=\u001b[39m \u001b[38;5;28mself\u001b[39m\u001b[38;5;241m.\u001b[39mfetch_sheet_metadata()\n\u001b[0;32m     30\u001b[0m \u001b[38;5;28mself\u001b[39m\u001b[38;5;241m.\u001b[39m_properties\u001b[38;5;241m.\u001b[39mupdate(metadata[\u001b[38;5;124m\"\u001b[39m\u001b[38;5;124mproperties\u001b[39m\u001b[38;5;124m\"\u001b[39m])\n",
      "File \u001b[1;32m~\\AppData\\Roaming\\Python\\Python312\\site-packages\\gspread\\spreadsheet.py:230\u001b[0m, in \u001b[0;36mSpreadsheet.fetch_sheet_metadata\u001b[1;34m(self, params)\u001b[0m\n\u001b[0;32m    218\u001b[0m \u001b[38;5;28;01mdef\u001b[39;00m \u001b[38;5;21mfetch_sheet_metadata\u001b[39m(\n\u001b[0;32m    219\u001b[0m     \u001b[38;5;28mself\u001b[39m, params: Optional[ParamsType] \u001b[38;5;241m=\u001b[39m \u001b[38;5;28;01mNone\u001b[39;00m\n\u001b[0;32m    220\u001b[0m ) \u001b[38;5;241m-\u001b[39m\u001b[38;5;241m>\u001b[39m Mapping[\u001b[38;5;28mstr\u001b[39m, Any]:\n\u001b[0;32m    221\u001b[0m \u001b[38;5;250m    \u001b[39m\u001b[38;5;124;03m\"\"\"Similar to :method spreadsheets_get:`gspread.http_client.spreadsheets_get`,\u001b[39;00m\n\u001b[0;32m    222\u001b[0m \u001b[38;5;124;03m    get the spreadsheet form the API but by default **does not get the cells data**.\u001b[39;00m\n\u001b[0;32m    223\u001b[0m \u001b[38;5;124;03m    It only retrieve the the metadata from the spreadsheet.\u001b[39;00m\n\u001b[1;32m   (...)\u001b[0m\n\u001b[0;32m    228\u001b[0m \u001b[38;5;124;03m    :rtype: dict\u001b[39;00m\n\u001b[0;32m    229\u001b[0m \u001b[38;5;124;03m    \"\"\"\u001b[39;00m\n\u001b[1;32m--> 230\u001b[0m     \u001b[38;5;28;01mreturn\u001b[39;00m \u001b[38;5;28mself\u001b[39m\u001b[38;5;241m.\u001b[39mclient\u001b[38;5;241m.\u001b[39mfetch_sheet_metadata(\u001b[38;5;28mself\u001b[39m\u001b[38;5;241m.\u001b[39mid, params\u001b[38;5;241m=\u001b[39mparams)\n",
      "File \u001b[1;32m~\\AppData\\Roaming\\Python\\Python312\\site-packages\\gspread\\http_client.py:305\u001b[0m, in \u001b[0;36mHTTPClient.fetch_sheet_metadata\u001b[1;34m(self, id, params)\u001b[0m\n\u001b[0;32m    301\u001b[0m     params \u001b[38;5;241m=\u001b[39m {\u001b[38;5;124m\"\u001b[39m\u001b[38;5;124mincludeGridData\u001b[39m\u001b[38;5;124m\"\u001b[39m: \u001b[38;5;124m\"\u001b[39m\u001b[38;5;124mfalse\u001b[39m\u001b[38;5;124m\"\u001b[39m}\n\u001b[0;32m    303\u001b[0m url \u001b[38;5;241m=\u001b[39m SPREADSHEET_URL \u001b[38;5;241m%\u001b[39m \u001b[38;5;28mid\u001b[39m\n\u001b[1;32m--> 305\u001b[0m r \u001b[38;5;241m=\u001b[39m \u001b[38;5;28mself\u001b[39m\u001b[38;5;241m.\u001b[39mrequest(\u001b[38;5;124m\"\u001b[39m\u001b[38;5;124mget\u001b[39m\u001b[38;5;124m\"\u001b[39m, url, params\u001b[38;5;241m=\u001b[39mparams)\n\u001b[0;32m    307\u001b[0m \u001b[38;5;28;01mreturn\u001b[39;00m r\u001b[38;5;241m.\u001b[39mjson()\n",
      "File \u001b[1;32m~\\AppData\\Roaming\\Python\\Python312\\site-packages\\gspread\\http_client.py:128\u001b[0m, in \u001b[0;36mHTTPClient.request\u001b[1;34m(self, method, endpoint, params, data, json, files, headers)\u001b[0m\n\u001b[0;32m    126\u001b[0m     \u001b[38;5;28;01mreturn\u001b[39;00m response\n\u001b[0;32m    127\u001b[0m \u001b[38;5;28;01melse\u001b[39;00m:\n\u001b[1;32m--> 128\u001b[0m     \u001b[38;5;28;01mraise\u001b[39;00m APIError(response)\n",
      "\u001b[1;31mAPIError\u001b[0m: APIError: [400]: This operation is not supported for this document"
     ]
    }
   ],
   "source": [
    "#email that need to share the google sheet = matiasblaquier@theta-voyager-406314.iam.gserviceaccount.com\n",
    "scope = [\n",
    "    'https://spreadsheets.google.com/feeds', \n",
    "    'https://www.googleapis.com/auth/spreadsheets',\n",
    "    'https://www.googleapis.com/auth/drive'\n",
    "    ]\n",
    "\n",
    "credentials = \"credentials2.json\"\n",
    "#Cargar credenciales\n",
    "creds = Credentials.from_service_account_file(credentials, scopes=scope)\n",
    "\n",
    "#Autorizar gspread con las credenciales\n",
    "client = gspread.authorize(creds)\n",
    "\n",
    "# ID de la hoja de calculo\n",
    "spreadsheet_id = \"1lDcw9dWniIy7b9pi9DQFQ-pj4UvHUQkr\"\n",
    "\n",
    "# Abrir la hoja de cálculo por ID\n",
    "spreadsheet = client.open_by_key(spreadsheet_id)\n",
    "\n",
    "# Seleccionar la hoja específica dentro del archivo (Se puede usar el nombre de la hoja o el índice)\n",
    "sheet = spreadsheet.worksheet(\"Octubre\")  # Nombre de la hoja\n",
    "\n",
    "# Leer los datos en un dataframe\n",
    "data = sheet.get_all_records()\n",
    "df = pd.DataFrame(data)\n",
    "\n",
    "# Mostrar las primeras filas del dataframe\n",
    "print(df.head())"
   ]
  },
  {
   "cell_type": "markdown",
   "metadata": {},
   "source": [
    "#### Go into google sheets"
   ]
  },
  {
   "cell_type": "code",
   "execution_count": 32,
   "metadata": {},
   "outputs": [
    {
     "ename": "APIError",
     "evalue": "APIError: [400]: This operation is not supported for this document",
     "output_type": "error",
     "traceback": [
      "\u001b[1;31m---------------------------------------------------------------------------\u001b[0m",
      "\u001b[1;31mAPIError\u001b[0m                                  Traceback (most recent call last)",
      "Cell \u001b[1;32mIn[32], line 2\u001b[0m\n\u001b[0;32m      1\u001b[0m \u001b[38;5;66;03m#Abrir la hoja de calculo por URL o por ID\u001b[39;00m\n\u001b[1;32m----> 2\u001b[0m spreadsheet \u001b[38;5;241m=\u001b[39m client\u001b[38;5;241m.\u001b[39mopen_by_url(\u001b[38;5;124m\"\u001b[39m\u001b[38;5;124mhttps://docs.google.com/spreadsheets/d/1lDcw9dWniIy7b9pi9DQFQ-pj4UvHUQkr/edit?gid=1470561836#gid=1470561836\u001b[39m\u001b[38;5;124m\"\u001b[39m) \u001b[38;5;66;03m#https://docs.google.com/spreadsheets/d/<ID_de_tu_hoja_de_calculo> #https://docs.google.com/spreadsheets/d/1lDcw9dWniIy7b9pi9DQFQ-pj4UvHUQkr/edit?gid=1470561836#gid=1470561836\u001b[39;00m\n\u001b[0;32m      4\u001b[0m \u001b[38;5;66;03m#Seleccionar la hoja específica dentro del archivo (Se puede usar el nombre de la hoja o el índice)\u001b[39;00m\n\u001b[0;32m      5\u001b[0m sheet \u001b[38;5;241m=\u001b[39m spreadsheet\u001b[38;5;241m.\u001b[39mworksheet(\u001b[38;5;124m\"\u001b[39m\u001b[38;5;124mOctubre\u001b[39m\u001b[38;5;124m\"\u001b[39m) \u001b[38;5;66;03m#sheet name\u001b[39;00m\n",
      "File \u001b[1;32m~\\AppData\\Roaming\\Python\\Python312\\site-packages\\gspread\\client.py:176\u001b[0m, in \u001b[0;36mClient.open_by_url\u001b[1;34m(self, url)\u001b[0m\n\u001b[0;32m    164\u001b[0m \u001b[38;5;28;01mdef\u001b[39;00m \u001b[38;5;21mopen_by_url\u001b[39m(\u001b[38;5;28mself\u001b[39m, url: \u001b[38;5;28mstr\u001b[39m) \u001b[38;5;241m-\u001b[39m\u001b[38;5;241m>\u001b[39m Spreadsheet:\n\u001b[0;32m    165\u001b[0m \u001b[38;5;250m    \u001b[39m\u001b[38;5;124;03m\"\"\"Opens a spreadsheet specified by `url`.\u001b[39;00m\n\u001b[0;32m    166\u001b[0m \n\u001b[0;32m    167\u001b[0m \u001b[38;5;124;03m    :param str url: URL of a spreadsheet as it appears in a browser.\u001b[39;00m\n\u001b[1;32m   (...)\u001b[0m\n\u001b[0;32m    174\u001b[0m \u001b[38;5;124;03m    >>> gc.open_by_url('https://docs.google.com/spreadsheet/ccc?key=0Bm...FE&hl')\u001b[39;00m\n\u001b[0;32m    175\u001b[0m \u001b[38;5;124;03m    \"\"\"\u001b[39;00m\n\u001b[1;32m--> 176\u001b[0m     \u001b[38;5;28;01mreturn\u001b[39;00m \u001b[38;5;28mself\u001b[39m\u001b[38;5;241m.\u001b[39mopen_by_key(extract_id_from_url(url))\n",
      "File \u001b[1;32m~\\AppData\\Roaming\\Python\\Python312\\site-packages\\gspread\\client.py:161\u001b[0m, in \u001b[0;36mClient.open_by_key\u001b[1;34m(self, key)\u001b[0m\n\u001b[0;32m    159\u001b[0m     \u001b[38;5;28;01mif\u001b[39;00m ex\u001b[38;5;241m.\u001b[39mresponse\u001b[38;5;241m.\u001b[39mstatus_code \u001b[38;5;241m==\u001b[39m HTTPStatus\u001b[38;5;241m.\u001b[39mFORBIDDEN:\n\u001b[0;32m    160\u001b[0m         \u001b[38;5;28;01mraise\u001b[39;00m \u001b[38;5;167;01mPermissionError\u001b[39;00m \u001b[38;5;28;01mfrom\u001b[39;00m \u001b[38;5;21;01mex\u001b[39;00m\n\u001b[1;32m--> 161\u001b[0m     \u001b[38;5;28;01mraise\u001b[39;00m ex\n\u001b[0;32m    162\u001b[0m \u001b[38;5;28;01mreturn\u001b[39;00m spreadsheet\n",
      "File \u001b[1;32m~\\AppData\\Roaming\\Python\\Python312\\site-packages\\gspread\\client.py:155\u001b[0m, in \u001b[0;36mClient.open_by_key\u001b[1;34m(self, key)\u001b[0m\n\u001b[0;32m    147\u001b[0m \u001b[38;5;250m\u001b[39m\u001b[38;5;124;03m\"\"\"Opens a spreadsheet specified by `key` (a.k.a Spreadsheet ID).\u001b[39;00m\n\u001b[0;32m    148\u001b[0m \n\u001b[0;32m    149\u001b[0m \u001b[38;5;124;03m:param str key: A key of a spreadsheet as it appears in a URL in a browser.\u001b[39;00m\n\u001b[1;32m   (...)\u001b[0m\n\u001b[0;32m    152\u001b[0m \u001b[38;5;124;03m>>> gc.open_by_key('0BmgG6nO_6dprdS1MN3d3MkdPa142WFRrdnRRUWl1UFE')\u001b[39;00m\n\u001b[0;32m    153\u001b[0m \u001b[38;5;124;03m\"\"\"\u001b[39;00m\n\u001b[0;32m    154\u001b[0m \u001b[38;5;28;01mtry\u001b[39;00m:\n\u001b[1;32m--> 155\u001b[0m     spreadsheet \u001b[38;5;241m=\u001b[39m Spreadsheet(\u001b[38;5;28mself\u001b[39m\u001b[38;5;241m.\u001b[39mhttp_client, {\u001b[38;5;124m\"\u001b[39m\u001b[38;5;124mid\u001b[39m\u001b[38;5;124m\"\u001b[39m: key})\n\u001b[0;32m    156\u001b[0m \u001b[38;5;28;01mexcept\u001b[39;00m APIError \u001b[38;5;28;01mas\u001b[39;00m ex:\n\u001b[0;32m    157\u001b[0m     \u001b[38;5;28;01mif\u001b[39;00m ex\u001b[38;5;241m.\u001b[39mresponse\u001b[38;5;241m.\u001b[39mstatus_code \u001b[38;5;241m==\u001b[39m HTTPStatus\u001b[38;5;241m.\u001b[39mNOT_FOUND:\n",
      "File \u001b[1;32m~\\AppData\\Roaming\\Python\\Python312\\site-packages\\gspread\\spreadsheet.py:29\u001b[0m, in \u001b[0;36mSpreadsheet.__init__\u001b[1;34m(self, http_client, properties)\u001b[0m\n\u001b[0;32m     26\u001b[0m \u001b[38;5;28mself\u001b[39m\u001b[38;5;241m.\u001b[39mclient \u001b[38;5;241m=\u001b[39m http_client\n\u001b[0;32m     27\u001b[0m \u001b[38;5;28mself\u001b[39m\u001b[38;5;241m.\u001b[39m_properties \u001b[38;5;241m=\u001b[39m properties\n\u001b[1;32m---> 29\u001b[0m metadata \u001b[38;5;241m=\u001b[39m \u001b[38;5;28mself\u001b[39m\u001b[38;5;241m.\u001b[39mfetch_sheet_metadata()\n\u001b[0;32m     30\u001b[0m \u001b[38;5;28mself\u001b[39m\u001b[38;5;241m.\u001b[39m_properties\u001b[38;5;241m.\u001b[39mupdate(metadata[\u001b[38;5;124m\"\u001b[39m\u001b[38;5;124mproperties\u001b[39m\u001b[38;5;124m\"\u001b[39m])\n",
      "File \u001b[1;32m~\\AppData\\Roaming\\Python\\Python312\\site-packages\\gspread\\spreadsheet.py:230\u001b[0m, in \u001b[0;36mSpreadsheet.fetch_sheet_metadata\u001b[1;34m(self, params)\u001b[0m\n\u001b[0;32m    218\u001b[0m \u001b[38;5;28;01mdef\u001b[39;00m \u001b[38;5;21mfetch_sheet_metadata\u001b[39m(\n\u001b[0;32m    219\u001b[0m     \u001b[38;5;28mself\u001b[39m, params: Optional[ParamsType] \u001b[38;5;241m=\u001b[39m \u001b[38;5;28;01mNone\u001b[39;00m\n\u001b[0;32m    220\u001b[0m ) \u001b[38;5;241m-\u001b[39m\u001b[38;5;241m>\u001b[39m Mapping[\u001b[38;5;28mstr\u001b[39m, Any]:\n\u001b[0;32m    221\u001b[0m \u001b[38;5;250m    \u001b[39m\u001b[38;5;124;03m\"\"\"Similar to :method spreadsheets_get:`gspread.http_client.spreadsheets_get`,\u001b[39;00m\n\u001b[0;32m    222\u001b[0m \u001b[38;5;124;03m    get the spreadsheet form the API but by default **does not get the cells data**.\u001b[39;00m\n\u001b[0;32m    223\u001b[0m \u001b[38;5;124;03m    It only retrieve the the metadata from the spreadsheet.\u001b[39;00m\n\u001b[1;32m   (...)\u001b[0m\n\u001b[0;32m    228\u001b[0m \u001b[38;5;124;03m    :rtype: dict\u001b[39;00m\n\u001b[0;32m    229\u001b[0m \u001b[38;5;124;03m    \"\"\"\u001b[39;00m\n\u001b[1;32m--> 230\u001b[0m     \u001b[38;5;28;01mreturn\u001b[39;00m \u001b[38;5;28mself\u001b[39m\u001b[38;5;241m.\u001b[39mclient\u001b[38;5;241m.\u001b[39mfetch_sheet_metadata(\u001b[38;5;28mself\u001b[39m\u001b[38;5;241m.\u001b[39mid, params\u001b[38;5;241m=\u001b[39mparams)\n",
      "File \u001b[1;32m~\\AppData\\Roaming\\Python\\Python312\\site-packages\\gspread\\http_client.py:305\u001b[0m, in \u001b[0;36mHTTPClient.fetch_sheet_metadata\u001b[1;34m(self, id, params)\u001b[0m\n\u001b[0;32m    301\u001b[0m     params \u001b[38;5;241m=\u001b[39m {\u001b[38;5;124m\"\u001b[39m\u001b[38;5;124mincludeGridData\u001b[39m\u001b[38;5;124m\"\u001b[39m: \u001b[38;5;124m\"\u001b[39m\u001b[38;5;124mfalse\u001b[39m\u001b[38;5;124m\"\u001b[39m}\n\u001b[0;32m    303\u001b[0m url \u001b[38;5;241m=\u001b[39m SPREADSHEET_URL \u001b[38;5;241m%\u001b[39m \u001b[38;5;28mid\u001b[39m\n\u001b[1;32m--> 305\u001b[0m r \u001b[38;5;241m=\u001b[39m \u001b[38;5;28mself\u001b[39m\u001b[38;5;241m.\u001b[39mrequest(\u001b[38;5;124m\"\u001b[39m\u001b[38;5;124mget\u001b[39m\u001b[38;5;124m\"\u001b[39m, url, params\u001b[38;5;241m=\u001b[39mparams)\n\u001b[0;32m    307\u001b[0m \u001b[38;5;28;01mreturn\u001b[39;00m r\u001b[38;5;241m.\u001b[39mjson()\n",
      "File \u001b[1;32m~\\AppData\\Roaming\\Python\\Python312\\site-packages\\gspread\\http_client.py:128\u001b[0m, in \u001b[0;36mHTTPClient.request\u001b[1;34m(self, method, endpoint, params, data, json, files, headers)\u001b[0m\n\u001b[0;32m    126\u001b[0m     \u001b[38;5;28;01mreturn\u001b[39;00m response\n\u001b[0;32m    127\u001b[0m \u001b[38;5;28;01melse\u001b[39;00m:\n\u001b[1;32m--> 128\u001b[0m     \u001b[38;5;28;01mraise\u001b[39;00m APIError(response)\n",
      "\u001b[1;31mAPIError\u001b[0m: APIError: [400]: This operation is not supported for this document"
     ]
    }
   ],
   "source": [
    "\n",
    "#Abrir la hoja de calculo por URL o por ID\n",
    "spreadsheet = client.open_by_url(\"https://docs.google.com/spreadsheets/d/1lDcw9dWniIy7b9pi9DQFQ-pj4UvHUQkr/edit?gid=1470561836#gid=1470561836\") #https://docs.google.com/spreadsheets/d/<ID_de_tu_hoja_de_calculo> #https://docs.google.com/spreadsheets/d/1lDcw9dWniIy7b9pi9DQFQ-pj4UvHUQkr/edit?gid=1470561836#gid=1470561836\n",
    "\n",
    "#Seleccionar la hoja específica dentro del archivo (Se puede usar el nombre de la hoja o el índice)\n",
    "sheet = spreadsheet.worksheet(\"Octubre\") #sheet name\n",
    "\n",
    "#Leer los datos en un dataframe\n",
    "data = sheet.get_all_records()\n",
    "df = pd.DataFrame(data)\n",
    "\n",
    "#Show firsts rows of the dataframe\n",
    "print(df.head())\n"
   ]
  },
  {
   "cell_type": "markdown",
   "metadata": {},
   "source": [
    "---"
   ]
  },
  {
   "cell_type": "code",
   "execution_count": 17,
   "metadata": {},
   "outputs": [
    {
     "name": "stdout",
     "output_type": "stream",
     "text": [
      "El puerto 9222 está en uso en 127.0.0.1.\n"
     ]
    }
   ],
   "source": [
    "import socket\n",
    "\n",
    "def check_port_in_use(port, host='127.0.0.1'):\n",
    "    with socket.socket(socket.AF_INET, socket.SOCK_STREAM) as s:\n",
    "        return s.connect_ex((host, port)) == 0\n",
    "\n",
    "port = 9222\n",
    "host = '127.0.0.1'\n",
    "if check_port_in_use(port, host):\n",
    "    print(f\"El puerto {port} está en uso en {host}.\")\n",
    "else:\n",
    "    print(f\"El puerto {port} no está en uso en {host}.\")"
   ]
  },
  {
   "cell_type": "markdown",
   "metadata": {},
   "source": [
    "## Chrome connection Windows"
   ]
  },
  {
   "cell_type": "code",
   "execution_count": 11,
   "metadata": {},
   "outputs": [
    {
     "name": "stderr",
     "output_type": "stream",
     "text": [
      "<>:2: SyntaxWarning: invalid escape sequence '\\P'\n",
      "<>:2: SyntaxWarning: invalid escape sequence '\\P'\n",
      "C:\\Users\\matia\\AppData\\Local\\Temp\\ipykernel_23368\\980132825.py:2: SyntaxWarning: invalid escape sequence '\\P'\n",
      "  command = '\"C:\\Program Files\\Google\\Chrome\\Application\\chrome.exe\" --remote-debugging-port=9222 --user-data-dir=\"C:\\chrome_debug\"'\n"
     ]
    },
    {
     "name": "stdout",
     "output_type": "stream",
     "text": [
      "El puerto 9222 está en uso:\n",
      "  TCP    127.0.0.1:9222         0.0.0.0:0              LISTENING       12300\n",
      "  TCP    127.0.0.1:9222         127.0.0.1:50992        FIN_WAIT_2      900\n",
      "  TCP    127.0.0.1:9222         127.0.0.1:50993        TIME_WAIT       0\n",
      "  TCP    127.0.0.1:50992        127.0.0.1:9222         CLOSE_WAIT      8372\n",
      "\n"
     ]
    }
   ],
   "source": [
    "#Ejecutar el comando en el cmd\n",
    "command = '\"C:\\Program Files\\Google\\Chrome\\Application\\chrome.exe\" --remote-debugging-port=9222 --user-data-dir=\"C:\\chrome_debug\"'\n",
    "process = subprocess.Popen(command, shell=True)\n",
    "time.sleep(2)\n",
    "\n",
    "#Verifield if the port 9222 is open\n",
    "command_check = \"netstat -ano | findstr 9222\"\n",
    "process_check = subprocess.Popen(command_check, shell=True, stdout=subprocess.PIPE, stderr=subprocess.PIPE)\n",
    "stdout, stderr = process_check.communicate()\n",
    "if stdout:\n",
    "    print(\"El puerto 9222 está en uso:\")\n",
    "    print(stdout.decode())\n",
    "else:\n",
    "    print(\"El puerto 9222 no está en uso o hubo un error:\")\n",
    "    print(stderr.decode())\n",
    "\n",
    "#Configurar las opciones de Chrome para conectarse a la instancia Chrome existente\n",
    "chrome_options = Options()\n",
    "chrome_options.add_experimental_option(\"debuggerAddress\", \"127.0.0.1:9222\")\n",
    "\n",
    "#Configuración del controlador de Chrome\n",
    "service = Service(ChromeDriverManager().install())\n",
    "driver = webdriver.Chrome(service=service, options=chrome_options)\n",
    "\n",
    "html = driver.page_source"
   ]
  },
  {
   "cell_type": "markdown",
   "metadata": {},
   "source": [
    "---"
   ]
  },
  {
   "cell_type": "markdown",
   "metadata": {},
   "source": [
    "## Explotanto la información"
   ]
  },
  {
   "cell_type": "markdown",
   "metadata": {},
   "source": [
    "### Header"
   ]
  },
  {
   "cell_type": "code",
   "execution_count": 12,
   "metadata": {},
   "outputs": [
    {
     "name": "stdout",
     "output_type": "stream",
     "text": [
      "{'To Do': 'id=\"281906\"', 'Analysing': 'id=\"281911\"', 'Pending to information': 'id=\"281914\"', 'In progress': 'id=\"281907\"', 'Ready to deploy': 'id=\"282052\"', 'Ready to verify': 'id=\"282060\"', 'Done': 'id=\"281908\"'}\n"
     ]
    }
   ],
   "source": [
    "#Execute the code in this URL: https://jira.globaldevtools.bbva.com/secure/RapidBoard.jspa?rapidView=33300&quickFilter=106472\n",
    "\n",
    "driver.get(\"https://jira.globaldevtools.bbva.com/secure/RapidBoard.jspa?rapidView=33300&quickFilter=106472\")\n",
    "time.sleep(3)\n",
    "#Get from HTML WEB\n",
    "element_header = driver.find_element(By.XPATH, \"//ul[@class='ghx-column-headers']\")\n",
    "element_header = element_header.get_attribute('innerHTML')\n",
    "\n",
    "#Starting the local\n",
    "element_haux = element_header.split(\"<li\")\n",
    "\n",
    "start_id = element_haux[2].find(\"id=\")\n",
    "end_id = start_id + 11\n",
    "\n",
    "list_header = [\"To Do\", \"Analysing\", \"Pending to information\", \"In progress\", \"Ready to deploy\", \"Ready to verify\", \"Done\"]\n",
    "list_header_ids = []\n",
    "for i in element_haux[1: ]:\n",
    "    list_header_ids.append(i[start_id: end_id])\n",
    "\n",
    "list_headers = dict(zip(list_header, list_header_ids))\n",
    "print(list_headers)"
   ]
  },
  {
   "cell_type": "markdown",
   "metadata": {},
   "source": [
    "### Columns information"
   ]
  },
  {
   "cell_type": "code",
   "execution_count": 28,
   "metadata": {},
   "outputs": [
    {
     "name": "stdout",
     "output_type": "stream",
     "text": [
      "//div[@class='js-detailview ghx-issue js-issue ghx-has-avatar js-parent-drag ghx-not-rankable ghx-days-0 ghx-type-10900 ui-draggable ui-draggable-handle']|//div[@class='js-detailview ghx-issue js-issue ghx-has-avatar js-parent-drag ghx-not-rankable ghx-days-1 ghx-type-10900 ui-draggable ui-draggable-handle']|//div[@class='js-detailview ghx-issue js-issue ghx-has-avatar js-parent-drag ghx-not-rankable ghx-days-2 ghx-type-10900 ui-draggable ui-draggable-handle']|//div[@class='js-detailview ghx-issue js-issue ghx-has-avatar js-parent-drag ghx-not-rankable ghx-days-3 ghx-type-10900 ui-draggable ui-draggable-handle']|//div[@class='js-detailview ghx-issue js-issue ghx-has-avatar js-parent-drag ghx-not-rankable ghx-days-4 ghx-type-10900 ui-draggable ui-draggable-handle']|//div[@class='js-detailview ghx-issue js-issue ghx-has-avatar js-parent-drag ghx-not-rankable ghx-days-5 ghx-type-10900 ui-draggable ui-draggable-handle']|//div[@class='js-detailview ghx-issue js-issue ghx-has-avatar js-parent-drag ghx-not-rankable ghx-days-6 ghx-type-10900 ui-draggable ui-draggable-handle']|//div[@class='js-detailview ghx-issue js-issue ghx-has-avatar js-parent-drag ghx-not-rankable ghx-days-7 ghx-type-10900 ui-draggable ui-draggable-handle']|//div[@class='js-detailview ghx-issue js-issue ghx-has-avatar js-parent-drag ghx-not-rankable ghx-days-8 ghx-type-10900 ui-draggable ui-draggable-handle']|//div[@class='js-detailview ghx-issue js-issue ghx-has-avatar js-parent-drag ghx-not-rankable ghx-days-9 ghx-type-10900 ui-draggable ui-draggable-handle']|//div[@class='js-detailview ghx-issue js-issue ghx-has-avatar js-parent-drag ghx-not-rankable ghx-days-10 ghx-type-10900 ui-draggable ui-draggable-handle']|//div[@class='js-detailview ghx-issue js-issue ghx-has-avatar js-parent-drag ghx-not-rankable ghx-days-11 ghx-type-10900 ui-draggable ui-draggable-handle']|//div[@class='js-detailview ghx-issue js-issue ghx-has-avatar js-parent-drag ghx-not-rankable ghx-days-12 ghx-type-10900 ui-draggable ui-draggable-handle']|//div[@class='js-detailview ghx-issue js-issue ghx-has-avatar js-parent-drag ghx-not-rankable ghx-days-13 ghx-type-10900 ui-draggable ui-draggable-handle']|//div[@class='js-detailview ghx-issue js-issue ghx-has-avatar js-parent-drag ghx-not-rankable ghx-days-14 ghx-type-10900 ui-draggable ui-draggable-handle']|//div[@class='js-detailview ghx-issue js-issue ghx-has-avatar js-parent-drag ghx-not-rankable ghx-days-15 ghx-type-10900 ui-draggable ui-draggable-handle']|//div[@class='js-detailview ghx-issue js-issue ghx-has-avatar js-parent-drag ghx-not-rankable ghx-days-16 ghx-type-10900 ui-draggable ui-draggable-handle']|//div[@class='js-detailview ghx-issue js-issue ghx-has-avatar js-parent-drag ghx-not-rankable ghx-days-17 ghx-type-10900 ui-draggable ui-draggable-handle']|//div[@class='js-detailview ghx-issue js-issue ghx-has-avatar js-parent-drag ghx-not-rankable ghx-days-18 ghx-type-10900 ui-draggable ui-draggable-handle']|//div[@class='js-detailview ghx-issue js-issue ghx-has-avatar js-parent-drag ghx-not-rankable ghx-days-19 ghx-type-10900 ui-draggable ui-draggable-handle']\n"
     ]
    }
   ],
   "source": [
    "days = range(20) #0 to 19\n",
    "xpaths = [f\"//div[@class='js-detailview ghx-issue js-issue ghx-has-avatar js-parent-drag ghx-not-rankable ghx-days-{day} ghx-type-10900 ui-draggable ui-draggable-handle']\" for day in days]\n",
    "combined_xpath = \"|\".join(xpaths)\n",
    "print(combined_xpath)"
   ]
  },
  {
   "cell_type": "code",
   "execution_count": 23,
   "metadata": {},
   "outputs": [],
   "source": [
    "# Cantidad de días acumulados. En este caso 10 días\n",
    "\n",
    "day0 = \"//div[@class='js-detailview ghx-issue js-issue ghx-has-avatar js-parent-drag ghx-not-rankable ghx-days-0 ghx-type-10900 ui-draggable ui-draggable-handle']\"\n",
    "day1 = \"//div[@class='js-detailview ghx-issue js-issue ghx-has-avatar js-parent-drag ghx-not-rankable ghx-days-1 ghx-type-10900 ui-draggable ui-draggable-handle']\"\n",
    "day2 = \"//div[@class='js-detailview ghx-issue js-issue ghx-has-avatar js-parent-drag ghx-not-rankable ghx-days-2 ghx-type-10900 ui-draggable ui-draggable-handle']\"\n",
    "day3 = \"//div[@class='js-detailview ghx-issue js-issue ghx-has-avatar js-parent-drag ghx-not-rankable ghx-days-3 ghx-type-10900 ui-draggable ui-draggable-handle']\"\n",
    "day4 = \"//div[@class='js-detailview ghx-issue js-issue ghx-has-avatar js-parent-drag ghx-not-rankable ghx-days-4 ghx-type-10900 ui-draggable ui-draggable-handle']\"\n",
    "day5 = \"//div[@class='js-detailview ghx-issue js-issue ghx-has-avatar js-parent-drag ghx-not-rankable ghx-days-5 ghx-type-10900 ui-draggable ui-draggable-handle']\"\n",
    "day6 = \"//div[@class='js-detailview ghx-issue js-issue ghx-has-avatar js-parent-drag ghx-not-rankable ghx-days-6 ghx-type-10900 ui-draggable ui-draggable-handle']\"\n",
    "day7 = \"//div[@class='js-detailview ghx-issue js-issue ghx-has-avatar js-parent-drag ghx-not-rankable ghx-days-7 ghx-type-10900 ui-draggable ui-draggable-handle']\"\n",
    "day8 = \"//div[@class='js-detailview ghx-issue js-issue ghx-has-avatar js-parent-drag ghx-not-rankable ghx-days-8 ghx-type-10900 ui-draggable ui-draggable-handle']\"\n",
    "day9 = \"//div[@class='js-detailview ghx-issue js-issue ghx-has-avatar js-parent-drag ghx-not-rankable ghx-days-9 ghx-type-10900 ui-draggable ui-draggable-handle']\"\n",
    "day10 = \"//div[@class='js-detailview ghx-issue js-issue ghx-has-avatar js-parent-drag ghx-not-rankable ghx-days-10 ghx-type-10900 ui-draggable ui-draggable-handle']\"\n",
    "day11 = \"//div[@class='js-detailview ghx-issue js-issue ghx-has-avatar js-parent-drag ghx-not-rankable ghx-days-11 ghx-type-10900 ui-draggable ui-draggable-handle']\"\n",
    "day12 = \"//div[@class='js-detailview ghx-issue js-issue ghx-has-avatar js-parent-drag ghx-not-rankable ghx-days-12 ghx-type-10900 ui-draggable ui-draggable-handle']\"\n",
    "day13 = \"//div[@class='js-detailview ghx-issue js-issue ghx-has-avatar js-parent-drag ghx-not-rankable ghx-days-13 ghx-type-10900 ui-draggable ui-draggable-handle']\"\n",
    "day14 = \"//div[@class='js-detailview ghx-issue js-issue ghx-has-avatar js-parent-drag ghx-not-rankable ghx-days-14 ghx-type-10900 ui-draggable ui-draggable-handle']\"\n",
    "day15 = \"//div[@class='js-detailview ghx-issue js-issue ghx-has-avatar js-parent-drag ghx-not-rankable ghx-days-15 ghx-type-10900 ui-draggable ui-draggable-handle']\"\n",
    "\n",
    "combined_xpath = f\"{day0}|{day1}|{day2}|{day3}|{day4}|{day5}|{day6}|{day7}|{day8}|{day9}|{day10}|{day11}|{day12}|{day13}|{day14}|{day15}\""
   ]
  },
  {
   "cell_type": "code",
   "execution_count": 29,
   "metadata": {},
   "outputs": [
    {
     "name": "stdout",
     "output_type": "stream",
     "text": [
      "57 ['OTRSSD-17713', 'OTRSSD-17694', 'OTRSSD-17693', 'OTRSSD-17689', 'OTRSSD-17686', 'OTRSSD-17684', 'OTRSSD-17681', 'OTRSSD-17680', 'OTRSSD-17679', 'OTRSSD-17678', 'OTRSSD-17668', 'OTRSSD-17667', 'OTRSSD-17666', 'OTRSSD-17665', 'OTRSSD-17664', 'OTRSSD-17663', 'OTRSSD-17662', 'OTRSSD-17661', 'OTRSSD-17660', 'OTRSSD-17659', 'OTRSSD-17657', 'OTRSSD-17649', 'OTRSSD-17647', 'OTRSSD-17646', 'OTRSSD-17645', 'OTRSSD-17644', 'OTRSSD-17643', 'OTRSSD-17642', 'OTRSSD-17641', 'OTRSSD-17630', 'OTRSSD-17620', 'OTRSSD-17619', 'OTRSSD-17616', 'OTRSSD-17615', 'OTRSSD-17614', 'OTRSSD-17613', 'OTRSSD-17597', 'OTRSSD-17596', 'OTRSSD-17595', 'OTRSSD-17594', 'OTRSSD-17576', 'OTRSSD-17575', 'OTRSSD-17574', 'OTRSSD-17571', 'OTRSSD-17557', 'OTRSSD-17555', 'OTRSSD-17551', 'OTRSSD-17550', 'OTRSSD-17549', 'OTRSSD-17548', 'OTRSSD-17547', 'OTRSSD-17546', 'OTRSSD-17545', 'OTRSSD-17544', 'OTRSSD-17524', 'OTRSSD-17510', 'OTRSSD-17508']\n"
     ]
    }
   ],
   "source": [
    "elements = driver.find_elements(By.XPATH, combined_xpath)\n",
    "elements_html = []\n",
    "for element in elements: \n",
    "    elements_html.append(element.get_attribute('innerHTML'))\n",
    "\n",
    "for i in range(len(elements_html)): \n",
    "    elements_html[i] = elements_html[i][99: 111]\n",
    "\n",
    "print(len(elements_html), elements_html)"
   ]
  },
  {
   "cell_type": "markdown",
   "metadata": {},
   "source": [
    "### Accediento a cada petición"
   ]
  },
  {
   "cell_type": "code",
   "execution_count": 15,
   "metadata": {},
   "outputs": [
    {
     "name": "stdout",
     "output_type": "stream",
     "text": [
      "https://jira.globaldevtools.bbva.com/browse/OTRSSD-17694\n"
     ]
    }
   ],
   "source": [
    "#https://jira.globaldevtools.bbva.com/(browse/OTRSSD-?????)\n",
    "peticiones_url = []\n",
    "for peticion in elements_html:\n",
    "    peticiones_url.append(f\"https://jira.globaldevtools.bbva.com/browse/{peticion}\")\n",
    "\n",
    "print(peticiones_url[1])\n",
    "\n",
    "#Abrir nueva pestana (Acceder a la URL de la petición)\n",
    "driver.execute_script(f\"window.open('{peticiones_url[1]}');\")\n",
    "tabs = driver.window_handles\n",
    "driver.switch_to.window(tabs[-1])\n",
    "\n",
    "html = driver.page_source"
   ]
  },
  {
   "cell_type": "code",
   "execution_count": 16,
   "metadata": {},
   "outputs": [
    {
     "name": "stdout",
     "output_type": "stream",
     "text": [
      "0 \n",
      " []\n"
     ]
    }
   ],
   "source": [
    "description = driver.find_elements(By.XPATH, \"//div[@class='user-content-block']\")\n",
    "descriptions = []\n",
    "for descrip in description:\n",
    "    descriptions.append(descrip.get_attribute('innerHTML'))\n",
    "\n",
    "print(len(descriptions), '\\n', descriptions)"
   ]
  },
  {
   "cell_type": "code",
   "execution_count": null,
   "metadata": {},
   "outputs": [],
   "source": []
  }
 ],
 "metadata": {
  "kernelspec": {
   "display_name": "base",
   "language": "python",
   "name": "python3"
  },
  "language_info": {
   "codemirror_mode": {
    "name": "ipython",
    "version": 3
   },
   "file_extension": ".py",
   "mimetype": "text/x-python",
   "name": "python",
   "nbconvert_exporter": "python",
   "pygments_lexer": "ipython3",
   "version": "3.12.4"
  }
 },
 "nbformat": 4,
 "nbformat_minor": 2
}
