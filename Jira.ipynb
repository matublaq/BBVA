{
 "cells": [
  {
   "cell_type": "markdown",
   "metadata": {},
   "source": [
    "<p style=\"font-size: 35px; color: violet; text-align: center;\">JIRA</p>"
   ]
  },
  {
   "cell_type": "code",
   "execution_count": 50,
   "metadata": {},
   "outputs": [],
   "source": [
    "import numpy as np\n",
    "import pandas as pd \n",
    "import requests\n",
    "import time\n",
    "\n",
    "from selenium import webdriver\n",
    "from selenium.webdriver.chrome.service import Service\n",
    "from selenium.webdriver.chrome.options import Options\n",
    "from selenium.webdriver.common.by import By\n",
    "from webdriver_manager.chrome import ChromeDriverManager\n",
    "\n",
    "\n",
    "from bs4 import BeautifulSoup\n",
    "\n",
    "#Google sheed API\n",
    "import gspread\n",
    "from google.oauth2.service_account import Credentials\n",
    "from oauth2client.service_account import ServiceAccountCredentials\n",
    "from googleapiclient.discovery import build\n",
    "from googleapiclient.http import MediaFileUpload\n",
    "\n",
    "#Execute shell commands\n",
    "import subprocess"
   ]
  },
  {
   "cell_type": "markdown",
   "metadata": {},
   "source": [
    "---"
   ]
  },
  {
   "cell_type": "markdown",
   "metadata": {},
   "source": [
    "### Google sheets connection"
   ]
  },
  {
   "cell_type": "code",
   "execution_count": 51,
   "metadata": {},
   "outputs": [
    {
     "name": "stdout",
     "output_type": "stream",
     "text": [
      "Available sheeds: ['2024 totales - Peticiones', '2024', 'Abril', 'Mayo', 'Junio', 'Julio', 'Agosto', 'Octubre', 'Septiembre', 'Responsables', 'Extra', 'Copia de 2024', 'Semana 1010', 'Tareas']\n",
      "  Fecha de alta Fecha incurrida Fecha de fin UUAAA        Código SDATOOL  \\\n",
      "0    24/09/2024      01/10/2024   01/10/2024  KESJ  DQ-DP-007019   45403   \n",
      "1    24/09/2024      01/10/2024   01/10/2024  KESJ  DQ-DP-007019   45403   \n",
      "2    27/09/2024      01/10/2024   01/10/2024  FACC  DQ-DP-007037   34644   \n",
      "3    27/09/2024      01/10/2024   01/10/2024  KHFC                         \n",
      "4    30/09/2024      01/10/2024   01/10/2024  MCRR  DQ-DP-007041   38358   \n",
      "\n",
      "          Feature         Petición Geografía     Gestor BBDD   Ámbito  \\\n",
      "0  AUDLEGGES4-249  REQ000101515343    España       PosgreSQL   Legacy   \n",
      "1  AUDLEGGES4-249  REQ000101515343    España       PosgreSQL   Legacy   \n",
      "2         ADH-678     OTRSSD-17407    España  Oracle Physics  NextGEN   \n",
      "3                     OTRSSD-17408            Oracle Physics  NextGEN   \n",
      "4         ADH-690     OTRSSD-17410    Global  Oracle Physics  NextGEN   \n",
      "\n",
      "  Responsable Validada Horas                              Comentarios  \\\n",
      "0       David       Si     3  Pendiente DROP, volver a hacer check-in   \n",
      "1      Matías       No     3  Pendiente DROP, volver a hacer check-in   \n",
      "2       David       Si   0.5                                            \n",
      "3       Pedro       No     1                               Descartada   \n",
      "4       David       Si   1.5                                            \n",
      "\n",
      "    Estado     \n",
      "0  Cerrado  2  \n",
      "1  Cerrado  2  \n",
      "2  Cerrado  3  \n",
      "3  Cerrado  3  \n",
      "4  Cerrado  4  \n"
     ]
    }
   ],
   "source": [
    "# Email service account that need to share the google sheet\n",
    "service_account_email = \"matiasblaquier@theta-voyager-406314.iam.gserviceaccount.com\"\n",
    "\n",
    "#email that need to share the google sheet = matiasblaquier@theta-voyager-406314.iam.gserviceaccount.com\n",
    "scope = [\n",
    "    'https://spreadsheets.google.com/feeds', \n",
    "    'https://www.googleapis.com/auth/spreadsheets',\n",
    "    'https://www.googleapis.com/auth/drive'\n",
    "    ]\n",
    "\n",
    "credentials = \"credentials.json\"\n",
    "\n",
    "try: \n",
    "    #Cargar credenciales\n",
    "    creds = ServiceAccountCredentials.from_json_keyfile_name(credentials, scope)\n",
    "\n",
    "    #Autorizar gspread con las credenciales\n",
    "    client = gspread.authorize(creds)\n",
    "\n",
    "    # ID de la hoja de cálculo \n",
    "    srpeadsheet_id = \"1v9wCFg6f6geoiiknvNUWjxd3XxIFLJb8aMUfRcTWKAc\"\n",
    "\n",
    "    # Open the Google Sheet file by ID\n",
    "    spreadsheet = client.open_by_key(srpeadsheet_id)\n",
    "\n",
    "    # List all sheets file\n",
    "    sheets = spreadsheet.worksheets()\n",
    "    print(f\"Available sheeds: {[sheet.title for sheet in sheets]}\")\n",
    "\n",
    "    # Seleccionar la hoja específica por nombre\n",
    "    sheet_name = \"Octubre\"  # Reemplaza con el nombre de tu hoja\n",
    "    sheet = spreadsheet.worksheet(sheet_name)\n",
    "\n",
    "    expected_headers = [\"Fecha de alta\", \"Fecha incurrida\", \"Fecha de fin\", \"UUAAA\", \"Código\", \"SDATOOL\", \"Feature\", \"Petición\", \"Geografía\", \"Gestor BBDD\", \"Ámbito\", \"Responsable\", \"Validada\", \"Horas\", \"Comentarios\"]\n",
    "\n",
    "    # Obtener todos los registros de la hoja\n",
    "    data = sheet.get_all_records(expected_headers=expected_headers)\n",
    "    df = pd.DataFrame(data)\n",
    "\n",
    "    # Mostrar las primeras filas del DataFrame\n",
    "    print(df.head())\n",
    "\n",
    "except gspread.exceptions.APIError as e:\n",
    "    print(f\"APIError: {e}\")\n",
    "\n",
    "except Exception as e:\n",
    "    print(f\"Error: {e}\")"
   ]
  },
  {
   "cell_type": "code",
   "execution_count": 52,
   "metadata": {},
   "outputs": [
    {
     "data": {
      "text/html": [
       "<div>\n",
       "<style scoped>\n",
       "    .dataframe tbody tr th:only-of-type {\n",
       "        vertical-align: middle;\n",
       "    }\n",
       "\n",
       "    .dataframe tbody tr th {\n",
       "        vertical-align: top;\n",
       "    }\n",
       "\n",
       "    .dataframe thead th {\n",
       "        text-align: right;\n",
       "    }\n",
       "</style>\n",
       "<table border=\"1\" class=\"dataframe\">\n",
       "  <thead>\n",
       "    <tr style=\"text-align: right;\">\n",
       "      <th></th>\n",
       "      <th>Fecha de alta</th>\n",
       "      <th>Fecha incurrida</th>\n",
       "      <th>Fecha de fin</th>\n",
       "      <th>UUAAA</th>\n",
       "      <th>Código</th>\n",
       "      <th>SDATOOL</th>\n",
       "      <th>Feature</th>\n",
       "      <th>Petición</th>\n",
       "      <th>Geografía</th>\n",
       "      <th>Gestor BBDD</th>\n",
       "      <th>Ámbito</th>\n",
       "      <th>Responsable</th>\n",
       "      <th>Validada</th>\n",
       "      <th>Horas</th>\n",
       "      <th>Comentarios</th>\n",
       "      <th>Estado</th>\n",
       "      <th></th>\n",
       "    </tr>\n",
       "  </thead>\n",
       "  <tbody>\n",
       "    <tr>\n",
       "      <th>0</th>\n",
       "      <td>2024-09-24</td>\n",
       "      <td>2024-10-01</td>\n",
       "      <td>2024-10-01</td>\n",
       "      <td>KESJ</td>\n",
       "      <td>DQ-DP-007019</td>\n",
       "      <td>45403</td>\n",
       "      <td>AUDLEGGES4-249</td>\n",
       "      <td>REQ000101515343</td>\n",
       "      <td>España</td>\n",
       "      <td>PosgreSQL</td>\n",
       "      <td>Legacy</td>\n",
       "      <td>David</td>\n",
       "      <td>Si</td>\n",
       "      <td>3</td>\n",
       "      <td>Pendiente DROP, volver a hacer check-in</td>\n",
       "      <td>Cerrado</td>\n",
       "      <td>2</td>\n",
       "    </tr>\n",
       "    <tr>\n",
       "      <th>1</th>\n",
       "      <td>2024-09-24</td>\n",
       "      <td>2024-10-01</td>\n",
       "      <td>2024-10-01</td>\n",
       "      <td>KESJ</td>\n",
       "      <td>DQ-DP-007019</td>\n",
       "      <td>45403</td>\n",
       "      <td>AUDLEGGES4-249</td>\n",
       "      <td>REQ000101515343</td>\n",
       "      <td>España</td>\n",
       "      <td>PosgreSQL</td>\n",
       "      <td>Legacy</td>\n",
       "      <td>Matías</td>\n",
       "      <td>No</td>\n",
       "      <td>3</td>\n",
       "      <td>Pendiente DROP, volver a hacer check-in</td>\n",
       "      <td>Cerrado</td>\n",
       "      <td>2</td>\n",
       "    </tr>\n",
       "    <tr>\n",
       "      <th>2</th>\n",
       "      <td>2024-09-27</td>\n",
       "      <td>2024-10-01</td>\n",
       "      <td>2024-10-01</td>\n",
       "      <td>FACC</td>\n",
       "      <td>DQ-DP-007037</td>\n",
       "      <td>34644</td>\n",
       "      <td>ADH-678</td>\n",
       "      <td>OTRSSD-17407</td>\n",
       "      <td>España</td>\n",
       "      <td>Oracle Physics</td>\n",
       "      <td>NextGEN</td>\n",
       "      <td>David</td>\n",
       "      <td>Si</td>\n",
       "      <td>0.5</td>\n",
       "      <td></td>\n",
       "      <td>Cerrado</td>\n",
       "      <td>3</td>\n",
       "    </tr>\n",
       "    <tr>\n",
       "      <th>3</th>\n",
       "      <td>2024-09-27</td>\n",
       "      <td>2024-10-01</td>\n",
       "      <td>2024-10-01</td>\n",
       "      <td>KHFC</td>\n",
       "      <td></td>\n",
       "      <td></td>\n",
       "      <td></td>\n",
       "      <td>OTRSSD-17408</td>\n",
       "      <td></td>\n",
       "      <td>Oracle Physics</td>\n",
       "      <td>NextGEN</td>\n",
       "      <td>Pedro</td>\n",
       "      <td>No</td>\n",
       "      <td>1</td>\n",
       "      <td>Descartada</td>\n",
       "      <td>Cerrado</td>\n",
       "      <td>3</td>\n",
       "    </tr>\n",
       "    <tr>\n",
       "      <th>4</th>\n",
       "      <td>2024-09-30</td>\n",
       "      <td>2024-10-01</td>\n",
       "      <td>2024-10-01</td>\n",
       "      <td>MCRR</td>\n",
       "      <td>DQ-DP-007041</td>\n",
       "      <td>38358</td>\n",
       "      <td>ADH-690</td>\n",
       "      <td>OTRSSD-17410</td>\n",
       "      <td>Global</td>\n",
       "      <td>Oracle Physics</td>\n",
       "      <td>NextGEN</td>\n",
       "      <td>David</td>\n",
       "      <td>Si</td>\n",
       "      <td>1.5</td>\n",
       "      <td></td>\n",
       "      <td>Cerrado</td>\n",
       "      <td>4</td>\n",
       "    </tr>\n",
       "    <tr>\n",
       "      <th>...</th>\n",
       "      <td>...</td>\n",
       "      <td>...</td>\n",
       "      <td>...</td>\n",
       "      <td>...</td>\n",
       "      <td>...</td>\n",
       "      <td>...</td>\n",
       "      <td>...</td>\n",
       "      <td>...</td>\n",
       "      <td>...</td>\n",
       "      <td>...</td>\n",
       "      <td>...</td>\n",
       "      <td>...</td>\n",
       "      <td>...</td>\n",
       "      <td>...</td>\n",
       "      <td>...</td>\n",
       "      <td>...</td>\n",
       "      <td>...</td>\n",
       "    </tr>\n",
       "    <tr>\n",
       "      <th>167</th>\n",
       "      <td>2024-10-24</td>\n",
       "      <td>NaT</td>\n",
       "      <td>NaT</td>\n",
       "      <td>XBOB</td>\n",
       "      <td></td>\n",
       "      <td>44974</td>\n",
       "      <td>WSONEPIV13-1593</td>\n",
       "      <td>OTRSSD-17798</td>\n",
       "      <td>Global</td>\n",
       "      <td>Oracle Physics</td>\n",
       "      <td>NextGEN</td>\n",
       "      <td></td>\n",
       "      <td></td>\n",
       "      <td>12/11</td>\n",
       "      <td></td>\n",
       "      <td>Backlog</td>\n",
       "      <td>#REF!</td>\n",
       "    </tr>\n",
       "    <tr>\n",
       "      <th>168</th>\n",
       "      <td>2024-10-24</td>\n",
       "      <td>NaT</td>\n",
       "      <td>NaT</td>\n",
       "      <td>EKSA</td>\n",
       "      <td></td>\n",
       "      <td>45266</td>\n",
       "      <td>SISIF-806</td>\n",
       "      <td>OTRSSD-17799</td>\n",
       "      <td>España</td>\n",
       "      <td>Oracle Physics</td>\n",
       "      <td>NextGEN</td>\n",
       "      <td></td>\n",
       "      <td></td>\n",
       "      <td>12/11</td>\n",
       "      <td></td>\n",
       "      <td>Backlog</td>\n",
       "      <td>#REF!</td>\n",
       "    </tr>\n",
       "    <tr>\n",
       "      <th>169</th>\n",
       "      <td>2024-10-24</td>\n",
       "      <td>NaT</td>\n",
       "      <td>NaT</td>\n",
       "      <td>IMPT</td>\n",
       "      <td></td>\n",
       "      <td>449784</td>\n",
       "      <td>WSONEPIV19-1467</td>\n",
       "      <td>OTRSSD-17802</td>\n",
       "      <td>España</td>\n",
       "      <td>Oracle Physics</td>\n",
       "      <td>NextGEN</td>\n",
       "      <td></td>\n",
       "      <td></td>\n",
       "      <td>12/11</td>\n",
       "      <td></td>\n",
       "      <td>Backlog</td>\n",
       "      <td>#REF!</td>\n",
       "    </tr>\n",
       "    <tr>\n",
       "      <th>170</th>\n",
       "      <td>2024-10-24</td>\n",
       "      <td>NaT</td>\n",
       "      <td>NaT</td>\n",
       "      <td>H9IY</td>\n",
       "      <td></td>\n",
       "      <td>45905</td>\n",
       "      <td>EXTSERV-376</td>\n",
       "      <td>OTRSSD-17803</td>\n",
       "      <td>Global</td>\n",
       "      <td>Oracle Physics</td>\n",
       "      <td>NextGEN</td>\n",
       "      <td></td>\n",
       "      <td></td>\n",
       "      <td></td>\n",
       "      <td></td>\n",
       "      <td>Backlog</td>\n",
       "      <td>#REF!</td>\n",
       "    </tr>\n",
       "    <tr>\n",
       "      <th>171</th>\n",
       "      <td>2024-10-24</td>\n",
       "      <td>NaT</td>\n",
       "      <td>NaT</td>\n",
       "      <td>KESJ</td>\n",
       "      <td></td>\n",
       "      <td>45403</td>\n",
       "      <td>AUDLEGGES4-249</td>\n",
       "      <td>OTRSSD-17804</td>\n",
       "      <td>Global</td>\n",
       "      <td>Oracle Physics</td>\n",
       "      <td>NextGEN</td>\n",
       "      <td></td>\n",
       "      <td></td>\n",
       "      <td></td>\n",
       "      <td></td>\n",
       "      <td>Backlog</td>\n",
       "      <td>#REF!</td>\n",
       "    </tr>\n",
       "  </tbody>\n",
       "</table>\n",
       "<p>172 rows × 17 columns</p>\n",
       "</div>"
      ],
      "text/plain": [
       "    Fecha de alta Fecha incurrida Fecha de fin UUAAA        Código SDATOOL  \\\n",
       "0      2024-09-24      2024-10-01   2024-10-01  KESJ  DQ-DP-007019   45403   \n",
       "1      2024-09-24      2024-10-01   2024-10-01  KESJ  DQ-DP-007019   45403   \n",
       "2      2024-09-27      2024-10-01   2024-10-01  FACC  DQ-DP-007037   34644   \n",
       "3      2024-09-27      2024-10-01   2024-10-01  KHFC                         \n",
       "4      2024-09-30      2024-10-01   2024-10-01  MCRR  DQ-DP-007041   38358   \n",
       "..            ...             ...          ...   ...           ...     ...   \n",
       "167    2024-10-24             NaT          NaT  XBOB                 44974   \n",
       "168    2024-10-24             NaT          NaT  EKSA                 45266   \n",
       "169    2024-10-24             NaT          NaT  IMPT                449784   \n",
       "170    2024-10-24             NaT          NaT  H9IY                 45905   \n",
       "171    2024-10-24             NaT          NaT  KESJ                 45403   \n",
       "\n",
       "             Feature         Petición Geografía     Gestor BBDD   Ámbito  \\\n",
       "0     AUDLEGGES4-249  REQ000101515343    España       PosgreSQL   Legacy   \n",
       "1     AUDLEGGES4-249  REQ000101515343    España       PosgreSQL   Legacy   \n",
       "2            ADH-678     OTRSSD-17407    España  Oracle Physics  NextGEN   \n",
       "3                        OTRSSD-17408            Oracle Physics  NextGEN   \n",
       "4            ADH-690     OTRSSD-17410    Global  Oracle Physics  NextGEN   \n",
       "..               ...              ...       ...             ...      ...   \n",
       "167  WSONEPIV13-1593     OTRSSD-17798    Global  Oracle Physics  NextGEN   \n",
       "168        SISIF-806     OTRSSD-17799    España  Oracle Physics  NextGEN   \n",
       "169  WSONEPIV19-1467     OTRSSD-17802    España  Oracle Physics  NextGEN   \n",
       "170      EXTSERV-376     OTRSSD-17803    Global  Oracle Physics  NextGEN   \n",
       "171   AUDLEGGES4-249     OTRSSD-17804    Global  Oracle Physics  NextGEN   \n",
       "\n",
       "    Responsable Validada  Horas                              Comentarios  \\\n",
       "0         David       Si      3  Pendiente DROP, volver a hacer check-in   \n",
       "1        Matías       No      3  Pendiente DROP, volver a hacer check-in   \n",
       "2         David       Si    0.5                                            \n",
       "3         Pedro       No      1                               Descartada   \n",
       "4         David       Si    1.5                                            \n",
       "..          ...      ...    ...                                      ...   \n",
       "167                       12/11                                            \n",
       "168                       12/11                                            \n",
       "169                       12/11                                            \n",
       "170                                                                        \n",
       "171                                                                        \n",
       "\n",
       "      Estado         \n",
       "0    Cerrado      2  \n",
       "1    Cerrado      2  \n",
       "2    Cerrado      3  \n",
       "3    Cerrado      3  \n",
       "4    Cerrado      4  \n",
       "..       ...    ...  \n",
       "167  Backlog  #REF!  \n",
       "168  Backlog  #REF!  \n",
       "169  Backlog  #REF!  \n",
       "170  Backlog  #REF!  \n",
       "171  Backlog  #REF!  \n",
       "\n",
       "[172 rows x 17 columns]"
      ]
     },
     "execution_count": 52,
     "metadata": {},
     "output_type": "execute_result"
    }
   ],
   "source": [
    "# Eliminar filas vacías\n",
    "df = df[df[\"Fecha de alta\"] != \"\"]\n",
    "\n",
    "# Convertir las fechas a formato datetime\n",
    "df[[\"Fecha de alta\", \"Fecha incurrida\", \"Fecha de fin\"]] = df[[\"Fecha de alta\", \"Fecha incurrida\", \"Fecha de fin\"]].apply(pd.to_datetime, format=\"%d/%m/%Y\")\n",
    "df"
   ]
  },
  {
   "cell_type": "markdown",
   "metadata": {},
   "source": [
    "---"
   ]
  },
  {
   "cell_type": "code",
   "execution_count": 53,
   "metadata": {},
   "outputs": [
    {
     "name": "stdout",
     "output_type": "stream",
     "text": [
      "El puerto 9222 no está en uso en 127.0.0.1.\n"
     ]
    }
   ],
   "source": [
    "import socket\n",
    "\n",
    "def check_port_in_use(port, host='127.0.0.1'):\n",
    "    with socket.socket(socket.AF_INET, socket.SOCK_STREAM) as s:\n",
    "        return s.connect_ex((host, port)) == 0\n",
    "\n",
    "port = 9222\n",
    "host = '127.0.0.1'\n",
    "if check_port_in_use(port, host):\n",
    "    print(f\"El puerto {port} está en uso en {host}.\")\n",
    "else:\n",
    "    print(f\"El puerto {port} no está en uso en {host}.\")"
   ]
  },
  {
   "cell_type": "markdown",
   "metadata": {},
   "source": [
    "## Chrome connection Windows"
   ]
  },
  {
   "cell_type": "code",
   "execution_count": 54,
   "metadata": {},
   "outputs": [
    {
     "name": "stderr",
     "output_type": "stream",
     "text": [
      "<>:2: SyntaxWarning: invalid escape sequence '\\P'\n",
      "<>:2: SyntaxWarning: invalid escape sequence '\\P'\n",
      "C:\\Users\\matia\\AppData\\Local\\Temp\\ipykernel_15036\\980132825.py:2: SyntaxWarning: invalid escape sequence '\\P'\n",
      "  command = '\"C:\\Program Files\\Google\\Chrome\\Application\\chrome.exe\" --remote-debugging-port=9222 --user-data-dir=\"C:\\chrome_debug\"'\n"
     ]
    },
    {
     "name": "stdout",
     "output_type": "stream",
     "text": [
      "El puerto 9222 está en uso:\n",
      "  TCP    127.0.0.1:9222         0.0.0.0:0              LISTENING       27588\n",
      "  TCP    127.0.0.1:9222         127.0.0.1:52104        FIN_WAIT_2      26320\n",
      "  TCP    127.0.0.1:9222         127.0.0.1:52105        TIME_WAIT       0\n",
      "  TCP    127.0.0.1:52104        127.0.0.1:9222         CLOSE_WAIT      2840\n",
      "\n"
     ]
    }
   ],
   "source": [
    "#Ejecutar el comando en el cmd\n",
    "command = '\"C:\\Program Files\\Google\\Chrome\\Application\\chrome.exe\" --remote-debugging-port=9222 --user-data-dir=\"C:\\chrome_debug\"'\n",
    "process = subprocess.Popen(command, shell=True)\n",
    "time.sleep(2)\n",
    "\n",
    "#Verifield if the port 9222 is open\n",
    "command_check = \"netstat -ano | findstr 9222\"\n",
    "process_check = subprocess.Popen(command_check, shell=True, stdout=subprocess.PIPE, stderr=subprocess.PIPE)\n",
    "stdout, stderr = process_check.communicate()\n",
    "if stdout:\n",
    "    print(\"El puerto 9222 está en uso:\")\n",
    "    print(stdout.decode())\n",
    "else:\n",
    "    print(\"El puerto 9222 no está en uso o hubo un error:\")\n",
    "    print(stderr.decode())\n",
    "\n",
    "#Configurar las opciones de Chrome para conectarse a la instancia Chrome existente\n",
    "chrome_options = Options()\n",
    "chrome_options.add_experimental_option(\"debuggerAddress\", \"127.0.0.1:9222\")\n",
    "\n",
    "#Configuración del controlador de Chrome\n",
    "service = Service(ChromeDriverManager().install())\n",
    "driver = webdriver.Chrome(service=service, options=chrome_options)\n",
    "\n",
    "html = driver.page_source"
   ]
  },
  {
   "cell_type": "markdown",
   "metadata": {},
   "source": [
    "---"
   ]
  },
  {
   "cell_type": "markdown",
   "metadata": {},
   "source": [
    "<p style=\"text-align: center; font-size: 35px; color: skyblue;\">Going into JIRA</p>"
   ]
  },
  {
   "cell_type": "markdown",
   "metadata": {},
   "source": [
    "### Explotando la información"
   ]
  },
  {
   "cell_type": "markdown",
   "metadata": {},
   "source": [
    "### Header"
   ]
  },
  {
   "cell_type": "code",
   "execution_count": 55,
   "metadata": {},
   "outputs": [
    {
     "name": "stdout",
     "output_type": "stream",
     "text": [
      "{'To Do': 'id=\"281906\"', 'Analysing': 'id=\"281911\"', 'Pending to information': 'id=\"281914\"', 'In progress': 'id=\"281907\"', 'Ready to deploy': 'id=\"282052\"', 'Ready to verify': 'id=\"282060\"', 'Done': 'id=\"281908\"'}\n"
     ]
    }
   ],
   "source": [
    "#Execute the code in this URL: https://jira.globaldevtools.bbva.com/secure/RapidBoard.jspa?rapidView=33300&quickFilter=106472\n",
    "\n",
    "driver.get(\"https://jira.globaldevtools.bbva.com/secure/RapidBoard.jspa?rapidView=33300&quickFilter=106472\")\n",
    "time.sleep(5)\n",
    "#Get from HTML WEB\n",
    "element_header = driver.find_element(By.XPATH, \"//ul[@class='ghx-column-headers']\")\n",
    "element_header = element_header.get_attribute('innerHTML')\n",
    "\n",
    "#Starting the local\n",
    "element_haux = element_header.split(\"<li\")\n",
    "\n",
    "start_id = element_haux[2].find(\"id=\")\n",
    "end_id = start_id + 11\n",
    "\n",
    "list_header = [\"To Do\", \"Analysing\", \"Pending to information\", \"In progress\", \"Ready to deploy\", \"Ready to verify\", \"Done\"]\n",
    "list_header_ids = []\n",
    "for i in element_haux[1: ]:\n",
    "    list_header_ids.append(i[start_id: end_id])\n",
    "\n",
    "list_headers = dict(zip(list_header, list_header_ids))\n",
    "print(list_headers)"
   ]
  },
  {
   "cell_type": "markdown",
   "metadata": {},
   "source": [
    "### Columns information"
   ]
  },
  {
   "cell_type": "code",
   "execution_count": 56,
   "metadata": {},
   "outputs": [
    {
     "name": "stdout",
     "output_type": "stream",
     "text": [
      "66 ['OTRSSD-17811', 'OTRSSD-17809', 'OTRSSD-17808', 'OTRSSD-17807', 'OTRSSD-17806', 'OTRSSD-17805', 'OTRSSD-17804', 'OTRSSD-17803', 'OTRSSD-17802', 'OTRSSD-17799', 'OTRSSD-17798', 'OTRSSD-17787', 'OTRSSD-17784', 'OTRSSD-17782', 'OTRSSD-17781', 'OTRSSD-17778', 'OTRSSD-17777', 'OTRSSD-17754', 'OTRSSD-17753', 'OTRSSD-17737', 'OTRSSD-17736', 'OTRSSD-17735', 'OTRSSD-17713', 'OTRSSD-17694', 'OTRSSD-17693', 'OTRSSD-17689', 'OTRSSD-17686', 'OTRSSD-17684', 'OTRSSD-17681', 'OTRSSD-17680', 'OTRSSD-17679', 'OTRSSD-17678', 'OTRSSD-17668', 'OTRSSD-17667', 'OTRSSD-17666', 'OTRSSD-17665', 'OTRSSD-17664', 'OTRSSD-17663', 'OTRSSD-17662', 'OTRSSD-17661', 'OTRSSD-17660', 'OTRSSD-17659', 'OTRSSD-17657', 'OTRSSD-17649', 'OTRSSD-17647', 'OTRSSD-17646', 'OTRSSD-17645', 'OTRSSD-17644', 'OTRSSD-17643', 'OTRSSD-17642', 'OTRSSD-17641', 'OTRSSD-17630', 'OTRSSD-17620', 'OTRSSD-17619', 'OTRSSD-17616', 'OTRSSD-17615', 'OTRSSD-17614', 'OTRSSD-17613', 'OTRSSD-17597', 'OTRSSD-17596', 'OTRSSD-17595', 'OTRSSD-17594', 'OTRSSD-17576', 'OTRSSD-17575', 'OTRSSD-17510', 'OTRSSD-17508']\n"
     ]
    }
   ],
   "source": [
    "days = range(30) \n",
    "xpaths = [f\"//div[@class='js-detailview ghx-issue js-issue ghx-has-avatar js-parent-drag ghx-not-rankable ghx-days-{day} ghx-type-10900 ui-draggable ui-draggable-handle']\" for day in days]\n",
    "combined_xpath = \"|\".join(xpaths)\n",
    "\n",
    "# Geting the petition tag\n",
    "elements = driver.find_elements(By.XPATH, combined_xpath)\n",
    "petitions_code = []\n",
    "for element in elements: \n",
    "    petitions_code.append(element.get_attribute('innerHTML'))\n",
    "\n",
    "for i in range(len(elements_html)): \n",
    "    petitions_code[i] = petitions_code[i][99: 111]\n",
    "\n",
    "print(len(petitions_code), petitions_code)"
   ]
  },
  {
   "cell_type": "markdown",
   "metadata": {},
   "source": [
    "### Accediento a cada petición"
   ]
  },
  {
   "cell_type": "code",
   "execution_count": 57,
   "metadata": {},
   "outputs": [
    {
     "name": "stdout",
     "output_type": "stream",
     "text": [
      "https://jira.globaldevtools.bbva.com/browse/OTRSSD-17809\n"
     ]
    }
   ],
   "source": [
    "#https://jira.globaldevtools.bbva.com/(browse/OTRSSD-?????)\n",
    "peticiones_url = []\n",
    "for code in petitions_code:\n",
    "    peticiones_url.append(f\"https://jira.globaldevtools.bbva.com/browse/{code}\")\n",
    "\n",
    "print(peticiones_url[1])\n",
    "\n",
    "#Abrir nueva pestana (Acceder a la URL de la petición)\n",
    "driver.execute_script(f\"window.open('{peticiones_url[1]}');\")\n",
    "tabs = driver.window_handles\n",
    "driver.switch_to.window(tabs[-1])\n",
    "\n",
    "html = driver.page_source"
   ]
  },
  {
   "cell_type": "code",
   "execution_count": 58,
   "metadata": {},
   "outputs": [
    {
     "name": "stdout",
     "output_type": "stream",
     "text": [
      "1 \n",
      " ['\\n                    <p>Buenas,</p>\\n\\n<p>Solicitamos la revisión de rendimiento en el entorno de Desarrollo del modelo de Open Banking.</p>\\n\\n<p>Modelo:</p>\\n\\n<p><a href=\"https://jira.globaldevtools.bbva.com/servicedesk/customer/portal/20/SGS-56304\" class=\"external-link\" rel=\"nofollow\">https://jira.globaldevtools.bbva.com/servicedesk/customer/portal/20/SGS-56304</a></p>\\n\\n<p>Muchas gracias.</p>\\n            ']\n"
     ]
    }
   ],
   "source": [
    "description = driver.find_elements(By.XPATH, \"//div[@class='user-content-block']\")\n",
    "descriptions = []\n",
    "for descrip in description:\n",
    "    descriptions.append(descrip.get_attribute('innerHTML'))\n",
    "\n",
    "print(len(descriptions), '\\n', descriptions)"
   ]
  },
  {
   "cell_type": "markdown",
   "metadata": {},
   "source": [
    "---"
   ]
  },
  {
   "cell_type": "markdown",
   "metadata": {},
   "source": [
    "## Desarrollo"
   ]
  },
  {
   "cell_type": "markdown",
   "metadata": {},
   "source": [
    "#### Comprobación de si la petición está en el excel"
   ]
  },
  {
   "cell_type": "code",
   "execution_count": 59,
   "metadata": {},
   "outputs": [
    {
     "name": "stdout",
     "output_type": "stream",
     "text": [
      "Index(['Fecha de alta', 'Fecha incurrida', 'Fecha de fin', 'UUAAA', 'Código',\n",
      "       'SDATOOL', 'Feature', 'Petición', 'Geografía', 'Gestor BBDD', 'Ámbito',\n",
      "       'Responsable', 'Validada', 'Horas', 'Comentarios', 'Estado', ''],\n",
      "      dtype='object')\n",
      "['OTRSSD-17811', 'OTRSSD-17809', 'OTRSSD-17808', 'OTRSSD-17807', 'OTRSSD-17806', 'OTRSSD-17805', 'OTRSSD-17804', 'OTRSSD-17803', 'OTRSSD-17802', 'OTRSSD-17799', 'OTRSSD-17798', 'OTRSSD-17787', 'OTRSSD-17784', 'OTRSSD-17782', 'OTRSSD-17781', 'OTRSSD-17778', 'OTRSSD-17777', 'OTRSSD-17754', 'OTRSSD-17753', 'OTRSSD-17737', 'OTRSSD-17736', 'OTRSSD-17735', 'OTRSSD-17713', 'OTRSSD-17694', 'OTRSSD-17693', 'OTRSSD-17689', 'OTRSSD-17686', 'OTRSSD-17684', 'OTRSSD-17681', 'OTRSSD-17680', 'OTRSSD-17679', 'OTRSSD-17678', 'OTRSSD-17668', 'OTRSSD-17667', 'OTRSSD-17666', 'OTRSSD-17665', 'OTRSSD-17664', 'OTRSSD-17663', 'OTRSSD-17662', 'OTRSSD-17661', 'OTRSSD-17660', 'OTRSSD-17659', 'OTRSSD-17657', 'OTRSSD-17649', 'OTRSSD-17647', 'OTRSSD-17646', 'OTRSSD-17645', 'OTRSSD-17644', 'OTRSSD-17643', 'OTRSSD-17642', 'OTRSSD-17641', 'OTRSSD-17630', 'OTRSSD-17620', 'OTRSSD-17619', 'OTRSSD-17616', 'OTRSSD-17615', 'OTRSSD-17614', 'OTRSSD-17613', 'OTRSSD-17597', 'OTRSSD-17596', 'OTRSSD-17595', 'OTRSSD-17594', 'OTRSSD-17576', 'OTRSSD-17575', 'OTRSSD-17510', 'OTRSSD-17508']\n"
     ]
    }
   ],
   "source": [
    "print(df.columns)\n",
    "print(elements_html)"
   ]
  },
  {
   "cell_type": "code",
   "execution_count": 61,
   "metadata": {},
   "outputs": [
    {
     "name": "stdout",
     "output_type": "stream",
     "text": [
      "OTRSSD-17811\n",
      "OTRSSD-17809\n",
      "OTRSSD-17808\n",
      "OTRSSD-17807\n",
      "OTRSSD-17806\n",
      "OTRSSD-17805\n"
     ]
    }
   ],
   "source": [
    "for i in petitions_code:\n",
    "    if i not in df[\"Petición\"].values:\n",
    "        print(i)"
   ]
  },
  {
   "cell_type": "code",
   "execution_count": null,
   "metadata": {},
   "outputs": [],
   "source": []
  }
 ],
 "metadata": {
  "kernelspec": {
   "display_name": "base",
   "language": "python",
   "name": "python3"
  },
  "language_info": {
   "codemirror_mode": {
    "name": "ipython",
    "version": 3
   },
   "file_extension": ".py",
   "mimetype": "text/x-python",
   "name": "python",
   "nbconvert_exporter": "python",
   "pygments_lexer": "ipython3",
   "version": "3.12.4"
  }
 },
 "nbformat": 4,
 "nbformat_minor": 2
}
