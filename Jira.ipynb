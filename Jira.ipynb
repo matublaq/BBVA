{
 "cells": [
  {
   "cell_type": "markdown",
   "metadata": {},
   "source": [
    "<p style=\"font-size: 35px; color: violet; text-align: center;\">JIRA</p>"
   ]
  },
  {
   "cell_type": "code",
   "execution_count": 2,
   "metadata": {},
   "outputs": [],
   "source": [
    "import nbformat\n",
    "\n",
    "import numpy as np\n",
    "import pandas as pd \n",
    "import requests\n",
    "import time\n",
    "\n",
    "from selenium import webdriver\n",
    "from selenium.webdriver.chrome.service import Service\n",
    "from selenium.webdriver.chrome.options import Options\n",
    "from selenium.webdriver.common.by import By\n",
    "\n",
    "\n",
    "from bs4 import BeautifulSoup\n",
    "\n",
    "\n",
    "#Google sheed API\n",
    "import gspread\n",
    "from google.oauth2.service_account import Credentials\n",
    "from oauth2client.service_account import ServiceAccountCredentials\n",
    "from googleapiclient.discovery import build\n",
    "from googleapiclient.http import MediaFileUpload\n",
    "\n",
    "#Execute shell commands\n",
    "import subprocess"
   ]
  },
  {
   "cell_type": "markdown",
   "metadata": {},
   "source": [
    "---\n",
    "---"
   ]
  },
  {
   "cell_type": "markdown",
   "metadata": {},
   "source": [
    "## Functions"
   ]
  },
  {
   "cell_type": "code",
   "execution_count": 8,
   "metadata": {},
   "outputs": [],
   "source": [
    "def petition_html(petition):\n",
    "    #Open the petition\n",
    "    driver.execute_script(f\"window.open('https://jira.globaldevtools.bbva.com/browse/{petition}')\")\n",
    "    tabs = driver.window_handles\n",
    "    driver.switch_to.window(tabs[-1])\n",
    "\n",
    "    description = driver.find_elements(By.XPATH, \"//div[@class='user-content-block']\")\n",
    "    descriptions = []\n",
    "    for desc in description:\n",
    "        descriptions.append(desc.get_attribute('innerHTML'))\n",
    "    \n",
    "    \n",
    "    driver.switch_to.window(tabs[0])\n",
    "    time.sleep(2)\n",
    "    return descriptions"
   ]
  },
  {
   "cell_type": "markdown",
   "metadata": {},
   "source": [
    "---"
   ]
  },
  {
   "cell_type": "markdown",
   "metadata": {},
   "source": [
    "### Google sheets connection"
   ]
  },
  {
   "cell_type": "code",
   "execution_count": 9,
   "metadata": {},
   "outputs": [
    {
     "name": "stdout",
     "output_type": "stream",
     "text": [
      "Available sheeds: ['2024 totales - Peticiones', '2024 totales - Peticiones - Pro', '2024', 'Gráficos Semanales - Procesos', '2024 - Procesos', 'Abril', 'Mayo', 'Junio', 'Julio', 'Agosto', 'Septiembre', 'Octubre', 'Responsables']\n",
      "  Fecha de alta Fecha incurrida Fecha de fin UUAAA        Código SDATOOL  \\\n",
      "0    24/09/2024      01/10/2024   01/10/2024  KESJ  DQ-DP-007019   45403   \n",
      "1    24/09/2024      01/10/2024   01/10/2024  KESJ  DQ-DP-007019   45403   \n",
      "2    27/09/2024      01/10/2024   01/10/2024  FACC  DQ-DP-007037   34644   \n",
      "3    27/09/2024      01/10/2024   01/10/2024  KHFC                         \n",
      "4    30/09/2024      01/10/2024   01/10/2024  MCRR  DQ-DP-007041   38358   \n",
      "\n",
      "          Feature         Petición Geografía     Gestor BBDD   Ámbito  \\\n",
      "0  AUDLEGGES4-249  REQ000101515343    España       PosgreSQL   Legacy   \n",
      "1  AUDLEGGES4-249  REQ000101515343    España       PosgreSQL   Legacy   \n",
      "2         ADH-678     OTRSSD-17407    España  Oracle Physics  NextGEN   \n",
      "3                     OTRSSD-17408            Oracle Physics  NextGEN   \n",
      "4         ADH-690     OTRSSD-17410    Global  Oracle Physics  NextGEN   \n",
      "\n",
      "  Responsable Validada Horas                              Comentarios  \\\n",
      "0       David       Si     3  Pendiente DROP, volver a hacer check-in   \n",
      "1      Matías       No     3  Pendiente DROP, volver a hacer check-in   \n",
      "2       David       Si   0.5                                            \n",
      "3       Pedro       No     1                               Descartada   \n",
      "4       David       Si   1.5                                            \n",
      "\n",
      "    Estado     \n",
      "0  Cerrado  2  \n",
      "1  Cerrado  2  \n",
      "2  Cerrado  3  \n",
      "3  Cerrado  3  \n",
      "4  Cerrado  4  \n"
     ]
    }
   ],
   "source": [
    "# Email service account that need to share the google sheet\n",
    "service_account_email = \"matiasblaquier@theta-voyager-406314.iam.gserviceaccount.com\"\n",
    "\n",
    "#email that need to share the google sheet = matiasblaquier@theta-voyager-406314.iam.gserviceaccount.com\n",
    "scope = [\n",
    "    'https://spreadsheets.google.com/feeds', \n",
    "    'https://www.googleapis.com/auth/spreadsheets',\n",
    "    'https://www.googleapis.com/auth/drive'\n",
    "    ]\n",
    "\n",
    "credentials = \"credentials.json\"\n",
    "\n",
    "try: \n",
    "    #Cargar credenciales\n",
    "    creds = ServiceAccountCredentials.from_json_keyfile_name(credentials, scope)\n",
    "\n",
    "    #Autorizar gspread con las credenciales\n",
    "    client = gspread.authorize(creds)\n",
    "\n",
    "    # ID de la hoja de cálculo \n",
    "    srpeadsheet_id = \"1CsokYOkOFBBbPovGRH8oLllauYiRezShp0kjJfxlRsQ\"\n",
    "\n",
    "    # Open the Google Sheet file by ID\n",
    "    spreadsheet = client.open_by_key(srpeadsheet_id)\n",
    "\n",
    "    # List all sheets file\n",
    "    sheets = spreadsheet.worksheets()\n",
    "    print(f\"Available sheeds: {[sheet.title for sheet in sheets]}\")\n",
    "\n",
    "    # Seleccionar la hoja específica por nombre\n",
    "    sheet_name = \"Octubre\"  # Reemplaza con el nombre de tu hoja\n",
    "    sheet = spreadsheet.worksheet(sheet_name)\n",
    "    # Obtener los encabezados esperados\n",
    "    expected_headers = [\"Fecha de alta\", \"Fecha incurrida\", \"Fecha de fin\", \"UUAAA\", \"Código\", \"SDATOOL\", \"Feature\", \"Petición\", \"Geografía\", \"Gestor BBDD\", \"Ámbito\", \"Responsable\", \"Validada\", \"Horas\", \"Comentarios\"]\n",
    "\n",
    "    # Obtener todos los registros de la hoja\n",
    "    data = sheet.get_all_records(expected_headers=expected_headers)\n",
    "    df = pd.DataFrame(data)\n",
    "\n",
    "    # Mostrar las primeras filas del DataFrame\n",
    "    print(df.head())\n",
    "\n",
    "except gspread.exceptions.APIError as e:\n",
    "    print(f\"APIError: {e}\")\n",
    "\n",
    "except Exception as e:\n",
    "    print(f\"Error: {e}\")"
   ]
  },
  {
   "cell_type": "markdown",
   "metadata": {},
   "source": [
    "<p style=\"font-size: 25px; color: #abebc6;\">Limpiamos el Data Frame proveniente del 'excel'</p>"
   ]
  },
  {
   "cell_type": "code",
   "execution_count": 10,
   "metadata": {},
   "outputs": [
    {
     "data": {
      "text/html": [
       "<div>\n",
       "<style scoped>\n",
       "    .dataframe tbody tr th:only-of-type {\n",
       "        vertical-align: middle;\n",
       "    }\n",
       "\n",
       "    .dataframe tbody tr th {\n",
       "        vertical-align: top;\n",
       "    }\n",
       "\n",
       "    .dataframe thead th {\n",
       "        text-align: right;\n",
       "    }\n",
       "</style>\n",
       "<table border=\"1\" class=\"dataframe\">\n",
       "  <thead>\n",
       "    <tr style=\"text-align: right;\">\n",
       "      <th></th>\n",
       "      <th>Fecha de alta</th>\n",
       "      <th>Fecha incurrida</th>\n",
       "      <th>Fecha de fin</th>\n",
       "      <th>UUAAA</th>\n",
       "      <th>Código</th>\n",
       "      <th>SDATOOL</th>\n",
       "      <th>Feature</th>\n",
       "      <th>Petición</th>\n",
       "      <th>Geografía</th>\n",
       "      <th>Gestor BBDD</th>\n",
       "      <th>Ámbito</th>\n",
       "      <th>Responsable</th>\n",
       "      <th>Validada</th>\n",
       "      <th>Horas</th>\n",
       "      <th>Comentarios</th>\n",
       "      <th>Estado</th>\n",
       "    </tr>\n",
       "  </thead>\n",
       "  <tbody>\n",
       "    <tr>\n",
       "      <th>0</th>\n",
       "      <td>2024-09-24</td>\n",
       "      <td>2024-10-01</td>\n",
       "      <td>2024-10-01</td>\n",
       "      <td>KESJ</td>\n",
       "      <td>DQ-DP-007019</td>\n",
       "      <td>45403</td>\n",
       "      <td>AUDLEGGES4-249</td>\n",
       "      <td>REQ000101515343</td>\n",
       "      <td>España</td>\n",
       "      <td>PosgreSQL</td>\n",
       "      <td>Legacy</td>\n",
       "      <td>David</td>\n",
       "      <td>Si</td>\n",
       "      <td>3</td>\n",
       "      <td>Pendiente DROP, volver a hacer check-in</td>\n",
       "      <td>Cerrado</td>\n",
       "    </tr>\n",
       "    <tr>\n",
       "      <th>1</th>\n",
       "      <td>2024-09-24</td>\n",
       "      <td>2024-10-01</td>\n",
       "      <td>2024-10-01</td>\n",
       "      <td>KESJ</td>\n",
       "      <td>DQ-DP-007019</td>\n",
       "      <td>45403</td>\n",
       "      <td>AUDLEGGES4-249</td>\n",
       "      <td>REQ000101515343</td>\n",
       "      <td>España</td>\n",
       "      <td>PosgreSQL</td>\n",
       "      <td>Legacy</td>\n",
       "      <td>Matías</td>\n",
       "      <td>No</td>\n",
       "      <td>3</td>\n",
       "      <td>Pendiente DROP, volver a hacer check-in</td>\n",
       "      <td>Cerrado</td>\n",
       "    </tr>\n",
       "    <tr>\n",
       "      <th>2</th>\n",
       "      <td>2024-09-27</td>\n",
       "      <td>2024-10-01</td>\n",
       "      <td>2024-10-01</td>\n",
       "      <td>FACC</td>\n",
       "      <td>DQ-DP-007037</td>\n",
       "      <td>34644</td>\n",
       "      <td>ADH-678</td>\n",
       "      <td>OTRSSD-17407</td>\n",
       "      <td>España</td>\n",
       "      <td>Oracle Physics</td>\n",
       "      <td>NextGEN</td>\n",
       "      <td>David</td>\n",
       "      <td>Si</td>\n",
       "      <td>0.5</td>\n",
       "      <td>None</td>\n",
       "      <td>Cerrado</td>\n",
       "    </tr>\n",
       "    <tr>\n",
       "      <th>3</th>\n",
       "      <td>2024-09-27</td>\n",
       "      <td>2024-10-01</td>\n",
       "      <td>2024-10-01</td>\n",
       "      <td>KHFC</td>\n",
       "      <td>None</td>\n",
       "      <td>None</td>\n",
       "      <td>None</td>\n",
       "      <td>OTRSSD-17408</td>\n",
       "      <td>None</td>\n",
       "      <td>Oracle Physics</td>\n",
       "      <td>NextGEN</td>\n",
       "      <td>Pedro</td>\n",
       "      <td>No</td>\n",
       "      <td>1</td>\n",
       "      <td>Descartada</td>\n",
       "      <td>Cerrado</td>\n",
       "    </tr>\n",
       "    <tr>\n",
       "      <th>4</th>\n",
       "      <td>2024-09-30</td>\n",
       "      <td>2024-10-01</td>\n",
       "      <td>2024-10-01</td>\n",
       "      <td>MCRR</td>\n",
       "      <td>DQ-DP-007041</td>\n",
       "      <td>38358</td>\n",
       "      <td>ADH-690</td>\n",
       "      <td>OTRSSD-17410</td>\n",
       "      <td>Global</td>\n",
       "      <td>Oracle Physics</td>\n",
       "      <td>NextGEN</td>\n",
       "      <td>David</td>\n",
       "      <td>Si</td>\n",
       "      <td>1.5</td>\n",
       "      <td>None</td>\n",
       "      <td>Cerrado</td>\n",
       "    </tr>\n",
       "    <tr>\n",
       "      <th>...</th>\n",
       "      <td>...</td>\n",
       "      <td>...</td>\n",
       "      <td>...</td>\n",
       "      <td>...</td>\n",
       "      <td>...</td>\n",
       "      <td>...</td>\n",
       "      <td>...</td>\n",
       "      <td>...</td>\n",
       "      <td>...</td>\n",
       "      <td>...</td>\n",
       "      <td>...</td>\n",
       "      <td>...</td>\n",
       "      <td>...</td>\n",
       "      <td>...</td>\n",
       "      <td>...</td>\n",
       "      <td>...</td>\n",
       "    </tr>\n",
       "    <tr>\n",
       "      <th>193</th>\n",
       "      <td>2024-10-29</td>\n",
       "      <td>NaT</td>\n",
       "      <td>NaT</td>\n",
       "      <td>KSMI</td>\n",
       "      <td>None</td>\n",
       "      <td>None</td>\n",
       "      <td>None</td>\n",
       "      <td>REQ000101600364</td>\n",
       "      <td>España</td>\n",
       "      <td>Oracle R2</td>\n",
       "      <td>Legacy</td>\n",
       "      <td>None</td>\n",
       "      <td>None</td>\n",
       "      <td>14/11</td>\n",
       "      <td>Pedir feature y sdatool</td>\n",
       "      <td>Backlog</td>\n",
       "    </tr>\n",
       "    <tr>\n",
       "      <th>194</th>\n",
       "      <td>2024-10-30</td>\n",
       "      <td>NaT</td>\n",
       "      <td>NaT</td>\n",
       "      <td>KESJ</td>\n",
       "      <td>None</td>\n",
       "      <td>45403</td>\n",
       "      <td>AUDLEGGES4-249</td>\n",
       "      <td>OTRSSD-17885</td>\n",
       "      <td>Global</td>\n",
       "      <td>Oracle Physics</td>\n",
       "      <td>NextGEN</td>\n",
       "      <td>None</td>\n",
       "      <td>None</td>\n",
       "      <td>None</td>\n",
       "      <td>None</td>\n",
       "      <td>Backlog</td>\n",
       "    </tr>\n",
       "    <tr>\n",
       "      <th>195</th>\n",
       "      <td>2024-10-30</td>\n",
       "      <td>NaT</td>\n",
       "      <td>NaT</td>\n",
       "      <td>KFUL</td>\n",
       "      <td>None</td>\n",
       "      <td>27522</td>\n",
       "      <td>ALPHAFYR-175</td>\n",
       "      <td>OTRSSD-17886</td>\n",
       "      <td>Global</td>\n",
       "      <td>Oracle Physics</td>\n",
       "      <td>NextGEN</td>\n",
       "      <td>None</td>\n",
       "      <td>None</td>\n",
       "      <td>None</td>\n",
       "      <td>None</td>\n",
       "      <td>Backlog</td>\n",
       "    </tr>\n",
       "    <tr>\n",
       "      <th>196</th>\n",
       "      <td>2024-10-30</td>\n",
       "      <td>NaT</td>\n",
       "      <td>NaT</td>\n",
       "      <td>RLR7</td>\n",
       "      <td>None</td>\n",
       "      <td>44974</td>\n",
       "      <td>WSONEPIV14-7907</td>\n",
       "      <td>OTRSSD-17887</td>\n",
       "      <td>Global</td>\n",
       "      <td>Oracle Physics</td>\n",
       "      <td>NextGEN</td>\n",
       "      <td>None</td>\n",
       "      <td>None</td>\n",
       "      <td>None</td>\n",
       "      <td>None</td>\n",
       "      <td>Backlog</td>\n",
       "    </tr>\n",
       "    <tr>\n",
       "      <th>197</th>\n",
       "      <td>2024-10-30</td>\n",
       "      <td>NaT</td>\n",
       "      <td>NaT</td>\n",
       "      <td>KGTP</td>\n",
       "      <td>None</td>\n",
       "      <td>44974</td>\n",
       "      <td>WSONEPIV14-7909</td>\n",
       "      <td>OTRSSD-17888</td>\n",
       "      <td>Global</td>\n",
       "      <td>Oracle Physics</td>\n",
       "      <td>NextGEN</td>\n",
       "      <td>None</td>\n",
       "      <td>None</td>\n",
       "      <td>None</td>\n",
       "      <td>None</td>\n",
       "      <td>Backlog</td>\n",
       "    </tr>\n",
       "  </tbody>\n",
       "</table>\n",
       "<p>198 rows × 16 columns</p>\n",
       "</div>"
      ],
      "text/plain": [
       "    Fecha de alta Fecha incurrida Fecha de fin UUAAA        Código SDATOOL  \\\n",
       "0      2024-09-24      2024-10-01   2024-10-01  KESJ  DQ-DP-007019   45403   \n",
       "1      2024-09-24      2024-10-01   2024-10-01  KESJ  DQ-DP-007019   45403   \n",
       "2      2024-09-27      2024-10-01   2024-10-01  FACC  DQ-DP-007037   34644   \n",
       "3      2024-09-27      2024-10-01   2024-10-01  KHFC          None    None   \n",
       "4      2024-09-30      2024-10-01   2024-10-01  MCRR  DQ-DP-007041   38358   \n",
       "..            ...             ...          ...   ...           ...     ...   \n",
       "193    2024-10-29             NaT          NaT  KSMI          None    None   \n",
       "194    2024-10-30             NaT          NaT  KESJ          None   45403   \n",
       "195    2024-10-30             NaT          NaT  KFUL          None   27522   \n",
       "196    2024-10-30             NaT          NaT  RLR7          None   44974   \n",
       "197    2024-10-30             NaT          NaT  KGTP          None   44974   \n",
       "\n",
       "             Feature         Petición Geografía     Gestor BBDD   Ámbito  \\\n",
       "0     AUDLEGGES4-249  REQ000101515343    España       PosgreSQL   Legacy   \n",
       "1     AUDLEGGES4-249  REQ000101515343    España       PosgreSQL   Legacy   \n",
       "2            ADH-678     OTRSSD-17407    España  Oracle Physics  NextGEN   \n",
       "3               None     OTRSSD-17408      None  Oracle Physics  NextGEN   \n",
       "4            ADH-690     OTRSSD-17410    Global  Oracle Physics  NextGEN   \n",
       "..               ...              ...       ...             ...      ...   \n",
       "193             None  REQ000101600364    España       Oracle R2   Legacy   \n",
       "194   AUDLEGGES4-249     OTRSSD-17885    Global  Oracle Physics  NextGEN   \n",
       "195     ALPHAFYR-175     OTRSSD-17886    Global  Oracle Physics  NextGEN   \n",
       "196  WSONEPIV14-7907     OTRSSD-17887    Global  Oracle Physics  NextGEN   \n",
       "197  WSONEPIV14-7909     OTRSSD-17888    Global  Oracle Physics  NextGEN   \n",
       "\n",
       "    Responsable Validada  Horas                              Comentarios  \\\n",
       "0         David       Si      3  Pendiente DROP, volver a hacer check-in   \n",
       "1        Matías       No      3  Pendiente DROP, volver a hacer check-in   \n",
       "2         David       Si    0.5                                     None   \n",
       "3         Pedro       No      1                               Descartada   \n",
       "4         David       Si    1.5                                     None   \n",
       "..          ...      ...    ...                                      ...   \n",
       "193        None     None  14/11                  Pedir feature y sdatool   \n",
       "194        None     None   None                                     None   \n",
       "195        None     None   None                                     None   \n",
       "196        None     None   None                                     None   \n",
       "197        None     None   None                                     None   \n",
       "\n",
       "      Estado  \n",
       "0    Cerrado  \n",
       "1    Cerrado  \n",
       "2    Cerrado  \n",
       "3    Cerrado  \n",
       "4    Cerrado  \n",
       "..       ...  \n",
       "193  Backlog  \n",
       "194  Backlog  \n",
       "195  Backlog  \n",
       "196  Backlog  \n",
       "197  Backlog  \n",
       "\n",
       "[198 rows x 16 columns]"
      ]
     },
     "execution_count": 10,
     "metadata": {},
     "output_type": "execute_result"
    }
   ],
   "source": [
    "# Eliminar filas vacías y columnas que no van\n",
    "df = df[df[\"Fecha de alta\"] != \"\"]\n",
    "try: \n",
    "    df.drop(columns=[\"\"], inplace=True)\n",
    "except KeyError:\n",
    "    pass\n",
    "# Convertir las fechas a formato datetime\n",
    "df[[\"Fecha de alta\", \"Fecha incurrida\", \"Fecha de fin\"]] = df[[\"Fecha de alta\", \"Fecha incurrida\", \"Fecha de fin\"]].apply(pd.to_datetime, format=\"%d/%m/%Y\")\n",
    "\n",
    "# Reemplazar celdas vacías por None\n",
    "df.replace(\"\", None, inplace=True)\n",
    "\n",
    "df"
   ]
  },
  {
   "cell_type": "markdown",
   "metadata": {},
   "source": [
    "---"
   ]
  },
  {
   "cell_type": "code",
   "execution_count": 11,
   "metadata": {},
   "outputs": [
    {
     "name": "stdout",
     "output_type": "stream",
     "text": [
      "El puerto 9222 no está en uso en 127.0.0.1.\n"
     ]
    }
   ],
   "source": [
    "import socket\n",
    "\n",
    "def check_port_in_use(port, host='127.0.0.1'):\n",
    "    with socket.socket(socket.AF_INET, socket.SOCK_STREAM) as s:\n",
    "        return s.connect_ex((host, port)) == 0\n",
    "\n",
    "port = 9222\n",
    "host = '127.0.0.1'\n",
    "if check_port_in_use(port, host):\n",
    "    print(f\"El puerto {port} está en uso en {host}.\")\n",
    "else:\n",
    "    print(f\"El puerto {port} no está en uso en {host}.\")"
   ]
  },
  {
   "cell_type": "markdown",
   "metadata": {},
   "source": [
    "---"
   ]
  },
  {
   "cell_type": "markdown",
   "metadata": {},
   "source": [
    "<p style=\"text-align: center; font-size: 35px; color: #9EDF9C\">Operative system</p>"
   ]
  },
  {
   "cell_type": "code",
   "execution_count": 5,
   "metadata": {},
   "outputs": [
    {
     "name": "stderr",
     "output_type": "stream",
     "text": [
      "<>:25: SyntaxWarning: invalid escape sequence '\\P'\n",
      "<>:25: SyntaxWarning: invalid escape sequence '\\P'\n",
      "C:\\Users\\matia\\AppData\\Local\\Temp\\ipykernel_33208\\1609307265.py:25: SyntaxWarning: invalid escape sequence '\\P'\n",
      "  command = '\"C:\\Program Files\\Google\\Chrome\\Application\\chrome.exe\" --remote-debugging-port=9222 --user-data-dir=\"C:\\chrome_debug\"'\n"
     ]
    },
    {
     "name": "stdout",
     "output_type": "stream",
     "text": [
      "El puerto 9222 está en uso:\n",
      "  TCP    127.0.0.1:9222         0.0.0.0:0              LISTENING       5308\n",
      "  TCP    127.0.0.1:9222         127.0.0.1:52242        ESTABLISHED     5308\n",
      "  TCP    127.0.0.1:9222         127.0.0.1:52243        ESTABLISHED     5308\n",
      "  TCP    127.0.0.1:52242        127.0.0.1:9222         ESTABLISHED     14840\n",
      "  TCP    127.0.0.1:52243        127.0.0.1:9222         ESTABLISHED     14840\n",
      "\n"
     ]
    }
   ],
   "source": [
    "import platform\n",
    "\n",
    "if platform.system() == \"Darwin\": # macOS\n",
    "    # Comand to open chrome in debug mode\n",
    "    chrome_command = [\n",
    "        \"/Applications/Google Chrome.app/Contents/MacOS/Google Chrome\",\n",
    "        \"--remote-debugging-port=9222\",\n",
    "        \"--user-data-dir=/Users/matiasblaquier/chrome_debug\"\n",
    "    ]\n",
    "\n",
    "    # Execute the command\n",
    "    subprocess.Popen(chrome_command)\n",
    "\n",
    "    #Configuracion controlador de Safari\n",
    "    options = webdriver.ChromeOptions()\n",
    "    options.add_experimental_option('debuggerAddress', 'localhost:9222')\n",
    "\n",
    "    #configuracion del controladore de Chrome\n",
    "    driver = webdriver.Chrome(options=options)\n",
    "\n",
    "elif platform.system() == \"Windows\":\n",
    "    from webdriver_manager.chrome import ChromeDriverManager\n",
    "    \n",
    "    #Ejecutar el comando en el cmd\n",
    "    command = '\"C:\\Program Files\\Google\\Chrome\\Application\\chrome.exe\" --remote-debugging-port=9222 --user-data-dir=\"C:\\chrome_debug\"'\n",
    "    process = subprocess.Popen(command, shell=True)\n",
    "    time.sleep(2)\n",
    "\n",
    "    #Verifield if the port 9222 is open\n",
    "    command_check = \"netstat -ano | findstr 9222\"\n",
    "    process_check = subprocess.Popen(command_check, shell=True, stdout=subprocess.PIPE, stderr=subprocess.PIPE)\n",
    "    stdout, stderr = process_check.communicate()\n",
    "    if stdout:\n",
    "        print(\"El puerto 9222 está en uso:\")\n",
    "        print(stdout.decode())\n",
    "    else:\n",
    "        print(\"El puerto 9222 no está en uso o hubo un error:\")\n",
    "        print(stderr.decode())\n",
    "\n",
    "    #Configurar las opciones de Chrome para conectarse a la instancia Chrome existente\n",
    "    chrome_options = Options()\n",
    "    chrome_options.add_experimental_option(\"debuggerAddress\", \"127.0.0.1:9222\")\n",
    "\n",
    "    #Configuración del controlador de Chrome\n",
    "    service = Service(ChromeDriverManager().install())\n",
    "    driver = webdriver.Chrome(service=service, options=chrome_options)\n",
    "\n",
    "    html = driver.page_source"
   ]
  },
  {
   "cell_type": "markdown",
   "metadata": {},
   "source": [
    "---"
   ]
  },
  {
   "cell_type": "markdown",
   "metadata": {},
   "source": [
    "<p style=\"text-align: center; font-size: 35px; color: skyblue;\">Going into JIRA</p>"
   ]
  },
  {
   "cell_type": "markdown",
   "metadata": {},
   "source": [
    "### Getting JIRA info"
   ]
  },
  {
   "cell_type": "markdown",
   "metadata": {},
   "source": [
    "### Header"
   ]
  },
  {
   "cell_type": "code",
   "execution_count": 6,
   "metadata": {},
   "outputs": [
    {
     "ename": "NoSuchElementException",
     "evalue": "Message: no such element: Unable to locate element: {\"method\":\"xpath\",\"selector\":\"//ul[@class='ghx-column-headers']\"}\n  (Session info: chrome=131.0.6778.141); For documentation on this error, please visit: https://www.selenium.dev/documentation/webdriver/troubleshooting/errors#no-such-element-exception\nStacktrace:\n\tGetHandleVerifier [0x004FEC13+23731]\n\t(No symbol) [0x0048C394]\n\t(No symbol) [0x0036BE63]\n\t(No symbol) [0x003AFCE6]\n\t(No symbol) [0x003AFF2B]\n\t(No symbol) [0x003ED892]\n\t(No symbol) [0x003D1EA4]\n\t(No symbol) [0x003EB46E]\n\t(No symbol) [0x003D1BF6]\n\t(No symbol) [0x003A3F35]\n\t(No symbol) [0x003A4EBD]\n\tGetHandleVerifier [0x007DF0D3+3039603]\n\tGetHandleVerifier [0x007F2DEA+3120778]\n\tGetHandleVerifier [0x007EB592+3089970]\n\tGetHandleVerifier [0x005943B0+635984]\n\t(No symbol) [0x00494DCD]\n\t(No symbol) [0x00492068]\n\t(No symbol) [0x00492205]\n\t(No symbol) [0x00484FD0]\n\tBaseThreadInitThunk [0x761B7BA9+25]\n\tRtlInitializeExceptionChain [0x774FC0CB+107]\n\tRtlClearBits [0x774FC04F+191]\n",
     "output_type": "error",
     "traceback": [
      "\u001b[1;31m---------------------------------------------------------------------------\u001b[0m",
      "\u001b[1;31mNoSuchElementException\u001b[0m                    Traceback (most recent call last)",
      "Cell \u001b[1;32mIn[6], line 6\u001b[0m\n\u001b[0;32m      4\u001b[0m time\u001b[38;5;241m.\u001b[39msleep(\u001b[38;5;241m5\u001b[39m)\n\u001b[0;32m      5\u001b[0m \u001b[38;5;66;03m#Get from HTML WEB\u001b[39;00m\n\u001b[1;32m----> 6\u001b[0m element_header \u001b[38;5;241m=\u001b[39m driver\u001b[38;5;241m.\u001b[39mfind_element(By\u001b[38;5;241m.\u001b[39mXPATH, \u001b[38;5;124m\"\u001b[39m\u001b[38;5;124m//ul[@class=\u001b[39m\u001b[38;5;124m'\u001b[39m\u001b[38;5;124mghx-column-headers\u001b[39m\u001b[38;5;124m'\u001b[39m\u001b[38;5;124m]\u001b[39m\u001b[38;5;124m\"\u001b[39m)\n\u001b[0;32m      7\u001b[0m element_header \u001b[38;5;241m=\u001b[39m element_header\u001b[38;5;241m.\u001b[39mget_attribute(\u001b[38;5;124m'\u001b[39m\u001b[38;5;124minnerHTML\u001b[39m\u001b[38;5;124m'\u001b[39m)\n\u001b[0;32m      9\u001b[0m \u001b[38;5;66;03m#Starting the local\u001b[39;00m\n",
      "File \u001b[1;32mc:\\ProgramData\\anaconda3\\Lib\\site-packages\\selenium\\webdriver\\remote\\webdriver.py:748\u001b[0m, in \u001b[0;36mWebDriver.find_element\u001b[1;34m(self, by, value)\u001b[0m\n\u001b[0;32m    745\u001b[0m     by \u001b[38;5;241m=\u001b[39m By\u001b[38;5;241m.\u001b[39mCSS_SELECTOR\n\u001b[0;32m    746\u001b[0m     value \u001b[38;5;241m=\u001b[39m \u001b[38;5;124mf\u001b[39m\u001b[38;5;124m'\u001b[39m\u001b[38;5;124m[name=\u001b[39m\u001b[38;5;124m\"\u001b[39m\u001b[38;5;132;01m{\u001b[39;00mvalue\u001b[38;5;132;01m}\u001b[39;00m\u001b[38;5;124m\"\u001b[39m\u001b[38;5;124m]\u001b[39m\u001b[38;5;124m'\u001b[39m\n\u001b[1;32m--> 748\u001b[0m \u001b[38;5;28;01mreturn\u001b[39;00m \u001b[38;5;28mself\u001b[39m\u001b[38;5;241m.\u001b[39mexecute(Command\u001b[38;5;241m.\u001b[39mFIND_ELEMENT, {\u001b[38;5;124m\"\u001b[39m\u001b[38;5;124musing\u001b[39m\u001b[38;5;124m\"\u001b[39m: by, \u001b[38;5;124m\"\u001b[39m\u001b[38;5;124mvalue\u001b[39m\u001b[38;5;124m\"\u001b[39m: value})[\u001b[38;5;124m\"\u001b[39m\u001b[38;5;124mvalue\u001b[39m\u001b[38;5;124m\"\u001b[39m]\n",
      "File \u001b[1;32mc:\\ProgramData\\anaconda3\\Lib\\site-packages\\selenium\\webdriver\\remote\\webdriver.py:354\u001b[0m, in \u001b[0;36mWebDriver.execute\u001b[1;34m(self, driver_command, params)\u001b[0m\n\u001b[0;32m    352\u001b[0m response \u001b[38;5;241m=\u001b[39m \u001b[38;5;28mself\u001b[39m\u001b[38;5;241m.\u001b[39mcommand_executor\u001b[38;5;241m.\u001b[39mexecute(driver_command, params)\n\u001b[0;32m    353\u001b[0m \u001b[38;5;28;01mif\u001b[39;00m response:\n\u001b[1;32m--> 354\u001b[0m     \u001b[38;5;28mself\u001b[39m\u001b[38;5;241m.\u001b[39merror_handler\u001b[38;5;241m.\u001b[39mcheck_response(response)\n\u001b[0;32m    355\u001b[0m     response[\u001b[38;5;124m\"\u001b[39m\u001b[38;5;124mvalue\u001b[39m\u001b[38;5;124m\"\u001b[39m] \u001b[38;5;241m=\u001b[39m \u001b[38;5;28mself\u001b[39m\u001b[38;5;241m.\u001b[39m_unwrap_value(response\u001b[38;5;241m.\u001b[39mget(\u001b[38;5;124m\"\u001b[39m\u001b[38;5;124mvalue\u001b[39m\u001b[38;5;124m\"\u001b[39m, \u001b[38;5;28;01mNone\u001b[39;00m))\n\u001b[0;32m    356\u001b[0m     \u001b[38;5;28;01mreturn\u001b[39;00m response\n",
      "File \u001b[1;32mc:\\ProgramData\\anaconda3\\Lib\\site-packages\\selenium\\webdriver\\remote\\errorhandler.py:229\u001b[0m, in \u001b[0;36mErrorHandler.check_response\u001b[1;34m(self, response)\u001b[0m\n\u001b[0;32m    227\u001b[0m         alert_text \u001b[38;5;241m=\u001b[39m value[\u001b[38;5;124m\"\u001b[39m\u001b[38;5;124malert\u001b[39m\u001b[38;5;124m\"\u001b[39m]\u001b[38;5;241m.\u001b[39mget(\u001b[38;5;124m\"\u001b[39m\u001b[38;5;124mtext\u001b[39m\u001b[38;5;124m\"\u001b[39m)\n\u001b[0;32m    228\u001b[0m     \u001b[38;5;28;01mraise\u001b[39;00m exception_class(message, screen, stacktrace, alert_text)  \u001b[38;5;66;03m# type: ignore[call-arg]  # mypy is not smart enough here\u001b[39;00m\n\u001b[1;32m--> 229\u001b[0m \u001b[38;5;28;01mraise\u001b[39;00m exception_class(message, screen, stacktrace)\n",
      "\u001b[1;31mNoSuchElementException\u001b[0m: Message: no such element: Unable to locate element: {\"method\":\"xpath\",\"selector\":\"//ul[@class='ghx-column-headers']\"}\n  (Session info: chrome=131.0.6778.141); For documentation on this error, please visit: https://www.selenium.dev/documentation/webdriver/troubleshooting/errors#no-such-element-exception\nStacktrace:\n\tGetHandleVerifier [0x004FEC13+23731]\n\t(No symbol) [0x0048C394]\n\t(No symbol) [0x0036BE63]\n\t(No symbol) [0x003AFCE6]\n\t(No symbol) [0x003AFF2B]\n\t(No symbol) [0x003ED892]\n\t(No symbol) [0x003D1EA4]\n\t(No symbol) [0x003EB46E]\n\t(No symbol) [0x003D1BF6]\n\t(No symbol) [0x003A3F35]\n\t(No symbol) [0x003A4EBD]\n\tGetHandleVerifier [0x007DF0D3+3039603]\n\tGetHandleVerifier [0x007F2DEA+3120778]\n\tGetHandleVerifier [0x007EB592+3089970]\n\tGetHandleVerifier [0x005943B0+635984]\n\t(No symbol) [0x00494DCD]\n\t(No symbol) [0x00492068]\n\t(No symbol) [0x00492205]\n\t(No symbol) [0x00484FD0]\n\tBaseThreadInitThunk [0x761B7BA9+25]\n\tRtlInitializeExceptionChain [0x774FC0CB+107]\n\tRtlClearBits [0x774FC04F+191]\n"
     ]
    }
   ],
   "source": [
    "#Execute the code in this URL: https://jira.globaldevtools.bbva.com/secure/RapidBoard.jspa?rapidView=33300&quickFilter=106472\n",
    "\n",
    "driver.get(\"https://jira.globaldevtools.bbva.com/secure/RapidBoard.jspa?rapidView=33300&quickFilter=106472\")\n",
    "time.sleep(5)\n",
    "#Get from HTML WEB\n",
    "element_header = driver.find_element(By.XPATH, \"//ul[@class='ghx-column-headers']\")\n",
    "element_header = element_header.get_attribute('innerHTML')\n",
    "\n",
    "#Starting the local\n",
    "element_haux = element_header.split(\"<li\")\n",
    "\n",
    "start_id = element_haux[2].find(\"id=\")\n",
    "end_id = start_id + 11\n",
    "\n",
    "list_header = [\"To Do\", \"Analysing\", \"Pending to information\", \"In progress\", \"Ready to deploy\", \"Ready to verify\", \"Done\"]\n",
    "list_header_ids = []\n",
    "for i in element_haux[1: ]:\n",
    "    list_header_ids.append(i[start_id: end_id])\n",
    "\n",
    "list_headers = dict(zip(list_header, list_header_ids))\n",
    "print(list_headers)"
   ]
  },
  {
   "cell_type": "markdown",
   "metadata": {},
   "source": [
    "### Columns information"
   ]
  },
  {
   "cell_type": "code",
   "execution_count": null,
   "metadata": {},
   "outputs": [
    {
     "name": "stdout",
     "output_type": "stream",
     "text": [
      "62 ['OTRSSD-17826', 'OTRSSD-17811', 'OTRSSD-17809', 'OTRSSD-17808', 'OTRSSD-17807', 'OTRSSD-17806', 'OTRSSD-17805', 'OTRSSD-17804', 'OTRSSD-17803', 'OTRSSD-17802', 'OTRSSD-17799', 'OTRSSD-17798', 'OTRSSD-17787', 'OTRSSD-17784', 'OTRSSD-17782', 'OTRSSD-17781', 'OTRSSD-17778', 'OTRSSD-17777', 'OTRSSD-17754', 'OTRSSD-17753', 'OTRSSD-17737', 'OTRSSD-17736', 'OTRSSD-17735', 'OTRSSD-17713', 'OTRSSD-17694', 'OTRSSD-17693', 'OTRSSD-17689', 'OTRSSD-17686', 'OTRSSD-17684', 'OTRSSD-17681', 'OTRSSD-17680', 'OTRSSD-17679', 'OTRSSD-17678', 'OTRSSD-17668', 'OTRSSD-17667', 'OTRSSD-17666', 'OTRSSD-17665', 'OTRSSD-17664', 'OTRSSD-17663', 'OTRSSD-17662', 'OTRSSD-17661', 'OTRSSD-17660', 'OTRSSD-17659', 'OTRSSD-17657', 'OTRSSD-17649', 'OTRSSD-17647', 'OTRSSD-17646', 'OTRSSD-17645', 'OTRSSD-17644', 'OTRSSD-17643', 'OTRSSD-17642', 'OTRSSD-17641', 'OTRSSD-17630', 'OTRSSD-17620', 'OTRSSD-17619', 'OTRSSD-17616', 'OTRSSD-17615', 'OTRSSD-17614', 'OTRSSD-17613', 'OTRSSD-17597', 'OTRSSD-17510', 'OTRSSD-17508']\n"
     ]
    }
   ],
   "source": [
    "days = range(30) \n",
    "xpaths = [f\"//div[@class='js-detailview ghx-issue js-issue ghx-has-avatar js-parent-drag ghx-not-rankable ghx-days-{day} ghx-type-10900 ui-draggable ui-draggable-handle']\" for day in days]\n",
    "combined_xpath = \"|\".join(xpaths)\n",
    "\n",
    "# Geting the petition tag\n",
    "elements = driver.find_elements(By.XPATH, combined_xpath)\n",
    "petitions_code = []\n",
    "for element in elements: \n",
    "    petitions_code.append(element.get_attribute('innerHTML'))\n",
    "\n",
    "for i in range(len(petitions_code)): \n",
    "    petitions_code[i] = petitions_code[i][99: 111]\n",
    "\n",
    "print(len(petitions_code), petitions_code)"
   ]
  },
  {
   "cell_type": "markdown",
   "metadata": {},
   "source": [
    "---"
   ]
  },
  {
   "cell_type": "markdown",
   "metadata": {},
   "source": [
    "<p style=\"text-align: center; font-size: 35px; color: #42bf21;\">Google sheets</p>"
   ]
  },
  {
   "cell_type": "code",
   "execution_count": null,
   "metadata": {},
   "outputs": [
    {
     "name": "stdout",
     "output_type": "stream",
     "text": [
      "Index(['Fecha de alta', 'Fecha incurrida', 'Fecha de fin', 'UUAAA', 'Código',\n",
      "       'SDATOOL', 'Feature', 'Petición', 'Geografía', 'Gestor BBDD', 'Ámbito',\n",
      "       'Responsable', 'Validada', 'Horas', 'Comentarios', 'Estado'],\n",
      "      dtype='object')\n",
      "['OTRSSD-17826', 'OTRSSD-17811', 'OTRSSD-17809', 'OTRSSD-17808', 'OTRSSD-17807', 'OTRSSD-17806', 'OTRSSD-17805', 'OTRSSD-17804', 'OTRSSD-17803', 'OTRSSD-17802', 'OTRSSD-17799', 'OTRSSD-17798', 'OTRSSD-17787', 'OTRSSD-17784', 'OTRSSD-17782', 'OTRSSD-17781', 'OTRSSD-17778', 'OTRSSD-17777', 'OTRSSD-17754', 'OTRSSD-17753', 'OTRSSD-17737', 'OTRSSD-17736', 'OTRSSD-17735', 'OTRSSD-17713', 'OTRSSD-17694', 'OTRSSD-17693', 'OTRSSD-17689', 'OTRSSD-17686', 'OTRSSD-17684', 'OTRSSD-17681', 'OTRSSD-17680', 'OTRSSD-17679', 'OTRSSD-17678', 'OTRSSD-17668', 'OTRSSD-17667', 'OTRSSD-17666', 'OTRSSD-17665', 'OTRSSD-17664', 'OTRSSD-17663', 'OTRSSD-17662', 'OTRSSD-17661', 'OTRSSD-17660', 'OTRSSD-17659', 'OTRSSD-17657', 'OTRSSD-17649', 'OTRSSD-17647', 'OTRSSD-17646', 'OTRSSD-17645', 'OTRSSD-17644', 'OTRSSD-17643', 'OTRSSD-17642', 'OTRSSD-17641', 'OTRSSD-17630', 'OTRSSD-17620', 'OTRSSD-17619', 'OTRSSD-17616', 'OTRSSD-17615', 'OTRSSD-17614', 'OTRSSD-17613', 'OTRSSD-17597', 'OTRSSD-17510', 'OTRSSD-17508']\n"
     ]
    }
   ],
   "source": [
    "print(df.columns)\n",
    "print(petitions_code)"
   ]
  },
  {
   "cell_type": "markdown",
   "metadata": {},
   "source": [
    "#### Obtener peticiones que no están en 'excel'"
   ]
  },
  {
   "cell_type": "code",
   "execution_count": null,
   "metadata": {},
   "outputs": [
    {
     "name": "stdout",
     "output_type": "stream",
     "text": [
      "['OTRSSD-17826', 'OTRSSD-17811', 'OTRSSD-17809', 'OTRSSD-17808', 'OTRSSD-17807', 'OTRSSD-17806', 'OTRSSD-17805']\n"
     ]
    }
   ],
   "source": [
    "petitions_for_add = []\n",
    "for i in petitions_code:\n",
    "    if i not in df[\"Petición\"].values:\n",
    "        petitions_for_add.append(i)\n",
    "\n",
    "print(petitions_for_add)"
   ]
  },
  {
   "cell_type": "markdown",
   "metadata": {},
   "source": [
    "#### Info de las peticiones faltanes"
   ]
  },
  {
   "cell_type": "markdown",
   "metadata": {},
   "source": [
    "#### Explotando dentro de las peticiones [Ir a la sección de funciones](#functions)"
   ]
  },
  {
   "cell_type": "code",
   "execution_count": null,
   "metadata": {},
   "outputs": [
    {
     "ename": "NameError",
     "evalue": "name 'desc' is not defined",
     "output_type": "error",
     "traceback": [
      "\u001b[1;31m---------------------------------------------------------------------------\u001b[0m\n",
      "\u001b[1;31mNameError\u001b[0m                                 Traceback (most recent call last)\n",
      "Cell \u001b[1;32mIn[26], line 2\u001b[0m\n",
      "\u001b[0;32m      1\u001b[0m \u001b[38;5;28;01mfor\u001b[39;00m petition \u001b[38;5;129;01min\u001b[39;00m petitions_for_add:\n",
      "\u001b[1;32m----> 2\u001b[0m     description \u001b[38;5;241m=\u001b[39m petition_html(petition)\n",
      "\u001b[0;32m      3\u001b[0m     \u001b[38;5;28mprint\u001b[39m(description)\n",
      "\u001b[0;32m      5\u001b[0m     \u001b[38;5;66;03m# Limpiando las descripciones\u001b[39;00m\n",
      "\n",
      "Cell \u001b[1;32mIn[17], line 11\u001b[0m, in \u001b[0;36mpetition_html\u001b[1;34m(petition)\u001b[0m\n",
      "\u001b[0;32m      9\u001b[0m description \u001b[38;5;241m=\u001b[39m driver\u001b[38;5;241m.\u001b[39mfind_elements(By\u001b[38;5;241m.\u001b[39mXPATH, \u001b[38;5;124m\"\u001b[39m\u001b[38;5;124m//div[@class=\u001b[39m\u001b[38;5;124m'\u001b[39m\u001b[38;5;124muser-content-block\u001b[39m\u001b[38;5;124m'\u001b[39m\u001b[38;5;124m]\u001b[39m\u001b[38;5;124m\"\u001b[39m)\n",
      "\u001b[0;32m     10\u001b[0m descriptions \u001b[38;5;241m=\u001b[39m []\n",
      "\u001b[1;32m---> 11\u001b[0m descriptions\u001b[38;5;241m.\u001b[39mappend(desc\u001b[38;5;241m.\u001b[39mget_attribute(\u001b[38;5;124m'\u001b[39m\u001b[38;5;124minnerHTML\u001b[39m\u001b[38;5;124m'\u001b[39m))\n",
      "\u001b[0;32m     13\u001b[0m driver\u001b[38;5;241m.\u001b[39mswitch_to\u001b[38;5;241m.\u001b[39mwindow(tabs[\u001b[38;5;241m0\u001b[39m])\n",
      "\u001b[0;32m     14\u001b[0m time\u001b[38;5;241m.\u001b[39msleep(\u001b[38;5;241m2\u001b[39m)\n",
      "\n",
      "\u001b[1;31mNameError\u001b[0m: name 'desc' is not defined"
     ]
    }
   ],
   "source": [
    "for petition in petitions_for_add:\n",
    "    description = petition_html(petition)\n",
    "    print(description)"
   ]
  },
  {
   "cell_type": "code",
   "execution_count": null,
   "metadata": {},
   "outputs": [
    {
     "name": "stdout",
     "output_type": "stream",
     "text": [
      "Current URL: https://jira.globaldevtools.bbva.com/secure/RapidBoard.jspa?rapidView=33300&quickFilter=106472\n",
      "Page Title: Data&Process_SD_GLOBAL - Agile Board - BBVA - JIRA\n"
     ]
    }
   ],
   "source": [
    "current_url = driver.current_url\n",
    "page_title = driver.title\n",
    "print(f\"Current URL: {current_url}\")\n",
    "print(f\"Page Title: {page_title}\")"
   ]
  },
  {
   "cell_type": "markdown",
   "metadata": {},
   "source": [
    "---\n",
    "---"
   ]
  },
  {
   "cell_type": "markdown",
   "metadata": {},
   "source": []
  }
 ],
 "metadata": {
  "kernelspec": {
   "display_name": "base",
   "language": "python",
   "name": "python3"
  },
  "language_info": {
   "codemirror_mode": {
    "name": "ipython",
    "version": 3
   },
   "file_extension": ".py",
   "mimetype": "text/x-python",
   "name": "python",
   "nbconvert_exporter": "python",
   "pygments_lexer": "ipython3",
   "version": "3.12.4"
  }
 },
 "nbformat": 4,
 "nbformat_minor": 2
}
