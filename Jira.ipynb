{
 "cells": [
  {
   "cell_type": "markdown",
   "metadata": {},
   "source": [
    "<p style=\"font-size: 35px; color: violet; text-align: center;\">JIRA</p>"
   ]
  },
  {
   "cell_type": "markdown",
   "metadata": {},
   "source": [
    "<p style=\"font-size: 22px; color: skyblue; text-align: center;\">Primero debes de logearte a la página de Jira antes de ejecutar los comandos</p>"
   ]
  },
  {
   "cell_type": "code",
   "execution_count": 8,
   "metadata": {},
   "outputs": [],
   "source": [
    "import numpy as np\n",
    "import pandas as pd \n",
    "import requests\n",
    "import timer\n",
    "\n",
    "from selenium import webdriver\n",
    "from selenium.webdriver.chrome.service import Service\n",
    "from selenium.webdriver.chrome.options import Options\n",
    "from selenium.webdriver.common.by import By\n",
    "from webdriver_manager.chrome import ChromeDriverManager\n",
    "\n",
    "from bs4 import BeautifulSoup\n",
    "\n",
    "#Google sheed API\n",
    "import gspread\n",
    "from google.oauth2.service_account import Credentials\n"
   ]
  },
  {
   "cell_type": "markdown",
   "metadata": {},
   "source": [
    "---"
   ]
  },
  {
   "cell_type": "markdown",
   "metadata": {},
   "source": [
    "### Google connection"
   ]
  },
  {
   "cell_type": "code",
   "execution_count": null,
   "metadata": {},
   "outputs": [],
   "source": [
    "#email that need to share the google sheet = matiasblaquier@theta-voyager-406314.iam.gserviceaccount.com\n",
    "\n",
    "credentials_path = \"credentials.json\"\n",
    "scope = [\n",
    "    'https://www.googleapis.com/auth/spreadsheets',\n",
    "    'https://www.googleapis.com/auth/drive'\n",
    "]\n",
    "\n",
    "#Cargar credenciales\n",
    "creds = Credentials.from_service_account_file(credentials_path, scopes=scope)\n",
    "\n",
    "#Autorizar gspread con las credenciales\n",
    "client = gspread.authorize(creds)"
   ]
  },
  {
   "cell_type": "markdown",
   "metadata": {},
   "source": [
    "#### Go into google sheed"
   ]
  },
  {
   "cell_type": "code",
   "execution_count": null,
   "metadata": {},
   "outputs": [],
   "source": [
    "#Abrir la hoja de calculo por URL o por ID\n",
    "spreadsheet = client.open_by_url(\"https://docs.google.com/spreadsheets/d/<ID_de_tu_hoja_de_calculo>\")\n",
    "\n",
    "#Seleccionar la hoja específica dentro del archivo (Se puede usar el nombre de la hoja o el índice)\n",
    "sheet = spreadsheet.worksheet(\"Sheet1\") #sheet name\n",
    "\n",
    "#Leer los datos en un dataframe\n",
    "data = sheet.get_all_records()\n",
    "df = pd.DataFrame(data)\n",
    "\n",
    "#Show firsts rows of the dataframe\n",
    "print(df.head())"
   ]
  },
  {
   "cell_type": "markdown",
   "metadata": {},
   "source": [
    "---"
   ]
  },
  {
   "cell_type": "markdown",
   "metadata": {},
   "source": [
    "## Chrome connection"
   ]
  },
  {
   "cell_type": "code",
   "execution_count": 12,
   "metadata": {},
   "outputs": [
    {
     "name": "stderr",
     "output_type": "stream",
     "text": [
      "<>:1: SyntaxWarning: invalid escape sequence '\\P'\n",
      "<>:1: SyntaxWarning: invalid escape sequence '\\P'\n",
      "C:\\Users\\matia\\AppData\\Local\\Temp\\ipykernel_15600\\3229898741.py:1: SyntaxWarning: invalid escape sequence '\\P'\n",
      "  '''\n"
     ]
    }
   ],
   "source": [
    "'''\n",
    "Ejecutar en el cmd\n",
    "\"C:\\Program Files\\Google\\Chrome\\Application\\chrome.exe\" --remote-debugging-port=9222 --user-data-dir=\"C:\\chrome_debug\"\n",
    "'''\n",
    "\n",
    "#Configurar las opciones de Chrome para conectarse a la instancia Chrome existente\n",
    "chrome_options = Options()\n",
    "chrome_options.add_experimental_option(\"debuggerAddress\", \"127.0.0.1:9222\")\n",
    "\n",
    "#Configuración del controlador de Chrome\n",
    "service = Service(ChromeDriverManager().install())\n",
    "driver = webdriver.Chrome(service=service, options=chrome_options)\n",
    "\n",
    "html = driver.page_source"
   ]
  },
  {
   "cell_type": "markdown",
   "metadata": {},
   "source": [
    "---"
   ]
  },
  {
   "cell_type": "markdown",
   "metadata": {},
   "source": [
    "## Explotanto la información"
   ]
  },
  {
   "cell_type": "markdown",
   "metadata": {},
   "source": [
    "### Header"
   ]
  },
  {
   "cell_type": "code",
   "execution_count": 13,
   "metadata": {},
   "outputs": [
    {
     "name": "stdout",
     "output_type": "stream",
     "text": [
      "{'To Do': 'id=\"281906\"', 'Analysing': 'id=\"281911\"', 'Pending to information': 'id=\"281914\"', 'In progress': 'id=\"281907\"', 'Ready to deploy': 'id=\"282052\"', 'Ready to verify': 'id=\"282060\"', 'Done': 'id=\"281908\"'}\n"
     ]
    }
   ],
   "source": [
    "#Get from HTML WEB\n",
    "element_header = driver.find_element(By.XPATH, \"//ul[@class='ghx-column-headers']\")\n",
    "element_header = element_header.get_attribute('innerHTML')\n",
    "\n",
    "#Starting the local\n",
    "element_haux = element_header.split(\"<li\")\n",
    "\n",
    "start_id = element_haux[2].find(\"id=\")\n",
    "end_id = start_id + 11\n",
    "\n",
    "list_header = [\"To Do\", \"Analysing\", \"Pending to information\", \"In progress\", \"Ready to deploy\", \"Ready to verify\", \"Done\"]\n",
    "list_header_ids = []\n",
    "for i in element_haux[1: ]:\n",
    "    list_header_ids.append(i[start_id: end_id])\n",
    "\n",
    "list_headers = dict(zip(list_header, list_header_ids))\n",
    "print(list_headers)"
   ]
  },
  {
   "cell_type": "markdown",
   "metadata": {},
   "source": [
    "### Columns information"
   ]
  },
  {
   "cell_type": "code",
   "execution_count": 60,
   "metadata": {},
   "outputs": [],
   "source": [
    "# Cantidad de días acumulados. En este caso 10 días\n",
    "day1 = \"//div[@class='js-detailview ghx-issue js-issue ghx-has-avatar js-parent-drag ghx-not-rankable ghx-days-1 ghx-type-10900 ui-draggable ui-draggable-handle']\"\n",
    "day2 = \"//div[@class='js-detailview ghx-issue js-issue ghx-has-avatar js-parent-drag ghx-not-rankable ghx-days-2 ghx-type-10900 ui-draggable ui-draggable-handle']\"\n",
    "day3 = \"//div[@class='js-detailview ghx-issue js-issue ghx-has-avatar js-parent-drag ghx-not-rankable ghx-days-3 ghx-type-10900 ui-draggable ui-draggable-handle']\"\n",
    "day4 = \"//div[@class='js-detailview ghx-issue js-issue ghx-has-avatar js-parent-drag ghx-not-rankable ghx-days-4 ghx-type-10900 ui-draggable ui-draggable-handle']\"\n",
    "day5 = \"//div[@class='js-detailview ghx-issue js-issue ghx-has-avatar js-parent-drag ghx-not-rankable ghx-days-5 ghx-type-10900 ui-draggable ui-draggable-handle']\"\n",
    "day6 = \"//div[@class='js-detailview ghx-issue js-issue ghx-has-avatar js-parent-drag ghx-not-rankable ghx-days-6 ghx-type-10900 ui-draggable ui-draggable-handle']\"\n",
    "day7 = \"//div[@class='js-detailview ghx-issue js-issue ghx-has-avatar js-parent-drag ghx-not-rankable ghx-days-7 ghx-type-10900 ui-draggable ui-draggable-handle']\"\n",
    "day8 = \"//div[@class='js-detailview ghx-issue js-issue ghx-has-avatar js-parent-drag ghx-not-rankable ghx-days-8 ghx-type-10900 ui-draggable ui-draggable-handle']\"\n",
    "day9 = \"//div[@class='js-detailview ghx-issue js-issue ghx-has-avatar js-parent-drag ghx-not-rankable ghx-days-9 ghx-type-10900 ui-draggable ui-draggable-handle']\"\n",
    "day10 = \"//div[@class='js-detailview ghx-issue js-issue ghx-has-avatar js-parent-drag ghx-not-rankable ghx-days-10 ghx-type-10900 ui-draggable ui-draggable-handle']\"\n",
    "combined_xpath = f\"{day1}|{day2}|{day3}|{day4}|{day5}|{day6}|{day7}|{day8}|{day9}|{day10}\""
   ]
  },
  {
   "cell_type": "code",
   "execution_count": 61,
   "metadata": {},
   "outputs": [
    {
     "name": "stdout",
     "output_type": "stream",
     "text": [
      "34 ['OTRSSD-17597', 'OTRSSD-17596', 'OTRSSD-17595', 'OTRSSD-17594', 'OTRSSD-17576', 'OTRSSD-17575', 'OTRSSD-17574', 'OTRSSD-17571', 'OTRSSD-17557', 'OTRSSD-17555', 'OTRSSD-17551', 'OTRSSD-17550', 'OTRSSD-17549', 'OTRSSD-17548', 'OTRSSD-17547', 'OTRSSD-17546', 'OTRSSD-17545', 'OTRSSD-17544', 'OTRSSD-17525', 'OTRSSD-17524', 'OTRSSD-17523', 'OTRSSD-17522', 'OTRSSD-17521', 'OTRSSD-17517', 'OTRSSD-17514', 'OTRSSD-17510', 'OTRSSD-17508', 'OTRSSD-17490', 'OTRSSD-17489', 'OTRSSD-17488', 'OTRSSD-17487', 'OTRSSD-17486', 'OTRSSD-17465', 'OTRSSD-17463']\n"
     ]
    }
   ],
   "source": [
    "elements = driver.find_elements(By.XPATH, combined_xpath)\n",
    "elements_html = []\n",
    "for element in elements: \n",
    "    elements_html.append(element.get_attribute('innerHTML'))\n",
    "\n",
    "for i in range(len(elements_html)): \n",
    "    elements_html[i] = elements_html[i][99: 111]\n",
    "\n",
    "print(len(elements_html), elements_html)"
   ]
  },
  {
   "cell_type": "markdown",
   "metadata": {},
   "source": [
    "### Accediento a cada petición"
   ]
  },
  {
   "cell_type": "code",
   "execution_count": 64,
   "metadata": {},
   "outputs": [
    {
     "name": "stdout",
     "output_type": "stream",
     "text": [
      "['https://jira.globaldevtools.bbva.com/browse/OTRSSD-17597', 'https://jira.globaldevtools.bbva.com/browse/OTRSSD-17596', 'https://jira.globaldevtools.bbva.com/browse/OTRSSD-17595', 'https://jira.globaldevtools.bbva.com/browse/OTRSSD-17594', 'https://jira.globaldevtools.bbva.com/browse/OTRSSD-17576', 'https://jira.globaldevtools.bbva.com/browse/OTRSSD-17575', 'https://jira.globaldevtools.bbva.com/browse/OTRSSD-17574', 'https://jira.globaldevtools.bbva.com/browse/OTRSSD-17571', 'https://jira.globaldevtools.bbva.com/browse/OTRSSD-17557', 'https://jira.globaldevtools.bbva.com/browse/OTRSSD-17555', 'https://jira.globaldevtools.bbva.com/browse/OTRSSD-17551', 'https://jira.globaldevtools.bbva.com/browse/OTRSSD-17550', 'https://jira.globaldevtools.bbva.com/browse/OTRSSD-17549', 'https://jira.globaldevtools.bbva.com/browse/OTRSSD-17548', 'https://jira.globaldevtools.bbva.com/browse/OTRSSD-17547', 'https://jira.globaldevtools.bbva.com/browse/OTRSSD-17546', 'https://jira.globaldevtools.bbva.com/browse/OTRSSD-17545', 'https://jira.globaldevtools.bbva.com/browse/OTRSSD-17544', 'https://jira.globaldevtools.bbva.com/browse/OTRSSD-17525', 'https://jira.globaldevtools.bbva.com/browse/OTRSSD-17524', 'https://jira.globaldevtools.bbva.com/browse/OTRSSD-17523', 'https://jira.globaldevtools.bbva.com/browse/OTRSSD-17522', 'https://jira.globaldevtools.bbva.com/browse/OTRSSD-17521', 'https://jira.globaldevtools.bbva.com/browse/OTRSSD-17517', 'https://jira.globaldevtools.bbva.com/browse/OTRSSD-17514', 'https://jira.globaldevtools.bbva.com/browse/OTRSSD-17510', 'https://jira.globaldevtools.bbva.com/browse/OTRSSD-17508', 'https://jira.globaldevtools.bbva.com/browse/OTRSSD-17490', 'https://jira.globaldevtools.bbva.com/browse/OTRSSD-17489', 'https://jira.globaldevtools.bbva.com/browse/OTRSSD-17488', 'https://jira.globaldevtools.bbva.com/browse/OTRSSD-17487', 'https://jira.globaldevtools.bbva.com/browse/OTRSSD-17486', 'https://jira.globaldevtools.bbva.com/browse/OTRSSD-17465', 'https://jira.globaldevtools.bbva.com/browse/OTRSSD-17463']\n"
     ]
    },
    {
     "data": {
      "text/plain": [
       "'\\n#Abrir nueva pestana\\ndriver.execute_script(\"windows.open(\\'buenas\\');\")\\n\\n#Obtener la URL de la nueva pestaña\\nnew_tab = driver.switch_to.window(driver.window_handles[1])\\n\\n#Cambiar a la nueva pestana\\ndriver.switch_to.window(new_tab)\\n\\n#Abrir una URL en la nueva pestaña\\ndriver.get(\"que onda\")\\n\\n#Obtener le HTML de la nueva página\\nhtml = driver.page_source\\n'"
      ]
     },
     "execution_count": 64,
     "metadata": {},
     "output_type": "execute_result"
    }
   ],
   "source": [
    "#https://jira.globaldevtools.bbva.com/(browse/OTRSSD-?????)\n",
    "peticiones_url = []\n",
    "for peticion in elements_html:\n",
    "    peticiones_url.append(f\"https://jira.globaldevtools.bbva.com/browse/{peticion}\")\n",
    "\n",
    "print(peticiones_url)\n",
    "\n",
    "'''\n",
    "#Abrir nueva pestana\n",
    "driver.execute_script(\"windows.open('buenas');\")\n",
    "\n",
    "#Obtener la URL de la nueva pestaña\n",
    "new_tab = driver.switch_to.window(driver.window_handles[1])\n",
    "\n",
    "#Cambiar a la nueva pestana\n",
    "driver.switch_to.window(new_tab)\n",
    "\n",
    "#Abrir una URL en la nueva pestaña\n",
    "driver.get(\"que onda\")\n",
    "\n",
    "#Obtener le HTML de la nueva página\n",
    "html = driver.page_source\n",
    "'''"
   ]
  },
  {
   "cell_type": "code",
   "execution_count": null,
   "metadata": {},
   "outputs": [],
   "source": []
  }
 ],
 "metadata": {
  "kernelspec": {
   "display_name": "base",
   "language": "python",
   "name": "python3"
  },
  "language_info": {
   "codemirror_mode": {
    "name": "ipython",
    "version": 3
   },
   "file_extension": ".py",
   "mimetype": "text/x-python",
   "name": "python",
   "nbconvert_exporter": "python",
   "pygments_lexer": "ipython3",
   "version": "3.12.4"
  }
 },
 "nbformat": 4,
 "nbformat_minor": 2
}
