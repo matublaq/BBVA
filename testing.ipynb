{
 "cells": [
  {
   "cell_type": "code",
   "execution_count": 1,
   "id": "3539fb4a",
   "metadata": {},
   "outputs": [],
   "source": [
    "#%load_ext autoreload\n",
    "#%autoreload 2\n",
    "\n",
    "import sqlite3\n",
    "import psycopg2\n",
    "import pandas as pd\n",
    "import numpy as np\n",
    "import math\n",
    "import io\n",
    "import json\n",
    "from DataBase_functions import *\n",
    "\n",
    "#Google sheed API\n",
    "import gspread\n",
    "from gspread_dataframe import set_with_dataframe\n",
    "from google.oauth2 import service_account\n",
    "from google.oauth2.service_account import Credentials\n",
    "from oauth2client.service_account import ServiceAccountCredentials\n",
    "from googleapiclient.discovery import build\n",
    "from googleapiclient.http import MediaFileUpload, MediaIoBaseDownload"
   ]
  },
  {
   "cell_type": "code",
   "execution_count": 2,
   "id": "9a5a4493",
   "metadata": {},
   "outputs": [
    {
     "name": "stdout",
     "output_type": "stream",
     "text": [
      "Excel file ordered by date and saved as ordened_petitions.xlsx\n"
     ]
    }
   ],
   "source": [
    "def order_excel_by_date(excel_file): \n",
    "    df = pd.read_excel(excel_file)\n",
    "    df['fecha_in'] = pd.to_datetime(df['fecha_in'], format='%d/%m/%Y')\n",
    "    df['fecha_out'] = pd.to_datetime(df['fecha_out'], format='%d/%m/%Y')\n",
    "    df = df.sort_values(by='fecha_in')\n",
    "    df = df.reset_index(drop=True)\n",
    "\n",
    "    file_ordened = 'ordened_' + excel_file\n",
    "    df.to_excel(file_ordened, index=False)\n",
    "    print(f\"Excel file ordered by date and saved as {file_ordened}\")\n",
    "\n",
    "order_excel_by_date('petitions.xlsx')"
   ]
  },
  {
   "cell_type": "code",
   "execution_count": null,
   "id": "a5bfde71",
   "metadata": {},
   "outputs": [],
   "source": []
  }
 ],
 "metadata": {
  "kernelspec": {
   "display_name": "base",
   "language": "python",
   "name": "python3"
  },
  "language_info": {
   "codemirror_mode": {
    "name": "ipython",
    "version": 3
   },
   "file_extension": ".py",
   "mimetype": "text/x-python",
   "name": "python",
   "nbconvert_exporter": "python",
   "pygments_lexer": "ipython3",
   "version": "3.12.4"
  }
 },
 "nbformat": 4,
 "nbformat_minor": 5
}
