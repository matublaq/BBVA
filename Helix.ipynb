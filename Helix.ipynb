{
 "cells": [
  {
   "cell_type": "markdown",
   "metadata": {},
   "source": [
    "<p style=\"font-size: 35px; color: Orange; text-align: center;\">HELIX</p>"
   ]
  },
  {
   "cell_type": "code",
   "execution_count": 1,
   "metadata": {},
   "outputs": [],
   "source": [
    "import nbformat\n",
    "\n",
    "import numpy as np\n",
    "import pandas as pd \n",
    "import requests\n",
    "import time\n",
    "\n",
    "from selenium import webdriver\n",
    "from selenium.webdriver.chrome.service import Service\n",
    "from selenium.webdriver.chrome.options import Options\n",
    "from selenium.webdriver.common.by import By\n",
    "\n",
    "\n",
    "from bs4 import BeautifulSoup\n",
    "\n",
    "\n",
    "#Google sheed API\n",
    "import gspread\n",
    "from google.oauth2.service_account import Credentials\n",
    "from oauth2client.service_account import ServiceAccountCredentials\n",
    "from googleapiclient.discovery import build\n",
    "from googleapiclient.http import MediaFileUpload\n",
    "\n",
    "#Execute shell commands\n",
    "import subprocess"
   ]
  },
  {
   "cell_type": "markdown",
   "metadata": {},
   "source": [
    "---\n",
    "---"
   ]
  },
  {
   "cell_type": "markdown",
   "metadata": {},
   "source": [
    "## Functions"
   ]
  },
  {
   "cell_type": "code",
   "execution_count": 2,
   "metadata": {},
   "outputs": [],
   "source": [
    "def petition_html(petition):\n",
    "    #Open the petition\n",
    "    driver.execute_script(f\"window.open('https://jira.globaldevtools.bbva.com/browse/{petition}')\")\n",
    "    tabs = driver.window_handles\n",
    "    driver.switch_to.window(tabs[-1])\n",
    "\n",
    "    description = driver.find_elements(By.XPATH, \"//div[@class='user-content-block']\")\n",
    "    descriptions = []\n",
    "    for desc in description:\n",
    "        descriptions.append(desc.get_attribute('innerHTML'))\n",
    "    \n",
    "    \n",
    "    driver.switch_to.window(tabs[0])\n",
    "    time.sleep(2)\n",
    "    return descriptions"
   ]
  },
  {
   "cell_type": "markdown",
   "metadata": {},
   "source": []
  },
  {
   "cell_type": "markdown",
   "metadata": {},
   "source": [
    "---"
   ]
  },
  {
   "cell_type": "markdown",
   "metadata": {},
   "source": [
    "### Google sheets connection"
   ]
  },
  {
   "cell_type": "code",
   "execution_count": 3,
   "metadata": {},
   "outputs": [
    {
     "name": "stdout",
     "output_type": "stream",
     "text": [
      "Error: ('invalid_grant: Invalid JWT Signature.', {'error': 'invalid_grant', 'error_description': 'Invalid JWT Signature.'})\n"
     ]
    }
   ],
   "source": [
    "# Email service account that need to share the google sheet\n",
    "service_account_email = \"matiasblaquier@theta-voyager-406314.iam.gserviceaccount.com\"\n",
    "\n",
    "#email that need to share the google sheet = matiasblaquier@theta-voyager-406314.iam.gserviceaccount.com\n",
    "scope = [\n",
    "    'https://spreadsheets.google.com/feeds', \n",
    "    'https://www.googleapis.com/auth/spreadsheets',\n",
    "    'https://www.googleapis.com/auth/drive'\n",
    "    ]\n",
    "\n",
    "credentials = \"credentials.json\"\n",
    "\n",
    "try: \n",
    "    #Cargar credenciales\n",
    "    creds = ServiceAccountCredentials.from_json_keyfile_name(credentials, scope)\n",
    "\n",
    "    #Autorizar gspread con las credenciales\n",
    "    client = gspread.authorize(creds)\n",
    "\n",
    "    # ID de la hoja de cálculo \n",
    "    srpeadsheet_id = \"1HHbgp6LdxBA35JJC96eX9ezoxuXiZkJYyZAt2uN1rmk\"\n",
    "\n",
    "    # Open the Google Sheet file by ID\n",
    "    spreadsheet = client.open_by_key(srpeadsheet_id)\n",
    "\n",
    "    # List all sheets file\n",
    "    sheets = spreadsheet.worksheets()\n",
    "    print(f\"Available sheeds: {[sheet.title for sheet in sheets]}\")\n",
    "\n",
    "    # Seleccionar la hoja específica por nombre\n",
    "    sheet_name = \"Octubre\"  # Reemplaza con el nombre de tu hoja\n",
    "    sheet = spreadsheet.worksheet(sheet_name)\n",
    "    # Obtener los encabezados esperados\n",
    "    expected_headers = [\"Fecha de alta\", \"Fecha incurrida\", \"Fecha de fin\", \"UUAAA\", \"Código\", \"SDATOOL\", \"Feature\", \"Petición\", \"Geografía\", \"Gestor BBDD\", \"Ámbito\", \"Responsable\", \"Validada\", \"Horas\", \"Comentarios\"]\n",
    "\n",
    "    # Obtener todos los registros de la hoja\n",
    "    data = sheet.get_all_records(expected_headers=expected_headers)\n",
    "    df = pd.DataFrame(data)\n",
    "\n",
    "    # Mostrar las primeras filas del DataFrame\n",
    "    print(df.head())\n",
    "\n",
    "except gspread.exceptions.APIError as e:\n",
    "    print(f\"APIError: {e}\")\n",
    "\n",
    "except Exception as e:\n",
    "    print(f\"Error: {e}\")"
   ]
  },
  {
   "cell_type": "markdown",
   "metadata": {},
   "source": [
    "<p style=\"font-size: 25px; color: #abebc6;\">Limpiamos el Data Frame proveniente del 'excel'</p>"
   ]
  },
  {
   "cell_type": "code",
   "execution_count": 4,
   "metadata": {},
   "outputs": [
    {
     "ename": "NameError",
     "evalue": "name 'df' is not defined",
     "output_type": "error",
     "traceback": [
      "\u001b[1;31m---------------------------------------------------------------------------\u001b[0m",
      "\u001b[1;31mNameError\u001b[0m                                 Traceback (most recent call last)",
      "Cell \u001b[1;32mIn[4], line 2\u001b[0m\n\u001b[0;32m      1\u001b[0m \u001b[38;5;66;03m# Eliminar filas vacías y columnas que no van\u001b[39;00m\n\u001b[1;32m----> 2\u001b[0m df \u001b[38;5;241m=\u001b[39m df[df[\u001b[38;5;124m\"\u001b[39m\u001b[38;5;124mFecha de alta\u001b[39m\u001b[38;5;124m\"\u001b[39m] \u001b[38;5;241m!=\u001b[39m \u001b[38;5;124m\"\u001b[39m\u001b[38;5;124m\"\u001b[39m]\n\u001b[0;32m      3\u001b[0m \u001b[38;5;28;01mtry\u001b[39;00m: \n\u001b[0;32m      4\u001b[0m     df\u001b[38;5;241m.\u001b[39mdrop(columns\u001b[38;5;241m=\u001b[39m[\u001b[38;5;124m\"\u001b[39m\u001b[38;5;124m\"\u001b[39m], inplace\u001b[38;5;241m=\u001b[39m\u001b[38;5;28;01mTrue\u001b[39;00m)\n",
      "\u001b[1;31mNameError\u001b[0m: name 'df' is not defined"
     ]
    }
   ],
   "source": [
    "# Eliminar filas vacías y columnas que no van\n",
    "df = df[df[\"Fecha de alta\"] != \"\"]\n",
    "try: \n",
    "    df.drop(columns=[\"\"], inplace=True)\n",
    "except KeyError:\n",
    "    pass\n",
    "# Convertir las fechas a formato datetime\n",
    "df[[\"Fecha de alta\", \"Fecha incurrida\", \"Fecha de fin\"]] = df[[\"Fecha de alta\", \"Fecha incurrida\", \"Fecha de fin\"]].apply(pd.to_datetime, format=\"%d/%m/%Y\")\n",
    "\n",
    "# Reemplazar celdas vacías por None\n",
    "df.replace(\"\", None, inplace=True)\n",
    "\n",
    "df"
   ]
  },
  {
   "cell_type": "markdown",
   "metadata": {},
   "source": [
    "---"
   ]
  },
  {
   "cell_type": "code",
   "execution_count": 5,
   "metadata": {},
   "outputs": [
    {
     "name": "stdout",
     "output_type": "stream",
     "text": [
      "El puerto 9222 no está en uso en 127.0.0.1.\n"
     ]
    }
   ],
   "source": [
    "import socket\n",
    "\n",
    "def check_port_in_use(port, host='127.0.0.1'):\n",
    "    with socket.socket(socket.AF_INET, socket.SOCK_STREAM) as s:\n",
    "        return s.connect_ex((host, port)) == 0\n",
    "\n",
    "port = 9222\n",
    "host = '127.0.0.1'\n",
    "if check_port_in_use(port, host):\n",
    "    print(f\"El puerto {port} está en uso en {host}.\")\n",
    "else:\n",
    "    print(f\"El puerto {port} no está en uso en {host}.\")"
   ]
  },
  {
   "cell_type": "markdown",
   "metadata": {},
   "source": [
    "---"
   ]
  },
  {
   "cell_type": "markdown",
   "metadata": {},
   "source": [
    "<p style=\"text-align: center; font-size: 35px; color: #9EDF9C\">Operative system</p>"
   ]
  },
  {
   "cell_type": "code",
   "execution_count": 6,
   "metadata": {},
   "outputs": [
    {
     "name": "stderr",
     "output_type": "stream",
     "text": [
      "<>:25: SyntaxWarning: invalid escape sequence '\\P'\n",
      "<>:25: SyntaxWarning: invalid escape sequence '\\P'\n",
      "C:\\Users\\matia\\AppData\\Local\\Temp\\ipykernel_27728\\1609307265.py:25: SyntaxWarning: invalid escape sequence '\\P'\n",
      "  command = '\"C:\\Program Files\\Google\\Chrome\\Application\\chrome.exe\" --remote-debugging-port=9222 --user-data-dir=\"C:\\chrome_debug\"'\n"
     ]
    },
    {
     "name": "stdout",
     "output_type": "stream",
     "text": [
      "El puerto 9222 está en uso:\n",
      "  TCP    127.0.0.1:9222         0.0.0.0:0              LISTENING       6148\n",
      "  TCP    127.0.0.1:9222         127.0.0.1:52246        TIME_WAIT       0\n",
      "  TCP    127.0.0.1:9222         127.0.0.1:52247        TIME_WAIT       0\n",
      "  TCP    127.0.0.1:9222         127.0.0.1:52264        FIN_WAIT_2      5648\n",
      "  TCP    127.0.0.1:9222         127.0.0.1:52265        TIME_WAIT       0\n",
      "  TCP    127.0.0.1:52264        127.0.0.1:9222         CLOSE_WAIT      9708\n",
      "\n"
     ]
    }
   ],
   "source": [
    "import platform\n",
    "\n",
    "if platform.system() == \"Darwin\": # macOS\n",
    "    # Comand to open chrome in debug mode\n",
    "    chrome_command = [\n",
    "        \"/Applications/Google Chrome.app/Contents/MacOS/Google Chrome\",\n",
    "        \"--remote-debugging-port=9222\",\n",
    "        \"--user-data-dir=/Users/matiasblaquier/chrome_debug\"\n",
    "    ]\n",
    "\n",
    "    # Execute the command\n",
    "    subprocess.Popen(chrome_command)\n",
    "\n",
    "    #Configuracion controlador de Safari\n",
    "    options = webdriver.ChromeOptions()\n",
    "    options.add_experimental_option('debuggerAddress', 'localhost:9222')\n",
    "\n",
    "    #configuracion del controladore de Chrome\n",
    "    driver = webdriver.Chrome(options=options)\n",
    "\n",
    "elif platform.system() == \"Windows\":\n",
    "    from webdriver_manager.chrome import ChromeDriverManager\n",
    "    \n",
    "    #Ejecutar el comando en el cmd\n",
    "    command = '\"C:\\Program Files\\Google\\Chrome\\Application\\chrome.exe\" --remote-debugging-port=9222 --user-data-dir=\"C:\\chrome_debug\"'\n",
    "    process = subprocess.Popen(command, shell=True)\n",
    "    time.sleep(2)\n",
    "\n",
    "    #Verifield if the port 9222 is open\n",
    "    command_check = \"netstat -ano | findstr 9222\"\n",
    "    process_check = subprocess.Popen(command_check, shell=True, stdout=subprocess.PIPE, stderr=subprocess.PIPE)\n",
    "    stdout, stderr = process_check.communicate()\n",
    "    if stdout:\n",
    "        print(\"El puerto 9222 está en uso:\")\n",
    "        print(stdout.decode())\n",
    "    else:\n",
    "        print(\"El puerto 9222 no está en uso o hubo un error:\")\n",
    "        print(stderr.decode())\n",
    "\n",
    "    #Configurar las opciones de Chrome para conectarse a la instancia Chrome existente\n",
    "    chrome_options = Options()\n",
    "    chrome_options.add_experimental_option(\"debuggerAddress\", \"127.0.0.1:9222\")\n",
    "\n",
    "    #Configuración del controlador de Chrome\n",
    "    service = Service(ChromeDriverManager().install())\n",
    "    driver = webdriver.Chrome(service=service, options=chrome_options)\n",
    "\n",
    "    html = driver.page_source"
   ]
  },
  {
   "cell_type": "markdown",
   "metadata": {},
   "source": [
    "---"
   ]
  },
  {
   "cell_type": "markdown",
   "metadata": {},
   "source": [
    "<p style=\"text-align: center; font-size: 35px; color: skyblue;\">Going into HELIX</p>"
   ]
  },
  {
   "cell_type": "markdown",
   "metadata": {},
   "source": [
    "### Getting HELIX info"
   ]
  },
  {
   "cell_type": "code",
   "execution_count": 8,
   "metadata": {},
   "outputs": [
    {
     "name": "stdout",
     "output_type": "stream",
     "text": [
      "9\n",
      "WO0000101357523\n",
      "WO0000101354384\n",
      "WO0000101350936\n",
      "WO0000101350890\n",
      "WO0000101348011\n",
      "WO0000101340947\n",
      "WO0000101337874\n",
      "TAS000020209091\n",
      "TAS000020208456\n"
     ]
    }
   ],
   "source": [
    "driver.get(\"https://itsmhelixbbva-smartit.onbmc.com/smartit/app/#/ticket-console\")\n",
    "time.sleep(5)\n",
    "\n",
    "#Get from HTML WEB\n",
    "pag_elements = driver.find_elements(By.XPATH, \"//div[@class='ngCellText ng-scope col2 colt2']\")\n",
    "content_important = []\n",
    "for element in pag_elements:\n",
    "    pag_element = element.get_attribute('innerHTML')\n",
    "    content_important.append(pag_element[122: 137])\n",
    "\n",
    "print(len(content_important))\n",
    "for i in content_important: \n",
    "    print(i)"
   ]
  },
  {
   "cell_type": "markdown",
   "metadata": {},
   "source": [
    "---"
   ]
  },
  {
   "cell_type": "code",
   "execution_count": null,
   "metadata": {},
   "outputs": [
    {
     "data": {
      "text/html": [
       "<div>\n",
       "<style scoped>\n",
       "    .dataframe tbody tr th:only-of-type {\n",
       "        vertical-align: middle;\n",
       "    }\n",
       "\n",
       "    .dataframe tbody tr th {\n",
       "        vertical-align: top;\n",
       "    }\n",
       "\n",
       "    .dataframe thead th {\n",
       "        text-align: right;\n",
       "    }\n",
       "</style>\n",
       "<table border=\"1\" class=\"dataframe\">\n",
       "  <thead>\n",
       "    <tr style=\"text-align: right;\">\n",
       "      <th></th>\n",
       "      <th>Fecha de alta</th>\n",
       "      <th>Fecha incurrida</th>\n",
       "      <th>Fecha de fin</th>\n",
       "      <th>UUAAA</th>\n",
       "      <th>Código</th>\n",
       "      <th>SDATOOL</th>\n",
       "      <th>Feature</th>\n",
       "      <th>Petición</th>\n",
       "      <th>Geografía</th>\n",
       "      <th>Gestor BBDD</th>\n",
       "      <th>Ámbito</th>\n",
       "      <th>Responsable</th>\n",
       "      <th>Validada</th>\n",
       "      <th>Horas</th>\n",
       "      <th>Comentarios</th>\n",
       "      <th>Estado</th>\n",
       "    </tr>\n",
       "  </thead>\n",
       "  <tbody>\n",
       "    <tr>\n",
       "      <th>0</th>\n",
       "      <td>2024-09-24</td>\n",
       "      <td>2024-10-01</td>\n",
       "      <td>2024-10-01</td>\n",
       "      <td>KESJ</td>\n",
       "      <td>DQ-DP-007019</td>\n",
       "      <td>45403</td>\n",
       "      <td>AUDLEGGES4-249</td>\n",
       "      <td>REQ000101515343</td>\n",
       "      <td>España</td>\n",
       "      <td>PosgreSQL</td>\n",
       "      <td>Legacy</td>\n",
       "      <td>David</td>\n",
       "      <td>Si</td>\n",
       "      <td>3</td>\n",
       "      <td>Pendiente DROP, volver a hacer check-in</td>\n",
       "      <td>Cerrado</td>\n",
       "    </tr>\n",
       "    <tr>\n",
       "      <th>1</th>\n",
       "      <td>2024-09-24</td>\n",
       "      <td>2024-10-01</td>\n",
       "      <td>2024-10-01</td>\n",
       "      <td>KESJ</td>\n",
       "      <td>DQ-DP-007019</td>\n",
       "      <td>45403</td>\n",
       "      <td>AUDLEGGES4-249</td>\n",
       "      <td>REQ000101515343</td>\n",
       "      <td>España</td>\n",
       "      <td>PosgreSQL</td>\n",
       "      <td>Legacy</td>\n",
       "      <td>Matías</td>\n",
       "      <td>No</td>\n",
       "      <td>3</td>\n",
       "      <td>Pendiente DROP, volver a hacer check-in</td>\n",
       "      <td>Cerrado</td>\n",
       "    </tr>\n",
       "    <tr>\n",
       "      <th>2</th>\n",
       "      <td>2024-09-27</td>\n",
       "      <td>2024-10-01</td>\n",
       "      <td>2024-10-01</td>\n",
       "      <td>FACC</td>\n",
       "      <td>DQ-DP-007037</td>\n",
       "      <td>34644</td>\n",
       "      <td>ADH-678</td>\n",
       "      <td>OTRSSD-17407</td>\n",
       "      <td>España</td>\n",
       "      <td>Oracle Physics</td>\n",
       "      <td>NextGEN</td>\n",
       "      <td>David</td>\n",
       "      <td>Si</td>\n",
       "      <td>0.5</td>\n",
       "      <td>None</td>\n",
       "      <td>Cerrado</td>\n",
       "    </tr>\n",
       "    <tr>\n",
       "      <th>3</th>\n",
       "      <td>2024-09-27</td>\n",
       "      <td>2024-10-01</td>\n",
       "      <td>2024-10-01</td>\n",
       "      <td>KHFC</td>\n",
       "      <td>None</td>\n",
       "      <td>None</td>\n",
       "      <td>None</td>\n",
       "      <td>OTRSSD-17408</td>\n",
       "      <td>None</td>\n",
       "      <td>Oracle Physics</td>\n",
       "      <td>NextGEN</td>\n",
       "      <td>Pedro</td>\n",
       "      <td>No</td>\n",
       "      <td>1</td>\n",
       "      <td>Descartada</td>\n",
       "      <td>Cerrado</td>\n",
       "    </tr>\n",
       "    <tr>\n",
       "      <th>4</th>\n",
       "      <td>2024-09-30</td>\n",
       "      <td>2024-10-01</td>\n",
       "      <td>2024-10-01</td>\n",
       "      <td>MCRR</td>\n",
       "      <td>DQ-DP-007041</td>\n",
       "      <td>38358</td>\n",
       "      <td>ADH-690</td>\n",
       "      <td>OTRSSD-17410</td>\n",
       "      <td>Global</td>\n",
       "      <td>Oracle Physics</td>\n",
       "      <td>NextGEN</td>\n",
       "      <td>David</td>\n",
       "      <td>Si</td>\n",
       "      <td>1.5</td>\n",
       "      <td>None</td>\n",
       "      <td>Cerrado</td>\n",
       "    </tr>\n",
       "    <tr>\n",
       "      <th>...</th>\n",
       "      <td>...</td>\n",
       "      <td>...</td>\n",
       "      <td>...</td>\n",
       "      <td>...</td>\n",
       "      <td>...</td>\n",
       "      <td>...</td>\n",
       "      <td>...</td>\n",
       "      <td>...</td>\n",
       "      <td>...</td>\n",
       "      <td>...</td>\n",
       "      <td>...</td>\n",
       "      <td>...</td>\n",
       "      <td>...</td>\n",
       "      <td>...</td>\n",
       "      <td>...</td>\n",
       "      <td>...</td>\n",
       "    </tr>\n",
       "    <tr>\n",
       "      <th>243</th>\n",
       "      <td>2024-11-11</td>\n",
       "      <td>NaT</td>\n",
       "      <td>NaT</td>\n",
       "      <td>KDHL</td>\n",
       "      <td>90</td>\n",
       "      <td>None</td>\n",
       "      <td>None</td>\n",
       "      <td>OTRSSD-18072</td>\n",
       "      <td>España</td>\n",
       "      <td>Oracle Physics</td>\n",
       "      <td>NextGEN</td>\n",
       "      <td>None</td>\n",
       "      <td>None</td>\n",
       "      <td>25/11</td>\n",
       "      <td>Pedir información</td>\n",
       "      <td>Backlog</td>\n",
       "    </tr>\n",
       "    <tr>\n",
       "      <th>244</th>\n",
       "      <td>2024-11-12</td>\n",
       "      <td>NaT</td>\n",
       "      <td>NaT</td>\n",
       "      <td>KENA</td>\n",
       "      <td>91</td>\n",
       "      <td>None</td>\n",
       "      <td>None</td>\n",
       "      <td>KENA_20241106115046</td>\n",
       "      <td>España</td>\n",
       "      <td>DB2 Host</td>\n",
       "      <td>HOST</td>\n",
       "      <td>None</td>\n",
       "      <td>None</td>\n",
       "      <td>25/11</td>\n",
       "      <td>Pedir información. Campo nuevo</td>\n",
       "      <td>Backlog</td>\n",
       "    </tr>\n",
       "    <tr>\n",
       "      <th>245</th>\n",
       "      <td>2024-11-12</td>\n",
       "      <td>NaT</td>\n",
       "      <td>NaT</td>\n",
       "      <td>KCOG</td>\n",
       "      <td>None</td>\n",
       "      <td>27522</td>\n",
       "      <td>ALPHATC-685</td>\n",
       "      <td>OTRSSD-18089</td>\n",
       "      <td>Global</td>\n",
       "      <td>Oracle Physics</td>\n",
       "      <td>NextGEN</td>\n",
       "      <td>None</td>\n",
       "      <td>None</td>\n",
       "      <td>25/11</td>\n",
       "      <td>None</td>\n",
       "      <td>Backlog</td>\n",
       "    </tr>\n",
       "    <tr>\n",
       "      <th>246</th>\n",
       "      <td>2024-11-13</td>\n",
       "      <td>NaT</td>\n",
       "      <td>NaT</td>\n",
       "      <td>KMET</td>\n",
       "      <td>93</td>\n",
       "      <td>44829</td>\n",
       "      <td>WSONEPLA14-879</td>\n",
       "      <td>OTRSSD-18102</td>\n",
       "      <td>Global</td>\n",
       "      <td>Oracle Physics</td>\n",
       "      <td>NextGEN</td>\n",
       "      <td>None</td>\n",
       "      <td>None</td>\n",
       "      <td>25/11</td>\n",
       "      <td>None</td>\n",
       "      <td>Backlog</td>\n",
       "    </tr>\n",
       "    <tr>\n",
       "      <th>247</th>\n",
       "      <td>2024-11-13</td>\n",
       "      <td>NaT</td>\n",
       "      <td>NaT</td>\n",
       "      <td>SRII</td>\n",
       "      <td>94</td>\n",
       "      <td>None</td>\n",
       "      <td>None</td>\n",
       "      <td>WO0000101258114</td>\n",
       "      <td>España</td>\n",
       "      <td>Oracle Physics</td>\n",
       "      <td>NextGEN</td>\n",
       "      <td>None</td>\n",
       "      <td>None</td>\n",
       "      <td>25/11</td>\n",
       "      <td>Pedir información</td>\n",
       "      <td>Backlog</td>\n",
       "    </tr>\n",
       "  </tbody>\n",
       "</table>\n",
       "<p>248 rows × 16 columns</p>\n",
       "</div>"
      ],
      "text/plain": [
       "    Fecha de alta Fecha incurrida Fecha de fin UUAAA        Código SDATOOL  \\\n",
       "0      2024-09-24      2024-10-01   2024-10-01  KESJ  DQ-DP-007019   45403   \n",
       "1      2024-09-24      2024-10-01   2024-10-01  KESJ  DQ-DP-007019   45403   \n",
       "2      2024-09-27      2024-10-01   2024-10-01  FACC  DQ-DP-007037   34644   \n",
       "3      2024-09-27      2024-10-01   2024-10-01  KHFC          None    None   \n",
       "4      2024-09-30      2024-10-01   2024-10-01  MCRR  DQ-DP-007041   38358   \n",
       "..            ...             ...          ...   ...           ...     ...   \n",
       "243    2024-11-11             NaT          NaT  KDHL            90    None   \n",
       "244    2024-11-12             NaT          NaT  KENA            91    None   \n",
       "245    2024-11-12             NaT          NaT  KCOG          None   27522   \n",
       "246    2024-11-13             NaT          NaT  KMET            93   44829   \n",
       "247    2024-11-13             NaT          NaT  SRII            94    None   \n",
       "\n",
       "            Feature             Petición Geografía     Gestor BBDD   Ámbito  \\\n",
       "0    AUDLEGGES4-249      REQ000101515343    España       PosgreSQL   Legacy   \n",
       "1    AUDLEGGES4-249      REQ000101515343    España       PosgreSQL   Legacy   \n",
       "2           ADH-678         OTRSSD-17407    España  Oracle Physics  NextGEN   \n",
       "3              None         OTRSSD-17408      None  Oracle Physics  NextGEN   \n",
       "4           ADH-690         OTRSSD-17410    Global  Oracle Physics  NextGEN   \n",
       "..              ...                  ...       ...             ...      ...   \n",
       "243            None         OTRSSD-18072    España  Oracle Physics  NextGEN   \n",
       "244            None  KENA_20241106115046    España        DB2 Host     HOST   \n",
       "245     ALPHATC-685         OTRSSD-18089    Global  Oracle Physics  NextGEN   \n",
       "246  WSONEPLA14-879         OTRSSD-18102    Global  Oracle Physics  NextGEN   \n",
       "247            None      WO0000101258114    España  Oracle Physics  NextGEN   \n",
       "\n",
       "    Responsable Validada  Horas                              Comentarios  \\\n",
       "0         David       Si      3  Pendiente DROP, volver a hacer check-in   \n",
       "1        Matías       No      3  Pendiente DROP, volver a hacer check-in   \n",
       "2         David       Si    0.5                                     None   \n",
       "3         Pedro       No      1                               Descartada   \n",
       "4         David       Si    1.5                                     None   \n",
       "..          ...      ...    ...                                      ...   \n",
       "243        None     None  25/11                        Pedir información   \n",
       "244        None     None  25/11           Pedir información. Campo nuevo   \n",
       "245        None     None  25/11                                     None   \n",
       "246        None     None  25/11                                     None   \n",
       "247        None     None  25/11                        Pedir información   \n",
       "\n",
       "      Estado  \n",
       "0    Cerrado  \n",
       "1    Cerrado  \n",
       "2    Cerrado  \n",
       "3    Cerrado  \n",
       "4    Cerrado  \n",
       "..       ...  \n",
       "243  Backlog  \n",
       "244  Backlog  \n",
       "245  Backlog  \n",
       "246  Backlog  \n",
       "247  Backlog  \n",
       "\n",
       "[248 rows x 16 columns]"
      ]
     },
     "execution_count": 8,
     "metadata": {},
     "output_type": "execute_result"
    }
   ],
   "source": [
    "df"
   ]
  },
  {
   "cell_type": "code",
   "execution_count": null,
   "metadata": {},
   "outputs": [
    {
     "data": {
      "text/plain": [
       "Ámbito\n",
       "HOST        35\n",
       "Legacy      25\n",
       "NextGEN    188\n",
       "Name: Ámbito, dtype: int64"
      ]
     },
     "execution_count": 9,
     "metadata": {},
     "output_type": "execute_result"
    }
   ],
   "source": [
    "df[\"Ámbito\"].groupby(df[\"Ámbito\"]).count()"
   ]
  },
  {
   "cell_type": "code",
   "execution_count": null,
   "metadata": {},
   "outputs": [
    {
     "name": "stdout",
     "output_type": "stream",
     "text": [
      "248 185 \n",
      " Peticiones pendientes: 63\n"
     ]
    },
    {
     "name": "stderr",
     "output_type": "stream",
     "text": [
      "Attempting to use a delegate that only supports static-sized tensors with a graph that has dynamic-sized tensors (tensor#141 is a dynamic-sized tensor).\n",
      "[8702:14083:1209/204129.976782:ERROR:ssl_client_socket_impl.cc(878)] handshake failed; returned -1, SSL error code 1, net_error -101\n",
      "[8702:14083:1209/204129.977166:ERROR:ssl_client_socket_impl.cc(878)] handshake failed; returned -1, SSL error code 1, net_error -101\n"
     ]
    }
   ],
   "source": [
    "print(df[\"Fecha de alta\"].count(), df[\"Fecha de fin\"].count(), \"\\n Peticiones pendientes:\", df[\"Fecha de alta\"].count() - df[\"Fecha de fin\"].count())"
   ]
  },
  {
   "cell_type": "code",
   "execution_count": null,
   "metadata": {},
   "outputs": [],
   "source": []
  }
 ],
 "metadata": {
  "kernelspec": {
   "display_name": "base",
   "language": "python",
   "name": "python3"
  },
  "language_info": {
   "codemirror_mode": {
    "name": "ipython",
    "version": 3
   },
   "file_extension": ".py",
   "mimetype": "text/x-python",
   "name": "python",
   "nbconvert_exporter": "python",
   "pygments_lexer": "ipython3",
   "version": "3.12.4"
  }
 },
 "nbformat": 4,
 "nbformat_minor": 2
}
